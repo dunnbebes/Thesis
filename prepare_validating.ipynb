{
 "cells": [
  {
   "cell_type": "code",
   "execution_count": null,
   "metadata": {},
   "outputs": [],
   "source": [
    "instances           = {}\n",
    "\n",
    "import numpy as np\n",
    "import pandas as pd\n",
    "import copy\n",
    "import time\n",
    "import pickle\n",
    "from util.util_load         import read_txt\n",
    "from util.util_display      import plot\n",
    "from env_action.metaheu     import GeneticAlgorithm, random_population\n",
    "from env_action.data_indentifier import InstanceData\n",
    "from env_action.action_space import action_space\n",
    "\n",
    "directory           = 'SMALL'\n",
    "planning_horizon    = 480*60\n",
    "ReworkProbability   = 0.03\n",
    "# CaseList            = ['_fixed_instance'] + [case+1 for case in range(1,48)]\n",
    "\n",
    "PopSize             = 150\n",
    "action_name            = [\"GA\", \"TS\", \n",
    "                          \"LFOH\", \"LAPH\", \"LAP_LFO\", \n",
    "                          \"LFOH_TS\", \"LAPH_TS\", \"LFOH_GA\", \"LAPH_GA\",\n",
    "                          \"CDR1\", \"CDR2\", \"CDR3\", \"CDR4\", \"CDR5\", \"CDR6\",\n",
    "                          \"RCRS\"]"
   ]
  },
  {
   "cell_type": "code",
   "execution_count": null,
   "metadata": {},
   "outputs": [],
   "source": [
    "# CaseList            = [f'valid{set+1}' for set in range(12)]\n",
    "# # CaseList =  ['valid11', 'valid12']\n",
    "# maxtime             = 10\n",
    "\n",
    "# # Run only once\n",
    "# for CaseID in CaseList:\n",
    "#     print(CaseID)\n",
    "#     data_path = f\"VALIDATION/SMALL/Case{CaseID}_480.txt\"\n",
    "\n",
    "#     J, I, K, p_ijk, h_ijk,   \\\n",
    "#     d_j, n_j, MC_ji, n_MC_ji,\\\n",
    "#     OperationPool          = read_txt(data_path)\n",
    "\n",
    "#     S_k                    = np.zeros((K))\n",
    "#     S_j                    = np.zeros((J))\n",
    "#     n_ops_left_j           = copy.deepcopy(n_j)\n",
    "#     MB_record = {}\n",
    "#     t                      = 0\n",
    "#     JSet                   = list(range(J))\n",
    "#     OJSet                  = [[] for _ in range(J)]\n",
    "#     for j in JSet:\n",
    "#         OJSet[j]           = [i for i in range(int(n_j[j]))]\n",
    "\n",
    "#     T_cur = 0\n",
    "#     Tard_job = 0\n",
    "#     Oij_on_machine = 0\n",
    "#     affected_Oij = 0\n",
    "#     NewJobList = 0\n",
    "#     CT_k = 0\n",
    "#     X_ijk = 0\n",
    "#     S_ij = 0\n",
    "#     re = 0\n",
    "#     C_ij = 0\n",
    "#     C_j = 0\n",
    "\n",
    "#     action_method \t\t\t\t\t\t         = action_space(J, I, K, p_ijk, h_ijk, d_j, n_j, \n",
    "#                                                                 MC_ji, n_MC_ji, n_ops_left_j, OperationPool, S_k, S_j, \n",
    "#                                                                 JSet, OJSet, affected_Oij, \n",
    "#                                                                 t, X_ijk, S_ij, C_ij, C_j, CT_k, T_cur, Tard_job,\n",
    "#                                                                 NewJobList, PopSize, maxtime, re)\n",
    "#     action_id                                    = 3\n",
    "#     print(action_name[action_id])\n",
    "\n",
    "#     reschedule\t\t\t\t\t\t\t         = action_method[action_id]\n",
    "#     GBest, X_ijk, S_ij, C_ij, C_j                = reschedule()\n",
    "#     fig1 = plot(J, K, n_j, X_ijk, S_ij, C_ij, MB_record, t)\n",
    "#     display(fig1)\n",
    "#     instances[CaseID]             = InstanceData(J, I, X_ijk, S_ij, C_ij, C_j, p_ijk, h_ijk, \n",
    "#                                                     d_j, n_j, MC_ji, n_MC_ji, OperationPool)\n"
   ]
  },
  {
   "cell_type": "code",
   "execution_count": null,
   "metadata": {},
   "outputs": [],
   "source": [
    "# # Store data\n",
    "# with open('VALIDATION/SMALL/pickle_valid_instances_480.pkl', 'wb') as f:\n",
    "#     pickle.dump(instances, f)"
   ]
  },
  {
   "cell_type": "code",
   "execution_count": 3,
   "metadata": {},
   "outputs": [],
   "source": [
    "from util.util_load              import read_scenario\n",
    "from env_action.data_indentifier import ScenarioData\n",
    "\n",
    "import pickle\n",
    "K = 30\n",
    "scenarios           = {}\n",
    "critical_machines   = {5, 6, 7, 8, 9, 10, 11, 12, 13, 21, 22, 26, 27}\n",
    "ScenarioList        = ['A', 'B', 'C']\n",
    "\n",
    "SetList = [f'valid{set+1}' for set in range(12)]\n",
    "for Set in SetList:\n",
    "    for ScenarioID in ScenarioList:\n",
    "        scenario_path = f\"VALIDATION/SMALL/Scenario{Set}{ScenarioID}_480.txt\"\n",
    "        JA_event, MB_event     = read_scenario(scenario_path, K, critical_machines)\n",
    "        scenarios[Set+ScenarioID]  = ScenarioData(JA_event, MB_event)\n",
    "\n",
    "with open('VALIDATION/SMALL/pickle_valid_scenarios_480.pkl', 'wb') as f:\n",
    "    pickle.dump(scenarios, f)"
   ]
  },
  {
   "cell_type": "code",
   "execution_count": null,
   "metadata": {},
   "outputs": [],
   "source": []
  }
 ],
 "metadata": {
  "kernelspec": {
   "display_name": "dunnbebes",
   "language": "python",
   "name": "python3"
  },
  "language_info": {
   "codemirror_mode": {
    "name": "ipython",
    "version": 3
   },
   "file_extension": ".py",
   "mimetype": "text/x-python",
   "name": "python",
   "nbconvert_exporter": "python",
   "pygments_lexer": "ipython3",
   "version": "3.10.14"
  }
 },
 "nbformat": 4,
 "nbformat_minor": 2
}
