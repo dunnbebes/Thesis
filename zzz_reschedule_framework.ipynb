{
 "cells": [
  {
   "cell_type": "code",
   "execution_count": 1,
   "metadata": {},
   "outputs": [
    {
     "ename": "ModuleNotFoundError",
     "evalue": "No module named 'metaheu'",
     "output_type": "error",
     "traceback": [
      "\u001b[1;31m---------------------------------------------------------------------------\u001b[0m",
      "\u001b[1;31mModuleNotFoundError\u001b[0m                       Traceback (most recent call last)",
      "Cell \u001b[1;32mIn[1], line 9\u001b[0m\n\u001b[0;32m      7\u001b[0m \u001b[38;5;28;01mfrom\u001b[39;00m \u001b[38;5;21;01mutil\u001b[39;00m\u001b[38;5;21;01m.\u001b[39;00m\u001b[38;5;21;01mutil_display\u001b[39;00m          \u001b[38;5;28;01mimport\u001b[39;00m plot, pretty_table\n\u001b[0;32m      8\u001b[0m \u001b[38;5;28;01mfrom\u001b[39;00m \u001b[38;5;21;01maction_env\u001b[39;00m\u001b[38;5;21;01m.\u001b[39;00m\u001b[38;5;21;01mmetaheu\u001b[39;00m         \u001b[38;5;28;01mimport\u001b[39;00m GeneticAlgorithm\n\u001b[1;32m----> 9\u001b[0m \u001b[38;5;28;01mfrom\u001b[39;00m \u001b[38;5;21;01maction_env\u001b[39;00m\u001b[38;5;21;01m.\u001b[39;00m\u001b[38;5;21;01maction_space\u001b[39;00m    \u001b[38;5;28;01mimport\u001b[39;00m action_space\n\u001b[0;32m     11\u001b[0m maxtime                \u001b[38;5;241m=\u001b[39m \u001b[38;5;241m15\u001b[39m\n\u001b[0;32m     12\u001b[0m maxtimeacceptnewjob    \u001b[38;5;241m=\u001b[39m \u001b[38;5;241m150\u001b[39m\n",
      "File \u001b[1;32md:\\D\\University\\4th year\\Thesis\\Code T5\\action_env\\action_space.py:10\u001b[0m\n\u001b[0;32m      8\u001b[0m \u001b[38;5;28;01mfrom\u001b[39;00m \u001b[38;5;21;01mtime\u001b[39;00m                   \u001b[38;5;28;01mimport\u001b[39;00m time\n\u001b[0;32m      9\u001b[0m \u001b[38;5;28;01mfrom\u001b[39;00m \u001b[38;5;21;01mpulp\u001b[39;00m                   \u001b[38;5;28;01mimport\u001b[39;00m \u001b[38;5;241m*\u001b[39m\n\u001b[1;32m---> 10\u001b[0m \u001b[38;5;28;01mfrom\u001b[39;00m \u001b[38;5;21;01mmetaheu\u001b[39;00m                \u001b[38;5;28;01mimport\u001b[39;00m GeneticAlgorithm\n\u001b[0;32m     11\u001b[0m \u001b[38;5;28;01mfrom\u001b[39;00m \u001b[38;5;21;01mutil\u001b[39;00m\u001b[38;5;21;01m.\u001b[39;00m\u001b[38;5;21;01mutil_action\u001b[39;00m       \u001b[38;5;28;01mimport\u001b[39;00m find_Mch_seq, evaluate_LocalCost, RightShift\n\u001b[0;32m     12\u001b[0m \u001b[38;5;28;01mfrom\u001b[39;00m \u001b[38;5;21;01mscipy\u001b[39;00m\u001b[38;5;21;01m.\u001b[39;00m\u001b[38;5;21;01moptimize\u001b[39;00m         \u001b[38;5;28;01mimport\u001b[39;00m linear_sum_assignment\n",
      "\u001b[1;31mModuleNotFoundError\u001b[0m: No module named 'metaheu'"
     ]
    }
   ],
   "source": [
    "import numpy as np\n",
    "import pandas as pd\n",
    "import copy\n",
    "import random\n",
    "from util.util_load             import read_txt\n",
    "from util.util_reschedule       import random_events, store_schedule, update_schedule, snapshot\n",
    "from util.util_display          import plot, pretty_table\n",
    "from env_action.metaheu         import GeneticAlgorithm\n",
    "from env_action.action_space    import action_space\n",
    "\n",
    "maxtime                = 15\n",
    "maxtimeacceptnewjob    = 150\n",
    "defectProb             = 0.03\n",
    "\n",
    "action_name            = [\"exact\", \"GA\", \"LFOH\", \"LAPH\", \"LAP_LFO\", \"CDR1\", \"CDR2\", \"CDR4\"]\n",
    "\n",
    "J, I, K, p_ijk, h_ijk,   \\\n",
    "d_j, n_j, MC_ji, n_MC_ji,\\\n",
    "OperationPool            = read_txt(\"data/jobs.txt\")\n",
    "\n",
    "\n",
    "variables = ['J', 'p_ijk', 'h_ijk', 'n_j', 'MC_ji', 'n_MC_ji']\n",
    "for var in variables:\n",
    "    globals()['org_' + var] = copy.deepcopy(globals()[var])\n",
    "\n",
    "S_k                    = np.zeros((K))\n",
    "S_j                    = np.zeros((J))\n",
    "n_ops_left_j           = copy.deepcopy(n_j)\n",
    "MB_info                = np.zeros((0))\n",
    "\n",
    "t                      = 0\n",
    "JSet                   = list(range(J))\n",
    "OJSet                  = [[] for _ in range(J)]\n",
    "for j in JSet:\n",
    "    OJSet[j]           = [i for i in range(int(n_j[j]))]\n",
    "Oij_on_machine         = [[] for _ in range(K)]\n",
    "\n",
    "JA_event               = []\n",
    "MB_event               = [[] for _ in range(K)]\n",
    "events                 = {}\n",
    "MB_record              = {}\n",
    "\n",
    "# Preschedule\n",
    "pre_GBest, X_ijk, S_ij, C_ij, C_j   = GeneticAlgorithm (S_k, S_j, JSet, OJSet, J, I, K, \n",
    "                                                        p_ijk, h_ijk, d_j, n_j, n_ops_left_j, \n",
    "                                                        MC_ji, n_MC_ji, OperationPool, maxtime= 1000)\n",
    "print(\"preschedule\")\n",
    "\n",
    "fig1 = plot(J, K, n_j, X_ijk, S_ij, C_ij, MB_record, t)\n",
    "display(fig1)"
   ]
  },
  {
   "cell_type": "code",
   "execution_count": null,
   "metadata": {},
   "outputs": [
    {
     "name": "stdout",
     "output_type": "stream",
     "text": [
      "GA 31.0\n"
     ]
    },
    {
     "data": {
      "application/vnd.plotly.v1+json": {
       "config": {
        "plotlyServerURL": "https://plot.ly"
       },
       "data": [
        {
         "fill": "toself",
         "fillcolor": "rgb(107, 174, 214)",
         "hoverinfo": "name",
         "legendgroup": "rgb(107, 174, 214)",
         "mode": "none",
         "name": "Job 1",
         "type": "scatter",
         "x": [
          "2024-07-01T08:00:03",
          "2024-07-01T08:00:07",
          "2024-07-01T08:00:07",
          "2024-07-01T08:00:03",
          "2024-07-01T08:00:03",
          "2024-07-01T08:00:29",
          "2024-07-01T08:00:53",
          "2024-07-01T08:00:53",
          "2024-07-01T08:00:29",
          "2024-07-01T08:00:29",
          "2024-07-01T08:00:26",
          "2024-07-01T08:00:29",
          "2024-07-01T08:00:29",
          "2024-07-01T08:00:26"
         ],
         "y": [
          5.8,
          5.8,
          6.2,
          6.2,
          null,
          2.8,
          2.8,
          3.2,
          3.2,
          null,
          0.8,
          0.8,
          1.2,
          1.2
         ]
        },
        {
         "fill": "toself",
         "fillcolor": "rgb(116, 196, 118)",
         "hoverinfo": "name",
         "legendgroup": "rgb(116, 196, 118)",
         "mode": "none",
         "name": "Job 9",
         "type": "scatter",
         "x": [
          "2024-07-01T08:01:31",
          "2024-07-01T08:01:34",
          "2024-07-01T08:01:34",
          "2024-07-01T08:01:31",
          "2024-07-01T08:01:31",
          "2024-07-01T08:02:20",
          "2024-07-01T08:02:44",
          "2024-07-01T08:02:44",
          "2024-07-01T08:02:20",
          "2024-07-01T08:02:20",
          "2024-07-01T08:01:44",
          "2024-07-01T08:01:49",
          "2024-07-01T08:01:49",
          "2024-07-01T08:01:44"
         ],
         "y": [
          5.8,
          5.8,
          6.2,
          6.2,
          null,
          2.8,
          2.8,
          3.2,
          3.2,
          null,
          1.8,
          1.8,
          2.2,
          2.2
         ]
        },
        {
         "fill": "toself",
         "fillcolor": "rgb(117, 107, 177)",
         "hoverinfo": "name",
         "legendgroup": "rgb(117, 107, 177)",
         "mode": "none",
         "name": "Job 12",
         "type": "scatter",
         "x": [
          "2024-07-01T08:00:00",
          "2024-07-01T08:00:04",
          "2024-07-01T08:00:04",
          "2024-07-01T08:00:00",
          "2024-07-01T08:00:00",
          "2024-07-01T08:01:34",
          "2024-07-01T08:01:35",
          "2024-07-01T08:01:35",
          "2024-07-01T08:01:34",
          "2024-07-01T08:01:34",
          "2024-07-01T08:01:53",
          "2024-07-01T08:01:57",
          "2024-07-01T08:01:57",
          "2024-07-01T08:01:53"
         ],
         "y": [
          6.8,
          6.8,
          7.2,
          7.2,
          null,
          5.8,
          5.8,
          6.2,
          6.2,
          null,
          1.8,
          1.8,
          2.2,
          2.2
         ]
        },
        {
         "fill": "toself",
         "fillcolor": "rgb(150, 150, 150)",
         "hoverinfo": "name",
         "legendgroup": "rgb(150, 150, 150)",
         "mode": "none",
         "name": "Job 17",
         "type": "scatter",
         "x": [
          "2024-07-01T08:01:02",
          "2024-07-01T08:01:03",
          "2024-07-01T08:01:03",
          "2024-07-01T08:01:02",
          "2024-07-01T08:01:02",
          "2024-07-01T08:01:08",
          "2024-07-01T08:01:32",
          "2024-07-01T08:01:32",
          "2024-07-01T08:01:08",
          "2024-07-01T08:01:08",
          "2024-07-01T08:01:03",
          "2024-07-01T08:01:08",
          "2024-07-01T08:01:08",
          "2024-07-01T08:01:03"
         ],
         "y": [
          5.8,
          5.8,
          6.2,
          6.2,
          null,
          2.8,
          2.8,
          3.2,
          3.2,
          null,
          1.8,
          1.8,
          2.2,
          2.2
         ]
        },
        {
         "fill": "toself",
         "fillcolor": "rgb(158, 154, 200)",
         "hoverinfo": "name",
         "legendgroup": "rgb(158, 154, 200)",
         "mode": "none",
         "name": "Job 13",
         "type": "scatter",
         "x": [
          "2024-07-01T08:00:11",
          "2024-07-01T08:00:12",
          "2024-07-01T08:00:12",
          "2024-07-01T08:00:11",
          "2024-07-01T08:00:11",
          "2024-07-01T08:01:34",
          "2024-07-01T08:01:58",
          "2024-07-01T08:01:58",
          "2024-07-01T08:01:34",
          "2024-07-01T08:01:34",
          "2024-07-01T08:01:08",
          "2024-07-01T08:01:13",
          "2024-07-01T08:01:13",
          "2024-07-01T08:01:08"
         ],
         "y": [
          5.8,
          5.8,
          6.2,
          6.2,
          null,
          4.8,
          4.8,
          5.2,
          5.2,
          null,
          1.8,
          1.8,
          2.2,
          2.2
         ]
        },
        {
         "fill": "toself",
         "fillcolor": "rgb(158, 202, 225)",
         "hoverinfo": "name",
         "legendgroup": "rgb(158, 202, 225)",
         "mode": "none",
         "name": "Job 2",
         "type": "scatter",
         "x": [
          "2024-07-01T08:01:14",
          "2024-07-01T08:01:17",
          "2024-07-01T08:01:17",
          "2024-07-01T08:01:14",
          "2024-07-01T08:01:14",
          "2024-07-01T08:01:17",
          "2024-07-01T08:01:21",
          "2024-07-01T08:01:21",
          "2024-07-01T08:01:17"
         ],
         "y": [
          5.8,
          5.8,
          6.2,
          6.2,
          null,
          1.8,
          1.8,
          2.2,
          2.2
         ]
        },
        {
         "fill": "toself",
         "fillcolor": "rgb(161, 217, 155)",
         "hoverinfo": "name",
         "legendgroup": "rgb(161, 217, 155)",
         "mode": "none",
         "name": "Job 10",
         "type": "scatter",
         "x": [
          "2024-07-01T08:01:27",
          "2024-07-01T08:01:30",
          "2024-07-01T08:01:30",
          "2024-07-01T08:01:27",
          "2024-07-01T08:01:27",
          "2024-07-01T08:02:23",
          "2024-07-01T08:02:47",
          "2024-07-01T08:02:47",
          "2024-07-01T08:02:23",
          "2024-07-01T08:02:23",
          "2024-07-01T08:01:39",
          "2024-07-01T08:01:44",
          "2024-07-01T08:01:44",
          "2024-07-01T08:01:39"
         ],
         "y": [
          5.8,
          5.8,
          6.2,
          6.2,
          null,
          3.8,
          3.8,
          4.2,
          4.2,
          null,
          1.8,
          1.8,
          2.2,
          2.2
         ]
        },
        {
         "fill": "toself",
         "fillcolor": "rgb(188, 189, 220)",
         "hoverinfo": "name",
         "legendgroup": "rgb(188, 189, 220)",
         "mode": "none",
         "name": "Job 14",
         "type": "scatter",
         "x": [
          "2024-07-01T08:00:07",
          "2024-07-01T08:00:08",
          "2024-07-01T08:00:08",
          "2024-07-01T08:00:07",
          "2024-07-01T08:00:07",
          "2024-07-01T08:01:11",
          "2024-07-01T08:01:35",
          "2024-07-01T08:01:35",
          "2024-07-01T08:01:11",
          "2024-07-01T08:01:11",
          "2024-07-01T08:00:08",
          "2024-07-01T08:00:13",
          "2024-07-01T08:00:13",
          "2024-07-01T08:00:08"
         ],
         "y": [
          5.8,
          5.8,
          6.2,
          6.2,
          null,
          3.8,
          3.8,
          4.2,
          4.2,
          null,
          1.8,
          1.8,
          2.2,
          2.2
         ]
        },
        {
         "fill": "toself",
         "fillcolor": "rgb(189, 189, 189)",
         "hoverinfo": "name",
         "legendgroup": "rgb(189, 189, 189)",
         "mode": "none",
         "name": "Job 18",
         "type": "scatter",
         "x": [
          "2024-07-01T08:01:17",
          "2024-07-01T08:01:21",
          "2024-07-01T08:01:21",
          "2024-07-01T08:01:17",
          "2024-07-01T08:01:17",
          "2024-07-01T08:01:32",
          "2024-07-01T08:01:56",
          "2024-07-01T08:01:56",
          "2024-07-01T08:01:32",
          "2024-07-01T08:01:32",
          "2024-07-01T08:01:21",
          "2024-07-01T08:01:24",
          "2024-07-01T08:01:24",
          "2024-07-01T08:01:21"
         ],
         "y": [
          5.8,
          5.8,
          6.2,
          6.2,
          null,
          2.8,
          2.8,
          3.2,
          3.2,
          null,
          -0.2,
          -0.2,
          0.2,
          0.2
         ]
        },
        {
         "fill": "toself",
         "fillcolor": "rgb(198, 219, 239)",
         "hoverinfo": "name",
         "legendgroup": "rgb(198, 219, 239)",
         "mode": "none",
         "name": "Job 3",
         "type": "scatter",
         "x": [
          "2024-07-01T08:01:24",
          "2024-07-01T08:01:27",
          "2024-07-01T08:01:27",
          "2024-07-01T08:01:24",
          "2024-07-01T08:01:24",
          "2024-07-01T08:01:27",
          "2024-07-01T08:01:31",
          "2024-07-01T08:01:31",
          "2024-07-01T08:01:27"
         ],
         "y": [
          5.8,
          5.8,
          6.2,
          6.2,
          null,
          1.8,
          1.8,
          2.2,
          2.2
         ]
        },
        {
         "fill": "toself",
         "fillcolor": "rgb(199, 233, 192)",
         "hoverinfo": "name",
         "legendgroup": "rgb(199, 233, 192)",
         "mode": "none",
         "name": "Job 11",
         "type": "scatter",
         "x": [
          "2024-07-01T08:00:04",
          "2024-07-01T08:00:08",
          "2024-07-01T08:00:08",
          "2024-07-01T08:00:04",
          "2024-07-01T08:00:04",
          "2024-07-01T08:01:30",
          "2024-07-01T08:01:31",
          "2024-07-01T08:01:31",
          "2024-07-01T08:01:30",
          "2024-07-01T08:01:30",
          "2024-07-01T08:01:49",
          "2024-07-01T08:01:53",
          "2024-07-01T08:01:53",
          "2024-07-01T08:01:49"
         ],
         "y": [
          6.8,
          6.8,
          7.2,
          7.2,
          null,
          5.8,
          5.8,
          6.2,
          6.2,
          null,
          1.8,
          1.8,
          2.2,
          2.2
         ]
        },
        {
         "fill": "toself",
         "fillcolor": "rgb(217, 217, 217)",
         "hoverinfo": "name",
         "legendgroup": "rgb(217, 217, 217)",
         "mode": "none",
         "name": "Job 19",
         "type": "scatter",
         "x": [
          "2024-07-01T08:00:15",
          "2024-07-01T08:00:18",
          "2024-07-01T08:00:18",
          "2024-07-01T08:00:15",
          "2024-07-01T08:00:15",
          "2024-07-01T08:00:23",
          "2024-07-01T08:00:47",
          "2024-07-01T08:00:47",
          "2024-07-01T08:00:23",
          "2024-07-01T08:00:23",
          "2024-07-01T08:00:18",
          "2024-07-01T08:00:23",
          "2024-07-01T08:00:23",
          "2024-07-01T08:00:18"
         ],
         "y": [
          5.8,
          5.8,
          6.2,
          6.2,
          null,
          3.8,
          3.8,
          4.2,
          4.2,
          null,
          1.8,
          1.8,
          2.2,
          2.2
         ]
        },
        {
         "fill": "toself",
         "fillcolor": "rgb(218, 218, 235)",
         "hoverinfo": "name",
         "legendgroup": "rgb(218, 218, 235)",
         "mode": "none",
         "name": "Job 15",
         "type": "scatter",
         "x": [
          "2024-07-01T08:01:11",
          "2024-07-01T08:01:14",
          "2024-07-01T08:01:14",
          "2024-07-01T08:01:11",
          "2024-07-01T08:01:11",
          "2024-07-01T08:01:35",
          "2024-07-01T08:01:39",
          "2024-07-01T08:01:39",
          "2024-07-01T08:01:35"
         ],
         "y": [
          5.8,
          5.8,
          6.2,
          6.2,
          null,
          1.8,
          1.8,
          2.2,
          2.2
         ]
        },
        {
         "fill": "toself",
         "fillcolor": "rgb(230, 85, 13)",
         "hoverinfo": "name",
         "legendgroup": "rgb(230, 85, 13)",
         "mode": "none",
         "name": "Job 4",
         "type": "scatter",
         "x": [
          "2024-07-01T08:00:08",
          "2024-07-01T08:00:11",
          "2024-07-01T08:00:11",
          "2024-07-01T08:00:08",
          "2024-07-01T08:00:08",
          "2024-07-01T08:00:23",
          "2024-07-01T08:00:27",
          "2024-07-01T08:00:27",
          "2024-07-01T08:00:23"
         ],
         "y": [
          5.8,
          5.8,
          6.2,
          6.2,
          null,
          1.8,
          1.8,
          2.2,
          2.2
         ]
        },
        {
         "fill": "toself",
         "fillcolor": "rgb(253, 141, 60)",
         "hoverinfo": "name",
         "legendgroup": "rgb(253, 141, 60)",
         "mode": "none",
         "name": "Job 5",
         "type": "scatter",
         "x": [
          "2024-07-01T08:00:00",
          "2024-07-01T08:00:03",
          "2024-07-01T08:00:03",
          "2024-07-01T08:00:00",
          "2024-07-01T08:00:00",
          "2024-07-01T08:01:31",
          "2024-07-01T08:01:35",
          "2024-07-01T08:01:35",
          "2024-07-01T08:01:31"
         ],
         "y": [
          5.8,
          5.8,
          6.2,
          6.2,
          null,
          1.8,
          1.8,
          2.2,
          2.2
         ]
        },
        {
         "fill": "toself",
         "fillcolor": "rgb(253, 174, 107)",
         "hoverinfo": "name",
         "legendgroup": "rgb(253, 174, 107)",
         "mode": "none",
         "name": "Job 6",
         "type": "scatter",
         "x": [
          "2024-07-01T08:00:12",
          "2024-07-01T08:00:15",
          "2024-07-01T08:00:15",
          "2024-07-01T08:00:12",
          "2024-07-01T08:00:12",
          "2024-07-01T08:00:47",
          "2024-07-01T08:01:11",
          "2024-07-01T08:01:11",
          "2024-07-01T08:00:47",
          "2024-07-01T08:00:47",
          "2024-07-01T08:00:23",
          "2024-07-01T08:00:26",
          "2024-07-01T08:00:26",
          "2024-07-01T08:00:23"
         ],
         "y": [
          5.8,
          5.8,
          6.2,
          6.2,
          null,
          3.8,
          3.8,
          4.2,
          4.2,
          null,
          0.8,
          0.8,
          1.2,
          1.2
         ]
        },
        {
         "fill": "toself",
         "fillcolor": "rgb(253, 208, 162)",
         "hoverinfo": "name",
         "legendgroup": "rgb(253, 208, 162)",
         "mode": "none",
         "name": "Job 7",
         "type": "scatter",
         "x": [
          "2024-07-01T08:01:21",
          "2024-07-01T08:01:24",
          "2024-07-01T08:01:24",
          "2024-07-01T08:01:21",
          "2024-07-01T08:01:21",
          "2024-07-01T08:01:56",
          "2024-07-01T08:02:20",
          "2024-07-01T08:02:20",
          "2024-07-01T08:01:56",
          "2024-07-01T08:01:56",
          "2024-07-01T08:01:24",
          "2024-07-01T08:01:27",
          "2024-07-01T08:01:27",
          "2024-07-01T08:01:24"
         ],
         "y": [
          5.8,
          5.8,
          6.2,
          6.2,
          null,
          2.8,
          2.8,
          3.2,
          3.2,
          null,
          0.8,
          0.8,
          1.2,
          1.2
         ]
        },
        {
         "fill": "toself",
         "fillcolor": "rgb(49, 130, 189)",
         "hoverinfo": "name",
         "legendgroup": "rgb(49, 130, 189)",
         "mode": "none",
         "name": "Job 0",
         "type": "scatter",
         "x": [
          "2024-07-01T08:01:03",
          "2024-07-01T08:01:07",
          "2024-07-01T08:01:07",
          "2024-07-01T08:01:03",
          "2024-07-01T08:01:03",
          "2024-07-01T08:01:10",
          "2024-07-01T08:01:34",
          "2024-07-01T08:01:34",
          "2024-07-01T08:01:10",
          "2024-07-01T08:01:10",
          "2024-07-01T08:01:07",
          "2024-07-01T08:01:10",
          "2024-07-01T08:01:10",
          "2024-07-01T08:01:07"
         ],
         "y": [
          5.8,
          5.8,
          6.2,
          6.2,
          null,
          4.8,
          4.8,
          5.2,
          5.2,
          null,
          -0.2,
          -0.2,
          0.2,
          0.2
         ]
        },
        {
         "fill": "toself",
         "fillcolor": "rgb(49, 163, 84)",
         "hoverinfo": "name",
         "legendgroup": "rgb(49, 163, 84)",
         "mode": "none",
         "name": "Job 8",
         "type": "scatter",
         "x": [
          "2024-07-01T08:00:18",
          "2024-07-01T08:00:20",
          "2024-07-01T08:00:20",
          "2024-07-01T08:00:18",
          "2024-07-01T08:00:18",
          "2024-07-01T08:01:08",
          "2024-07-01T08:01:11",
          "2024-07-01T08:01:11",
          "2024-07-01T08:01:08",
          "2024-07-01T08:01:08",
          "2024-07-01T08:01:35",
          "2024-07-01T08:02:23",
          "2024-07-01T08:02:23",
          "2024-07-01T08:01:35",
          "2024-07-01T08:01:35",
          "2024-07-01T08:01:24",
          "2024-07-01T08:01:30",
          "2024-07-01T08:01:30",
          "2024-07-01T08:01:24"
         ],
         "y": [
          5.8,
          5.8,
          6.2,
          6.2,
          null,
          5.8,
          5.8,
          6.2,
          6.2,
          null,
          3.8,
          3.8,
          4.2,
          4.2,
          null,
          -0.2,
          -0.2,
          0.2,
          0.2
         ]
        },
        {
         "fill": "toself",
         "fillcolor": "rgb(99, 99, 99)",
         "hoverinfo": "name",
         "legendgroup": "rgb(99, 99, 99)",
         "mode": "none",
         "name": "Job 16",
         "type": "scatter",
         "x": [
          "2024-07-01T08:01:07",
          "2024-07-01T08:01:08",
          "2024-07-01T08:01:08",
          "2024-07-01T08:01:07",
          "2024-07-01T08:01:07",
          "2024-07-01T08:01:58",
          "2024-07-01T08:02:22",
          "2024-07-01T08:02:22",
          "2024-07-01T08:01:58",
          "2024-07-01T08:01:58",
          "2024-07-01T08:01:21",
          "2024-07-01T08:01:26",
          "2024-07-01T08:01:26",
          "2024-07-01T08:01:21"
         ],
         "y": [
          5.8,
          5.8,
          6.2,
          6.2,
          null,
          4.8,
          4.8,
          5.2,
          5.2,
          null,
          1.8,
          1.8,
          2.2,
          2.2
         ]
        },
        {
         "legendgroup": "rgb(107, 174, 214)",
         "marker": {
          "color": "rgb(107, 174, 214)",
          "opacity": 0,
          "size": 1
         },
         "mode": "markers",
         "name": "",
         "showlegend": false,
         "text": [
          null,
          null,
          null,
          null,
          null,
          null
         ],
         "type": "scatter",
         "x": [
          "2024-07-01T08:00:03",
          "2024-07-01T08:00:07",
          "2024-07-01T08:00:29",
          "2024-07-01T08:00:53",
          "2024-07-01T08:00:26",
          "2024-07-01T08:00:29"
         ],
         "y": [
          6,
          6,
          3,
          3,
          1,
          1
         ]
        },
        {
         "legendgroup": "rgb(116, 196, 118)",
         "marker": {
          "color": "rgb(116, 196, 118)",
          "opacity": 0,
          "size": 1
         },
         "mode": "markers",
         "name": "",
         "showlegend": false,
         "text": [
          null,
          null,
          null,
          null,
          null,
          null
         ],
         "type": "scatter",
         "x": [
          "2024-07-01T08:01:31",
          "2024-07-01T08:01:34",
          "2024-07-01T08:02:20",
          "2024-07-01T08:02:44",
          "2024-07-01T08:01:44",
          "2024-07-01T08:01:49"
         ],
         "y": [
          6,
          6,
          3,
          3,
          2,
          2
         ]
        },
        {
         "legendgroup": "rgb(117, 107, 177)",
         "marker": {
          "color": "rgb(117, 107, 177)",
          "opacity": 0,
          "size": 1
         },
         "mode": "markers",
         "name": "",
         "showlegend": false,
         "text": [
          null,
          null,
          null,
          null,
          null,
          null
         ],
         "type": "scatter",
         "x": [
          "2024-07-01T08:00:00",
          "2024-07-01T08:00:04",
          "2024-07-01T08:01:34",
          "2024-07-01T08:01:35",
          "2024-07-01T08:01:53",
          "2024-07-01T08:01:57"
         ],
         "y": [
          7,
          7,
          6,
          6,
          2,
          2
         ]
        },
        {
         "legendgroup": "rgb(150, 150, 150)",
         "marker": {
          "color": "rgb(150, 150, 150)",
          "opacity": 0,
          "size": 1
         },
         "mode": "markers",
         "name": "",
         "showlegend": false,
         "text": [
          null,
          null,
          null,
          null,
          null,
          null
         ],
         "type": "scatter",
         "x": [
          "2024-07-01T08:01:02",
          "2024-07-01T08:01:03",
          "2024-07-01T08:01:08",
          "2024-07-01T08:01:32",
          "2024-07-01T08:01:03",
          "2024-07-01T08:01:08"
         ],
         "y": [
          6,
          6,
          3,
          3,
          2,
          2
         ]
        },
        {
         "legendgroup": "rgb(158, 154, 200)",
         "marker": {
          "color": "rgb(158, 154, 200)",
          "opacity": 0,
          "size": 1
         },
         "mode": "markers",
         "name": "",
         "showlegend": false,
         "text": [
          null,
          null,
          null,
          null,
          null,
          null
         ],
         "type": "scatter",
         "x": [
          "2024-07-01T08:00:11",
          "2024-07-01T08:00:12",
          "2024-07-01T08:01:34",
          "2024-07-01T08:01:58",
          "2024-07-01T08:01:08",
          "2024-07-01T08:01:13"
         ],
         "y": [
          6,
          6,
          5,
          5,
          2,
          2
         ]
        },
        {
         "legendgroup": "rgb(158, 202, 225)",
         "marker": {
          "color": "rgb(158, 202, 225)",
          "opacity": 0,
          "size": 1
         },
         "mode": "markers",
         "name": "",
         "showlegend": false,
         "text": [
          null,
          null,
          null,
          null
         ],
         "type": "scatter",
         "x": [
          "2024-07-01T08:01:14",
          "2024-07-01T08:01:17",
          "2024-07-01T08:01:17",
          "2024-07-01T08:01:21"
         ],
         "y": [
          6,
          6,
          2,
          2
         ]
        },
        {
         "legendgroup": "rgb(161, 217, 155)",
         "marker": {
          "color": "rgb(161, 217, 155)",
          "opacity": 0,
          "size": 1
         },
         "mode": "markers",
         "name": "",
         "showlegend": false,
         "text": [
          null,
          null,
          null,
          null,
          null,
          null
         ],
         "type": "scatter",
         "x": [
          "2024-07-01T08:01:27",
          "2024-07-01T08:01:30",
          "2024-07-01T08:02:23",
          "2024-07-01T08:02:47",
          "2024-07-01T08:01:39",
          "2024-07-01T08:01:44"
         ],
         "y": [
          6,
          6,
          4,
          4,
          2,
          2
         ]
        },
        {
         "legendgroup": "rgb(188, 189, 220)",
         "marker": {
          "color": "rgb(188, 189, 220)",
          "opacity": 0,
          "size": 1
         },
         "mode": "markers",
         "name": "",
         "showlegend": false,
         "text": [
          null,
          null,
          null,
          null,
          null,
          null
         ],
         "type": "scatter",
         "x": [
          "2024-07-01T08:00:07",
          "2024-07-01T08:00:08",
          "2024-07-01T08:01:11",
          "2024-07-01T08:01:35",
          "2024-07-01T08:00:08",
          "2024-07-01T08:00:13"
         ],
         "y": [
          6,
          6,
          4,
          4,
          2,
          2
         ]
        },
        {
         "legendgroup": "rgb(189, 189, 189)",
         "marker": {
          "color": "rgb(189, 189, 189)",
          "opacity": 0,
          "size": 1
         },
         "mode": "markers",
         "name": "",
         "showlegend": false,
         "text": [
          null,
          null,
          null,
          null,
          null,
          null
         ],
         "type": "scatter",
         "x": [
          "2024-07-01T08:01:17",
          "2024-07-01T08:01:21",
          "2024-07-01T08:01:32",
          "2024-07-01T08:01:56",
          "2024-07-01T08:01:21",
          "2024-07-01T08:01:24"
         ],
         "y": [
          6,
          6,
          3,
          3,
          0,
          0
         ]
        },
        {
         "legendgroup": "rgb(198, 219, 239)",
         "marker": {
          "color": "rgb(198, 219, 239)",
          "opacity": 0,
          "size": 1
         },
         "mode": "markers",
         "name": "",
         "showlegend": false,
         "text": [
          null,
          null,
          null,
          null
         ],
         "type": "scatter",
         "x": [
          "2024-07-01T08:01:24",
          "2024-07-01T08:01:27",
          "2024-07-01T08:01:27",
          "2024-07-01T08:01:31"
         ],
         "y": [
          6,
          6,
          2,
          2
         ]
        },
        {
         "legendgroup": "rgb(199, 233, 192)",
         "marker": {
          "color": "rgb(199, 233, 192)",
          "opacity": 0,
          "size": 1
         },
         "mode": "markers",
         "name": "",
         "showlegend": false,
         "text": [
          null,
          null,
          null,
          null,
          null,
          null
         ],
         "type": "scatter",
         "x": [
          "2024-07-01T08:00:04",
          "2024-07-01T08:00:08",
          "2024-07-01T08:01:30",
          "2024-07-01T08:01:31",
          "2024-07-01T08:01:49",
          "2024-07-01T08:01:53"
         ],
         "y": [
          7,
          7,
          6,
          6,
          2,
          2
         ]
        },
        {
         "legendgroup": "rgb(217, 217, 217)",
         "marker": {
          "color": "rgb(217, 217, 217)",
          "opacity": 0,
          "size": 1
         },
         "mode": "markers",
         "name": "",
         "showlegend": false,
         "text": [
          null,
          null,
          null,
          null,
          null,
          null
         ],
         "type": "scatter",
         "x": [
          "2024-07-01T08:00:15",
          "2024-07-01T08:00:18",
          "2024-07-01T08:00:23",
          "2024-07-01T08:00:47",
          "2024-07-01T08:00:18",
          "2024-07-01T08:00:23"
         ],
         "y": [
          6,
          6,
          4,
          4,
          2,
          2
         ]
        },
        {
         "legendgroup": "rgb(218, 218, 235)",
         "marker": {
          "color": "rgb(218, 218, 235)",
          "opacity": 0,
          "size": 1
         },
         "mode": "markers",
         "name": "",
         "showlegend": false,
         "text": [
          null,
          null,
          null,
          null
         ],
         "type": "scatter",
         "x": [
          "2024-07-01T08:01:11",
          "2024-07-01T08:01:14",
          "2024-07-01T08:01:35",
          "2024-07-01T08:01:39"
         ],
         "y": [
          6,
          6,
          2,
          2
         ]
        },
        {
         "legendgroup": "rgb(230, 85, 13)",
         "marker": {
          "color": "rgb(230, 85, 13)",
          "opacity": 0,
          "size": 1
         },
         "mode": "markers",
         "name": "",
         "showlegend": false,
         "text": [
          null,
          null,
          null,
          null
         ],
         "type": "scatter",
         "x": [
          "2024-07-01T08:00:08",
          "2024-07-01T08:00:11",
          "2024-07-01T08:00:23",
          "2024-07-01T08:00:27"
         ],
         "y": [
          6,
          6,
          2,
          2
         ]
        },
        {
         "legendgroup": "rgb(253, 141, 60)",
         "marker": {
          "color": "rgb(253, 141, 60)",
          "opacity": 0,
          "size": 1
         },
         "mode": "markers",
         "name": "",
         "showlegend": false,
         "text": [
          null,
          null,
          null,
          null
         ],
         "type": "scatter",
         "x": [
          "2024-07-01T08:00:00",
          "2024-07-01T08:00:03",
          "2024-07-01T08:01:31",
          "2024-07-01T08:01:35"
         ],
         "y": [
          6,
          6,
          2,
          2
         ]
        },
        {
         "legendgroup": "rgb(253, 174, 107)",
         "marker": {
          "color": "rgb(253, 174, 107)",
          "opacity": 0,
          "size": 1
         },
         "mode": "markers",
         "name": "",
         "showlegend": false,
         "text": [
          null,
          null,
          null,
          null,
          null,
          null
         ],
         "type": "scatter",
         "x": [
          "2024-07-01T08:00:12",
          "2024-07-01T08:00:15",
          "2024-07-01T08:00:47",
          "2024-07-01T08:01:11",
          "2024-07-01T08:00:23",
          "2024-07-01T08:00:26"
         ],
         "y": [
          6,
          6,
          4,
          4,
          1,
          1
         ]
        },
        {
         "legendgroup": "rgb(253, 208, 162)",
         "marker": {
          "color": "rgb(253, 208, 162)",
          "opacity": 0,
          "size": 1
         },
         "mode": "markers",
         "name": "",
         "showlegend": false,
         "text": [
          null,
          null,
          null,
          null,
          null,
          null
         ],
         "type": "scatter",
         "x": [
          "2024-07-01T08:01:21",
          "2024-07-01T08:01:24",
          "2024-07-01T08:01:56",
          "2024-07-01T08:02:20",
          "2024-07-01T08:01:24",
          "2024-07-01T08:01:27"
         ],
         "y": [
          6,
          6,
          3,
          3,
          1,
          1
         ]
        },
        {
         "legendgroup": "rgb(49, 130, 189)",
         "marker": {
          "color": "rgb(49, 130, 189)",
          "opacity": 0,
          "size": 1
         },
         "mode": "markers",
         "name": "",
         "showlegend": false,
         "text": [
          null,
          null,
          null,
          null,
          null,
          null
         ],
         "type": "scatter",
         "x": [
          "2024-07-01T08:01:03",
          "2024-07-01T08:01:07",
          "2024-07-01T08:01:10",
          "2024-07-01T08:01:34",
          "2024-07-01T08:01:07",
          "2024-07-01T08:01:10"
         ],
         "y": [
          6,
          6,
          5,
          5,
          0,
          0
         ]
        },
        {
         "legendgroup": "rgb(49, 163, 84)",
         "marker": {
          "color": "rgb(49, 163, 84)",
          "opacity": 0,
          "size": 1
         },
         "mode": "markers",
         "name": "",
         "showlegend": false,
         "text": [
          null,
          null,
          null,
          null,
          null,
          null,
          null,
          null
         ],
         "type": "scatter",
         "x": [
          "2024-07-01T08:00:18",
          "2024-07-01T08:00:20",
          "2024-07-01T08:01:08",
          "2024-07-01T08:01:11",
          "2024-07-01T08:01:35",
          "2024-07-01T08:02:23",
          "2024-07-01T08:01:24",
          "2024-07-01T08:01:30"
         ],
         "y": [
          6,
          6,
          6,
          6,
          4,
          4,
          0,
          0
         ]
        },
        {
         "legendgroup": "rgb(99, 99, 99)",
         "marker": {
          "color": "rgb(99, 99, 99)",
          "opacity": 0,
          "size": 1
         },
         "mode": "markers",
         "name": "",
         "showlegend": false,
         "text": [
          null,
          null,
          null,
          null,
          null,
          null
         ],
         "type": "scatter",
         "x": [
          "2024-07-01T08:01:07",
          "2024-07-01T08:01:08",
          "2024-07-01T08:01:58",
          "2024-07-01T08:02:22",
          "2024-07-01T08:01:21",
          "2024-07-01T08:01:26"
         ],
         "y": [
          6,
          6,
          5,
          5,
          2,
          2
         ]
        }
       ],
       "layout": {
        "annotations": [
         {
          "align": "center",
          "font": {
           "color": "black",
           "size": 10
          },
          "showarrow": false,
          "text": "X",
          "valign": "middle",
          "x": "2024-07-01T08:00:41",
          "y": 6
         }
        ],
        "height": 600,
        "hovermode": "closest",
        "legend": {
         "traceorder": "normal"
        },
        "shapes": [
         {
          "fillcolor": "white",
          "line": {
           "color": "black"
          },
          "opacity": 1,
          "type": "rect",
          "x0": "2024-07-01T08:00:20",
          "x1": "2024-07-01T08:01:02",
          "y0": 5.82,
          "y1": 6.18
         },
         {
          "line": {
           "color": "black",
           "dash": "dash"
          },
          "type": "line",
          "x0": "2024-07-01T08:00:20",
          "x1": "2024-07-01T08:00:20",
          "y0": -0.5,
          "y1": 7.5
         }
        ],
        "showlegend": true,
        "template": {
         "data": {
          "bar": [
           {
            "error_x": {
             "color": "#2a3f5f"
            },
            "error_y": {
             "color": "#2a3f5f"
            },
            "marker": {
             "line": {
              "color": "#E5ECF6",
              "width": 0.5
             },
             "pattern": {
              "fillmode": "overlay",
              "size": 10,
              "solidity": 0.2
             }
            },
            "type": "bar"
           }
          ],
          "barpolar": [
           {
            "marker": {
             "line": {
              "color": "#E5ECF6",
              "width": 0.5
             },
             "pattern": {
              "fillmode": "overlay",
              "size": 10,
              "solidity": 0.2
             }
            },
            "type": "barpolar"
           }
          ],
          "carpet": [
           {
            "aaxis": {
             "endlinecolor": "#2a3f5f",
             "gridcolor": "white",
             "linecolor": "white",
             "minorgridcolor": "white",
             "startlinecolor": "#2a3f5f"
            },
            "baxis": {
             "endlinecolor": "#2a3f5f",
             "gridcolor": "white",
             "linecolor": "white",
             "minorgridcolor": "white",
             "startlinecolor": "#2a3f5f"
            },
            "type": "carpet"
           }
          ],
          "choropleth": [
           {
            "colorbar": {
             "outlinewidth": 0,
             "ticks": ""
            },
            "type": "choropleth"
           }
          ],
          "contour": [
           {
            "colorbar": {
             "outlinewidth": 0,
             "ticks": ""
            },
            "colorscale": [
             [
              0,
              "#0d0887"
             ],
             [
              0.1111111111111111,
              "#46039f"
             ],
             [
              0.2222222222222222,
              "#7201a8"
             ],
             [
              0.3333333333333333,
              "#9c179e"
             ],
             [
              0.4444444444444444,
              "#bd3786"
             ],
             [
              0.5555555555555556,
              "#d8576b"
             ],
             [
              0.6666666666666666,
              "#ed7953"
             ],
             [
              0.7777777777777778,
              "#fb9f3a"
             ],
             [
              0.8888888888888888,
              "#fdca26"
             ],
             [
              1,
              "#f0f921"
             ]
            ],
            "type": "contour"
           }
          ],
          "contourcarpet": [
           {
            "colorbar": {
             "outlinewidth": 0,
             "ticks": ""
            },
            "type": "contourcarpet"
           }
          ],
          "heatmap": [
           {
            "colorbar": {
             "outlinewidth": 0,
             "ticks": ""
            },
            "colorscale": [
             [
              0,
              "#0d0887"
             ],
             [
              0.1111111111111111,
              "#46039f"
             ],
             [
              0.2222222222222222,
              "#7201a8"
             ],
             [
              0.3333333333333333,
              "#9c179e"
             ],
             [
              0.4444444444444444,
              "#bd3786"
             ],
             [
              0.5555555555555556,
              "#d8576b"
             ],
             [
              0.6666666666666666,
              "#ed7953"
             ],
             [
              0.7777777777777778,
              "#fb9f3a"
             ],
             [
              0.8888888888888888,
              "#fdca26"
             ],
             [
              1,
              "#f0f921"
             ]
            ],
            "type": "heatmap"
           }
          ],
          "heatmapgl": [
           {
            "colorbar": {
             "outlinewidth": 0,
             "ticks": ""
            },
            "colorscale": [
             [
              0,
              "#0d0887"
             ],
             [
              0.1111111111111111,
              "#46039f"
             ],
             [
              0.2222222222222222,
              "#7201a8"
             ],
             [
              0.3333333333333333,
              "#9c179e"
             ],
             [
              0.4444444444444444,
              "#bd3786"
             ],
             [
              0.5555555555555556,
              "#d8576b"
             ],
             [
              0.6666666666666666,
              "#ed7953"
             ],
             [
              0.7777777777777778,
              "#fb9f3a"
             ],
             [
              0.8888888888888888,
              "#fdca26"
             ],
             [
              1,
              "#f0f921"
             ]
            ],
            "type": "heatmapgl"
           }
          ],
          "histogram": [
           {
            "marker": {
             "pattern": {
              "fillmode": "overlay",
              "size": 10,
              "solidity": 0.2
             }
            },
            "type": "histogram"
           }
          ],
          "histogram2d": [
           {
            "colorbar": {
             "outlinewidth": 0,
             "ticks": ""
            },
            "colorscale": [
             [
              0,
              "#0d0887"
             ],
             [
              0.1111111111111111,
              "#46039f"
             ],
             [
              0.2222222222222222,
              "#7201a8"
             ],
             [
              0.3333333333333333,
              "#9c179e"
             ],
             [
              0.4444444444444444,
              "#bd3786"
             ],
             [
              0.5555555555555556,
              "#d8576b"
             ],
             [
              0.6666666666666666,
              "#ed7953"
             ],
             [
              0.7777777777777778,
              "#fb9f3a"
             ],
             [
              0.8888888888888888,
              "#fdca26"
             ],
             [
              1,
              "#f0f921"
             ]
            ],
            "type": "histogram2d"
           }
          ],
          "histogram2dcontour": [
           {
            "colorbar": {
             "outlinewidth": 0,
             "ticks": ""
            },
            "colorscale": [
             [
              0,
              "#0d0887"
             ],
             [
              0.1111111111111111,
              "#46039f"
             ],
             [
              0.2222222222222222,
              "#7201a8"
             ],
             [
              0.3333333333333333,
              "#9c179e"
             ],
             [
              0.4444444444444444,
              "#bd3786"
             ],
             [
              0.5555555555555556,
              "#d8576b"
             ],
             [
              0.6666666666666666,
              "#ed7953"
             ],
             [
              0.7777777777777778,
              "#fb9f3a"
             ],
             [
              0.8888888888888888,
              "#fdca26"
             ],
             [
              1,
              "#f0f921"
             ]
            ],
            "type": "histogram2dcontour"
           }
          ],
          "mesh3d": [
           {
            "colorbar": {
             "outlinewidth": 0,
             "ticks": ""
            },
            "type": "mesh3d"
           }
          ],
          "parcoords": [
           {
            "line": {
             "colorbar": {
              "outlinewidth": 0,
              "ticks": ""
             }
            },
            "type": "parcoords"
           }
          ],
          "pie": [
           {
            "automargin": true,
            "type": "pie"
           }
          ],
          "scatter": [
           {
            "fillpattern": {
             "fillmode": "overlay",
             "size": 10,
             "solidity": 0.2
            },
            "type": "scatter"
           }
          ],
          "scatter3d": [
           {
            "line": {
             "colorbar": {
              "outlinewidth": 0,
              "ticks": ""
             }
            },
            "marker": {
             "colorbar": {
              "outlinewidth": 0,
              "ticks": ""
             }
            },
            "type": "scatter3d"
           }
          ],
          "scattercarpet": [
           {
            "marker": {
             "colorbar": {
              "outlinewidth": 0,
              "ticks": ""
             }
            },
            "type": "scattercarpet"
           }
          ],
          "scattergeo": [
           {
            "marker": {
             "colorbar": {
              "outlinewidth": 0,
              "ticks": ""
             }
            },
            "type": "scattergeo"
           }
          ],
          "scattergl": [
           {
            "marker": {
             "colorbar": {
              "outlinewidth": 0,
              "ticks": ""
             }
            },
            "type": "scattergl"
           }
          ],
          "scattermapbox": [
           {
            "marker": {
             "colorbar": {
              "outlinewidth": 0,
              "ticks": ""
             }
            },
            "type": "scattermapbox"
           }
          ],
          "scatterpolar": [
           {
            "marker": {
             "colorbar": {
              "outlinewidth": 0,
              "ticks": ""
             }
            },
            "type": "scatterpolar"
           }
          ],
          "scatterpolargl": [
           {
            "marker": {
             "colorbar": {
              "outlinewidth": 0,
              "ticks": ""
             }
            },
            "type": "scatterpolargl"
           }
          ],
          "scatterternary": [
           {
            "marker": {
             "colorbar": {
              "outlinewidth": 0,
              "ticks": ""
             }
            },
            "type": "scatterternary"
           }
          ],
          "surface": [
           {
            "colorbar": {
             "outlinewidth": 0,
             "ticks": ""
            },
            "colorscale": [
             [
              0,
              "#0d0887"
             ],
             [
              0.1111111111111111,
              "#46039f"
             ],
             [
              0.2222222222222222,
              "#7201a8"
             ],
             [
              0.3333333333333333,
              "#9c179e"
             ],
             [
              0.4444444444444444,
              "#bd3786"
             ],
             [
              0.5555555555555556,
              "#d8576b"
             ],
             [
              0.6666666666666666,
              "#ed7953"
             ],
             [
              0.7777777777777778,
              "#fb9f3a"
             ],
             [
              0.8888888888888888,
              "#fdca26"
             ],
             [
              1,
              "#f0f921"
             ]
            ],
            "type": "surface"
           }
          ],
          "table": [
           {
            "cells": {
             "fill": {
              "color": "#EBF0F8"
             },
             "line": {
              "color": "white"
             }
            },
            "header": {
             "fill": {
              "color": "#C8D4E3"
             },
             "line": {
              "color": "white"
             }
            },
            "type": "table"
           }
          ]
         },
         "layout": {
          "annotationdefaults": {
           "arrowcolor": "#2a3f5f",
           "arrowhead": 0,
           "arrowwidth": 1
          },
          "autotypenumbers": "strict",
          "coloraxis": {
           "colorbar": {
            "outlinewidth": 0,
            "ticks": ""
           }
          },
          "colorscale": {
           "diverging": [
            [
             0,
             "#8e0152"
            ],
            [
             0.1,
             "#c51b7d"
            ],
            [
             0.2,
             "#de77ae"
            ],
            [
             0.3,
             "#f1b6da"
            ],
            [
             0.4,
             "#fde0ef"
            ],
            [
             0.5,
             "#f7f7f7"
            ],
            [
             0.6,
             "#e6f5d0"
            ],
            [
             0.7,
             "#b8e186"
            ],
            [
             0.8,
             "#7fbc41"
            ],
            [
             0.9,
             "#4d9221"
            ],
            [
             1,
             "#276419"
            ]
           ],
           "sequential": [
            [
             0,
             "#0d0887"
            ],
            [
             0.1111111111111111,
             "#46039f"
            ],
            [
             0.2222222222222222,
             "#7201a8"
            ],
            [
             0.3333333333333333,
             "#9c179e"
            ],
            [
             0.4444444444444444,
             "#bd3786"
            ],
            [
             0.5555555555555556,
             "#d8576b"
            ],
            [
             0.6666666666666666,
             "#ed7953"
            ],
            [
             0.7777777777777778,
             "#fb9f3a"
            ],
            [
             0.8888888888888888,
             "#fdca26"
            ],
            [
             1,
             "#f0f921"
            ]
           ],
           "sequentialminus": [
            [
             0,
             "#0d0887"
            ],
            [
             0.1111111111111111,
             "#46039f"
            ],
            [
             0.2222222222222222,
             "#7201a8"
            ],
            [
             0.3333333333333333,
             "#9c179e"
            ],
            [
             0.4444444444444444,
             "#bd3786"
            ],
            [
             0.5555555555555556,
             "#d8576b"
            ],
            [
             0.6666666666666666,
             "#ed7953"
            ],
            [
             0.7777777777777778,
             "#fb9f3a"
            ],
            [
             0.8888888888888888,
             "#fdca26"
            ],
            [
             1,
             "#f0f921"
            ]
           ]
          },
          "colorway": [
           "#636efa",
           "#EF553B",
           "#00cc96",
           "#ab63fa",
           "#FFA15A",
           "#19d3f3",
           "#FF6692",
           "#B6E880",
           "#FF97FF",
           "#FECB52"
          ],
          "font": {
           "color": "#2a3f5f"
          },
          "geo": {
           "bgcolor": "white",
           "lakecolor": "white",
           "landcolor": "#E5ECF6",
           "showlakes": true,
           "showland": true,
           "subunitcolor": "white"
          },
          "hoverlabel": {
           "align": "left"
          },
          "hovermode": "closest",
          "mapbox": {
           "style": "light"
          },
          "paper_bgcolor": "white",
          "plot_bgcolor": "#E5ECF6",
          "polar": {
           "angularaxis": {
            "gridcolor": "white",
            "linecolor": "white",
            "ticks": ""
           },
           "bgcolor": "#E5ECF6",
           "radialaxis": {
            "gridcolor": "white",
            "linecolor": "white",
            "ticks": ""
           }
          },
          "scene": {
           "xaxis": {
            "backgroundcolor": "#E5ECF6",
            "gridcolor": "white",
            "gridwidth": 2,
            "linecolor": "white",
            "showbackground": true,
            "ticks": "",
            "zerolinecolor": "white"
           },
           "yaxis": {
            "backgroundcolor": "#E5ECF6",
            "gridcolor": "white",
            "gridwidth": 2,
            "linecolor": "white",
            "showbackground": true,
            "ticks": "",
            "zerolinecolor": "white"
           },
           "zaxis": {
            "backgroundcolor": "#E5ECF6",
            "gridcolor": "white",
            "gridwidth": 2,
            "linecolor": "white",
            "showbackground": true,
            "ticks": "",
            "zerolinecolor": "white"
           }
          },
          "shapedefaults": {
           "line": {
            "color": "#2a3f5f"
           }
          },
          "ternary": {
           "aaxis": {
            "gridcolor": "white",
            "linecolor": "white",
            "ticks": ""
           },
           "baxis": {
            "gridcolor": "white",
            "linecolor": "white",
            "ticks": ""
           },
           "bgcolor": "#E5ECF6",
           "caxis": {
            "gridcolor": "white",
            "linecolor": "white",
            "ticks": ""
           }
          },
          "title": {
           "x": 0.05
          },
          "xaxis": {
           "automargin": true,
           "gridcolor": "white",
           "linecolor": "white",
           "ticks": "",
           "title": {
            "standoff": 15
           },
           "zerolinecolor": "white",
           "zerolinewidth": 2
          },
          "yaxis": {
           "automargin": true,
           "gridcolor": "white",
           "linecolor": "white",
           "ticks": "",
           "title": {
            "standoff": 15
           },
           "zerolinecolor": "white",
           "zerolinewidth": 2
          }
         }
        },
        "title": {
         "text": "Gantt Chart"
        },
        "xaxis": {
         "rangeselector": {
          "buttons": [
           {
            "count": 7,
            "label": "1w",
            "step": "day",
            "stepmode": "backward"
           },
           {
            "count": 1,
            "label": "1m",
            "step": "month",
            "stepmode": "backward"
           },
           {
            "count": 6,
            "label": "6m",
            "step": "month",
            "stepmode": "backward"
           },
           {
            "count": 1,
            "label": "YTD",
            "step": "year",
            "stepmode": "todate"
           },
           {
            "count": 1,
            "label": "1y",
            "step": "year",
            "stepmode": "backward"
           },
           {
            "step": "all"
           }
          ]
         },
         "showgrid": true,
         "tickformat": "%H:%M",
         "title": {
          "text": "Time"
         },
         "type": "date",
         "zeroline": false
        },
        "yaxis": {
         "autorange": false,
         "range": [
          -1,
          9
         ],
         "showgrid": true,
         "ticktext": [
          "Machine 7",
          "Machine 6",
          "Machine 5",
          "Machine 4",
          "Machine 3",
          "Machine 2",
          "Machine 1",
          "Machine 0"
         ],
         "tickvals": [
          0,
          1,
          2,
          3,
          4,
          5,
          6,
          7
         ],
         "title": {
          "text": "Machine"
         },
         "zeroline": false
        }
       }
      }
     },
     "metadata": {},
     "output_type": "display_data"
    },
    {
     "name": "stdout",
     "output_type": "stream",
     "text": [
      "GA 46.0\n"
     ]
    },
    {
     "data": {
      "application/vnd.plotly.v1+json": {
       "config": {
        "plotlyServerURL": "https://plot.ly"
       },
       "data": [
        {
         "fill": "toself",
         "fillcolor": "rgb(107, 174, 214)",
         "hoverinfo": "name",
         "legendgroup": "rgb(107, 174, 214)",
         "mode": "none",
         "name": "Job 1",
         "type": "scatter",
         "x": [
          "2024-07-01T08:00:03",
          "2024-07-01T08:00:07",
          "2024-07-01T08:00:07",
          "2024-07-01T08:00:03",
          "2024-07-01T08:00:03",
          "2024-07-01T08:00:29",
          "2024-07-01T08:00:53",
          "2024-07-01T08:00:53",
          "2024-07-01T08:00:29",
          "2024-07-01T08:00:29",
          "2024-07-01T08:00:26",
          "2024-07-01T08:00:29",
          "2024-07-01T08:00:29",
          "2024-07-01T08:00:26"
         ],
         "y": [
          5.8,
          5.8,
          6.2,
          6.2,
          null,
          2.8,
          2.8,
          3.2,
          3.2,
          null,
          0.8,
          0.8,
          1.2,
          1.2
         ]
        },
        {
         "fill": "toself",
         "fillcolor": "rgb(116, 196, 118)",
         "hoverinfo": "name",
         "legendgroup": "rgb(116, 196, 118)",
         "mode": "none",
         "name": "Job 9",
         "type": "scatter",
         "x": [
          "2024-07-01T08:01:27",
          "2024-07-01T08:01:30",
          "2024-07-01T08:01:30",
          "2024-07-01T08:01:27",
          "2024-07-01T08:01:27",
          "2024-07-01T08:02:26",
          "2024-07-01T08:02:50",
          "2024-07-01T08:02:50",
          "2024-07-01T08:02:26",
          "2024-07-01T08:02:26",
          "2024-07-01T08:01:43",
          "2024-07-01T08:01:48",
          "2024-07-01T08:01:48",
          "2024-07-01T08:01:43"
         ],
         "y": [
          5.8,
          5.8,
          6.2,
          6.2,
          null,
          2.8,
          2.8,
          3.2,
          3.2,
          null,
          1.8,
          1.8,
          2.2,
          2.2
         ]
        },
        {
         "fill": "toself",
         "fillcolor": "rgb(117, 107, 177)",
         "hoverinfo": "name",
         "legendgroup": "rgb(117, 107, 177)",
         "mode": "none",
         "name": "Job 12",
         "type": "scatter",
         "x": [
          "2024-07-01T08:00:00",
          "2024-07-01T08:00:04",
          "2024-07-01T08:00:04",
          "2024-07-01T08:00:00",
          "2024-07-01T08:00:00",
          "2024-07-01T08:01:34",
          "2024-07-01T08:01:35",
          "2024-07-01T08:01:35",
          "2024-07-01T08:01:34",
          "2024-07-01T08:01:34",
          "2024-07-01T08:01:57",
          "2024-07-01T08:02:01",
          "2024-07-01T08:02:01",
          "2024-07-01T08:01:57"
         ],
         "y": [
          6.8,
          6.8,
          7.2,
          7.2,
          null,
          5.8,
          5.8,
          6.2,
          6.2,
          null,
          1.8,
          1.8,
          2.2,
          2.2
         ]
        },
        {
         "fill": "toself",
         "fillcolor": "rgb(150, 150, 150)",
         "hoverinfo": "name",
         "legendgroup": "rgb(150, 150, 150)",
         "mode": "none",
         "name": "Job 17",
         "type": "scatter",
         "x": [
          "2024-07-01T08:01:26",
          "2024-07-01T08:01:27",
          "2024-07-01T08:01:27",
          "2024-07-01T08:01:26",
          "2024-07-01T08:01:26",
          "2024-07-01T08:02:02",
          "2024-07-01T08:02:26",
          "2024-07-01T08:02:26",
          "2024-07-01T08:02:02",
          "2024-07-01T08:02:02",
          "2024-07-01T08:01:30",
          "2024-07-01T08:01:35",
          "2024-07-01T08:01:35",
          "2024-07-01T08:01:30"
         ],
         "y": [
          5.8,
          5.8,
          6.2,
          6.2,
          null,
          3.8,
          3.8,
          4.2,
          4.2,
          null,
          1.8,
          1.8,
          2.2,
          2.2
         ]
        },
        {
         "fill": "toself",
         "fillcolor": "rgb(158, 154, 200)",
         "hoverinfo": "name",
         "legendgroup": "rgb(158, 154, 200)",
         "mode": "none",
         "name": "Job 13",
         "type": "scatter",
         "x": [
          "2024-07-01T08:00:11",
          "2024-07-01T08:00:12",
          "2024-07-01T08:00:12",
          "2024-07-01T08:00:11",
          "2024-07-01T08:00:11",
          "2024-07-01T08:00:55",
          "2024-07-01T08:01:19",
          "2024-07-01T08:01:19",
          "2024-07-01T08:00:55",
          "2024-07-01T08:00:55",
          "2024-07-01T08:00:50",
          "2024-07-01T08:00:55",
          "2024-07-01T08:00:55",
          "2024-07-01T08:00:50"
         ],
         "y": [
          5.8,
          5.8,
          6.2,
          6.2,
          null,
          4.8,
          4.8,
          5.2,
          5.2,
          null,
          1.8,
          1.8,
          2.2,
          2.2
         ]
        },
        {
         "fill": "toself",
         "fillcolor": "rgb(158, 202, 225)",
         "hoverinfo": "name",
         "legendgroup": "rgb(158, 202, 225)",
         "mode": "none",
         "name": "Job 2",
         "type": "scatter",
         "x": [
          "2024-07-01T08:01:08",
          "2024-07-01T08:01:11",
          "2024-07-01T08:01:11",
          "2024-07-01T08:01:08",
          "2024-07-01T08:01:08",
          "2024-07-01T08:01:35",
          "2024-07-01T08:01:39",
          "2024-07-01T08:01:39",
          "2024-07-01T08:01:35"
         ],
         "y": [
          5.8,
          5.8,
          6.2,
          6.2,
          null,
          1.8,
          1.8,
          2.2,
          2.2
         ]
        },
        {
         "fill": "toself",
         "fillcolor": "rgb(161, 217, 155)",
         "hoverinfo": "name",
         "legendgroup": "rgb(161, 217, 155)",
         "mode": "none",
         "name": "Job 10",
         "type": "scatter",
         "x": [
          "2024-07-01T08:01:14",
          "2024-07-01T08:01:17",
          "2024-07-01T08:01:17",
          "2024-07-01T08:01:14",
          "2024-07-01T08:01:14",
          "2024-07-01T08:01:43",
          "2024-07-01T08:02:07",
          "2024-07-01T08:02:07",
          "2024-07-01T08:01:43",
          "2024-07-01T08:01:43",
          "2024-07-01T08:01:17",
          "2024-07-01T08:01:22",
          "2024-07-01T08:01:22",
          "2024-07-01T08:01:17"
         ],
         "y": [
          5.8,
          5.8,
          6.2,
          6.2,
          null,
          4.8,
          4.8,
          5.2,
          5.2,
          null,
          1.8,
          1.8,
          2.2,
          2.2
         ]
        },
        {
         "fill": "toself",
         "fillcolor": "rgb(188, 189, 220)",
         "hoverinfo": "name",
         "legendgroup": "rgb(188, 189, 220)",
         "mode": "none",
         "name": "Job 14",
         "type": "scatter",
         "x": [
          "2024-07-01T08:00:07",
          "2024-07-01T08:00:08",
          "2024-07-01T08:00:08",
          "2024-07-01T08:00:07",
          "2024-07-01T08:00:07",
          "2024-07-01T08:00:53",
          "2024-07-01T08:01:17",
          "2024-07-01T08:01:17",
          "2024-07-01T08:00:53",
          "2024-07-01T08:00:53",
          "2024-07-01T08:00:08",
          "2024-07-01T08:00:13",
          "2024-07-01T08:00:13",
          "2024-07-01T08:00:08"
         ],
         "y": [
          5.8,
          5.8,
          6.2,
          6.2,
          null,
          2.8,
          2.8,
          3.2,
          3.2,
          null,
          1.8,
          1.8,
          2.2,
          2.2
         ]
        },
        {
         "fill": "toself",
         "fillcolor": "rgb(189, 189, 189)",
         "hoverinfo": "name",
         "legendgroup": "rgb(189, 189, 189)",
         "mode": "none",
         "name": "Job 18",
         "type": "scatter",
         "x": [
          "2024-07-01T08:01:30",
          "2024-07-01T08:01:34",
          "2024-07-01T08:01:34",
          "2024-07-01T08:01:30",
          "2024-07-01T08:01:30",
          "2024-07-01T08:02:31",
          "2024-07-01T08:02:55",
          "2024-07-01T08:02:55",
          "2024-07-01T08:02:31",
          "2024-07-01T08:02:31",
          "2024-07-01T08:01:34",
          "2024-07-01T08:01:37",
          "2024-07-01T08:01:37",
          "2024-07-01T08:01:34"
         ],
         "y": [
          5.8,
          5.8,
          6.2,
          6.2,
          null,
          4.8,
          4.8,
          5.2,
          5.2,
          null,
          -0.2,
          -0.2,
          0.2,
          0.2
         ]
        },
        {
         "fill": "toself",
         "fillcolor": "rgb(198, 219, 239)",
         "hoverinfo": "name",
         "legendgroup": "rgb(198, 219, 239)",
         "mode": "none",
         "name": "Job 3",
         "type": "scatter",
         "x": [
          "2024-07-01T08:01:11",
          "2024-07-01T08:01:14",
          "2024-07-01T08:01:14",
          "2024-07-01T08:01:11",
          "2024-07-01T08:01:11",
          "2024-07-01T08:01:39",
          "2024-07-01T08:01:43",
          "2024-07-01T08:01:43",
          "2024-07-01T08:01:39"
         ],
         "y": [
          5.8,
          5.8,
          6.2,
          6.2,
          null,
          1.8,
          1.8,
          2.2,
          2.2
         ]
        },
        {
         "fill": "toself",
         "fillcolor": "rgb(199, 233, 192)",
         "hoverinfo": "name",
         "legendgroup": "rgb(199, 233, 192)",
         "mode": "none",
         "name": "Job 11",
         "type": "scatter",
         "x": [
          "2024-07-01T08:00:04",
          "2024-07-01T08:00:08",
          "2024-07-01T08:00:08",
          "2024-07-01T08:00:04",
          "2024-07-01T08:00:04",
          "2024-07-01T08:01:25",
          "2024-07-01T08:01:26",
          "2024-07-01T08:01:26",
          "2024-07-01T08:01:25",
          "2024-07-01T08:01:25",
          "2024-07-01T08:01:26",
          "2024-07-01T08:01:30",
          "2024-07-01T08:01:30",
          "2024-07-01T08:01:26"
         ],
         "y": [
          6.8,
          6.8,
          7.2,
          7.2,
          null,
          5.8,
          5.8,
          6.2,
          6.2,
          null,
          1.8,
          1.8,
          2.2,
          2.2
         ]
        },
        {
         "fill": "toself",
         "fillcolor": "rgb(217, 217, 217)",
         "hoverinfo": "name",
         "legendgroup": "rgb(217, 217, 217)",
         "mode": "none",
         "name": "Job 19",
         "type": "scatter",
         "x": [
          "2024-07-01T08:00:15",
          "2024-07-01T08:00:18",
          "2024-07-01T08:00:18",
          "2024-07-01T08:00:15",
          "2024-07-01T08:00:15",
          "2024-07-01T08:00:23",
          "2024-07-01T08:00:47",
          "2024-07-01T08:00:47",
          "2024-07-01T08:00:23",
          "2024-07-01T08:00:23",
          "2024-07-01T08:00:18",
          "2024-07-01T08:00:23",
          "2024-07-01T08:00:23",
          "2024-07-01T08:00:18"
         ],
         "y": [
          5.8,
          5.8,
          6.2,
          6.2,
          null,
          3.8,
          3.8,
          4.2,
          4.2,
          null,
          1.8,
          1.8,
          2.2,
          2.2
         ]
        },
        {
         "fill": "toself",
         "fillcolor": "rgb(218, 218, 235)",
         "hoverinfo": "name",
         "legendgroup": "rgb(218, 218, 235)",
         "mode": "none",
         "name": "Job 15",
         "type": "scatter",
         "x": [
          "2024-07-01T08:01:22",
          "2024-07-01T08:01:25",
          "2024-07-01T08:01:25",
          "2024-07-01T08:01:22",
          "2024-07-01T08:01:22",
          "2024-07-01T08:01:48",
          "2024-07-01T08:01:52",
          "2024-07-01T08:01:52",
          "2024-07-01T08:01:48"
         ],
         "y": [
          5.8,
          5.8,
          6.2,
          6.2,
          null,
          1.8,
          1.8,
          2.2,
          2.2
         ]
        },
        {
         "fill": "toself",
         "fillcolor": "rgb(230, 85, 13)",
         "hoverinfo": "name",
         "legendgroup": "rgb(230, 85, 13)",
         "mode": "none",
         "name": "Job 4",
         "type": "scatter",
         "x": [
          "2024-07-01T08:00:08",
          "2024-07-01T08:00:11",
          "2024-07-01T08:00:11",
          "2024-07-01T08:00:08",
          "2024-07-01T08:00:08",
          "2024-07-01T08:00:23",
          "2024-07-01T08:00:27",
          "2024-07-01T08:00:27",
          "2024-07-01T08:00:23"
         ],
         "y": [
          5.8,
          5.8,
          6.2,
          6.2,
          null,
          1.8,
          1.8,
          2.2,
          2.2
         ]
        },
        {
         "fill": "toself",
         "fillcolor": "rgb(253, 141, 60)",
         "hoverinfo": "name",
         "legendgroup": "rgb(253, 141, 60)",
         "mode": "none",
         "name": "Job 5",
         "type": "scatter",
         "x": [
          "2024-07-01T08:00:00",
          "2024-07-01T08:00:03",
          "2024-07-01T08:00:03",
          "2024-07-01T08:00:00",
          "2024-07-01T08:00:00",
          "2024-07-01T08:01:22",
          "2024-07-01T08:01:26",
          "2024-07-01T08:01:26",
          "2024-07-01T08:01:22"
         ],
         "y": [
          5.8,
          5.8,
          6.2,
          6.2,
          null,
          1.8,
          1.8,
          2.2,
          2.2
         ]
        },
        {
         "fill": "toself",
         "fillcolor": "rgb(253, 174, 107)",
         "hoverinfo": "name",
         "legendgroup": "rgb(253, 174, 107)",
         "mode": "none",
         "name": "Job 6",
         "type": "scatter",
         "x": [
          "2024-07-01T08:00:12",
          "2024-07-01T08:00:15",
          "2024-07-01T08:00:15",
          "2024-07-01T08:00:12",
          "2024-07-01T08:00:12",
          "2024-07-01T08:00:47",
          "2024-07-01T08:00:50",
          "2024-07-01T08:00:50",
          "2024-07-01T08:00:47",
          "2024-07-01T08:00:47",
          "2024-07-01T08:01:17",
          "2024-07-01T08:01:38",
          "2024-07-01T08:01:38",
          "2024-07-01T08:01:17",
          "2024-07-01T08:01:17",
          "2024-07-01T08:00:23",
          "2024-07-01T08:00:26",
          "2024-07-01T08:00:26",
          "2024-07-01T08:00:23"
         ],
         "y": [
          5.8,
          5.8,
          6.2,
          6.2,
          null,
          3.8,
          3.8,
          4.2,
          4.2,
          null,
          2.8,
          2.8,
          3.2,
          3.2,
          null,
          0.8,
          0.8,
          1.2,
          1.2
         ]
        },
        {
         "fill": "toself",
         "fillcolor": "rgb(253, 208, 162)",
         "hoverinfo": "name",
         "legendgroup": "rgb(253, 208, 162)",
         "mode": "none",
         "name": "Job 7",
         "type": "scatter",
         "x": [
          "2024-07-01T08:01:02",
          "2024-07-01T08:01:05",
          "2024-07-01T08:01:05",
          "2024-07-01T08:01:02",
          "2024-07-01T08:01:02",
          "2024-07-01T08:01:19",
          "2024-07-01T08:01:43",
          "2024-07-01T08:01:43",
          "2024-07-01T08:01:19",
          "2024-07-01T08:01:19",
          "2024-07-01T08:01:05",
          "2024-07-01T08:01:08",
          "2024-07-01T08:01:08",
          "2024-07-01T08:01:05"
         ],
         "y": [
          5.8,
          5.8,
          6.2,
          6.2,
          null,
          4.8,
          4.8,
          5.2,
          5.2,
          null,
          -0.2,
          -0.2,
          0.2,
          0.2
         ]
        },
        {
         "fill": "toself",
         "fillcolor": "rgb(49, 130, 189)",
         "hoverinfo": "name",
         "legendgroup": "rgb(49, 130, 189)",
         "mode": "none",
         "name": "Job 0",
         "type": "scatter",
         "x": [
          "2024-07-01T08:01:18",
          "2024-07-01T08:01:22",
          "2024-07-01T08:01:22",
          "2024-07-01T08:01:18",
          "2024-07-01T08:01:18",
          "2024-07-01T08:01:38",
          "2024-07-01T08:02:02",
          "2024-07-01T08:02:02",
          "2024-07-01T08:01:38",
          "2024-07-01T08:01:38",
          "2024-07-01T08:01:22",
          "2024-07-01T08:01:25",
          "2024-07-01T08:01:25",
          "2024-07-01T08:01:22"
         ],
         "y": [
          5.8,
          5.8,
          6.2,
          6.2,
          null,
          3.8,
          3.8,
          4.2,
          4.2,
          null,
          0.8,
          0.8,
          1.2,
          1.2
         ]
        },
        {
         "fill": "toself",
         "fillcolor": "rgb(49, 163, 84)",
         "hoverinfo": "name",
         "legendgroup": "rgb(49, 163, 84)",
         "mode": "none",
         "name": "Job 8",
         "type": "scatter",
         "x": [
          "2024-07-01T08:00:18",
          "2024-07-01T08:00:20",
          "2024-07-01T08:00:20",
          "2024-07-01T08:00:18",
          "2024-07-01T08:00:18",
          "2024-07-01T08:01:05",
          "2024-07-01T08:01:08",
          "2024-07-01T08:01:08",
          "2024-07-01T08:01:05",
          "2024-07-01T08:01:05",
          "2024-07-01T08:01:38",
          "2024-07-01T08:02:26",
          "2024-07-01T08:02:26",
          "2024-07-01T08:01:38",
          "2024-07-01T08:01:38",
          "2024-07-01T08:01:08",
          "2024-07-01T08:01:14",
          "2024-07-01T08:01:14",
          "2024-07-01T08:01:08"
         ],
         "y": [
          5.8,
          5.8,
          6.2,
          6.2,
          null,
          5.8,
          5.8,
          6.2,
          6.2,
          null,
          2.8,
          2.8,
          3.2,
          3.2,
          null,
          -0.2,
          -0.2,
          0.2,
          0.2
         ]
        },
        {
         "fill": "toself",
         "fillcolor": "rgb(99, 99, 99)",
         "hoverinfo": "name",
         "legendgroup": "rgb(99, 99, 99)",
         "mode": "none",
         "name": "Job 16",
         "type": "scatter",
         "x": [
          "2024-07-01T08:01:17",
          "2024-07-01T08:01:18",
          "2024-07-01T08:01:18",
          "2024-07-01T08:01:17",
          "2024-07-01T08:01:17",
          "2024-07-01T08:02:07",
          "2024-07-01T08:02:31",
          "2024-07-01T08:02:31",
          "2024-07-01T08:02:07",
          "2024-07-01T08:02:07",
          "2024-07-01T08:01:52",
          "2024-07-01T08:01:57",
          "2024-07-01T08:01:57",
          "2024-07-01T08:01:52"
         ],
         "y": [
          5.8,
          5.8,
          6.2,
          6.2,
          null,
          4.8,
          4.8,
          5.2,
          5.2,
          null,
          1.8,
          1.8,
          2.2,
          2.2
         ]
        },
        {
         "legendgroup": "rgb(107, 174, 214)",
         "marker": {
          "color": "rgb(107, 174, 214)",
          "opacity": 0,
          "size": 1
         },
         "mode": "markers",
         "name": "",
         "showlegend": false,
         "text": [
          null,
          null,
          null,
          null,
          null,
          null
         ],
         "type": "scatter",
         "x": [
          "2024-07-01T08:00:03",
          "2024-07-01T08:00:07",
          "2024-07-01T08:00:29",
          "2024-07-01T08:00:53",
          "2024-07-01T08:00:26",
          "2024-07-01T08:00:29"
         ],
         "y": [
          6,
          6,
          3,
          3,
          1,
          1
         ]
        },
        {
         "legendgroup": "rgb(116, 196, 118)",
         "marker": {
          "color": "rgb(116, 196, 118)",
          "opacity": 0,
          "size": 1
         },
         "mode": "markers",
         "name": "",
         "showlegend": false,
         "text": [
          null,
          null,
          null,
          null,
          null,
          null
         ],
         "type": "scatter",
         "x": [
          "2024-07-01T08:01:27",
          "2024-07-01T08:01:30",
          "2024-07-01T08:02:26",
          "2024-07-01T08:02:50",
          "2024-07-01T08:01:43",
          "2024-07-01T08:01:48"
         ],
         "y": [
          6,
          6,
          3,
          3,
          2,
          2
         ]
        },
        {
         "legendgroup": "rgb(117, 107, 177)",
         "marker": {
          "color": "rgb(117, 107, 177)",
          "opacity": 0,
          "size": 1
         },
         "mode": "markers",
         "name": "",
         "showlegend": false,
         "text": [
          null,
          null,
          null,
          null,
          null,
          null
         ],
         "type": "scatter",
         "x": [
          "2024-07-01T08:00:00",
          "2024-07-01T08:00:04",
          "2024-07-01T08:01:34",
          "2024-07-01T08:01:35",
          "2024-07-01T08:01:57",
          "2024-07-01T08:02:01"
         ],
         "y": [
          7,
          7,
          6,
          6,
          2,
          2
         ]
        },
        {
         "legendgroup": "rgb(150, 150, 150)",
         "marker": {
          "color": "rgb(150, 150, 150)",
          "opacity": 0,
          "size": 1
         },
         "mode": "markers",
         "name": "",
         "showlegend": false,
         "text": [
          null,
          null,
          null,
          null,
          null,
          null
         ],
         "type": "scatter",
         "x": [
          "2024-07-01T08:01:26",
          "2024-07-01T08:01:27",
          "2024-07-01T08:02:02",
          "2024-07-01T08:02:26",
          "2024-07-01T08:01:30",
          "2024-07-01T08:01:35"
         ],
         "y": [
          6,
          6,
          4,
          4,
          2,
          2
         ]
        },
        {
         "legendgroup": "rgb(158, 154, 200)",
         "marker": {
          "color": "rgb(158, 154, 200)",
          "opacity": 0,
          "size": 1
         },
         "mode": "markers",
         "name": "",
         "showlegend": false,
         "text": [
          null,
          null,
          null,
          null,
          null,
          null
         ],
         "type": "scatter",
         "x": [
          "2024-07-01T08:00:11",
          "2024-07-01T08:00:12",
          "2024-07-01T08:00:55",
          "2024-07-01T08:01:19",
          "2024-07-01T08:00:50",
          "2024-07-01T08:00:55"
         ],
         "y": [
          6,
          6,
          5,
          5,
          2,
          2
         ]
        },
        {
         "legendgroup": "rgb(158, 202, 225)",
         "marker": {
          "color": "rgb(158, 202, 225)",
          "opacity": 0,
          "size": 1
         },
         "mode": "markers",
         "name": "",
         "showlegend": false,
         "text": [
          null,
          null,
          null,
          null
         ],
         "type": "scatter",
         "x": [
          "2024-07-01T08:01:08",
          "2024-07-01T08:01:11",
          "2024-07-01T08:01:35",
          "2024-07-01T08:01:39"
         ],
         "y": [
          6,
          6,
          2,
          2
         ]
        },
        {
         "legendgroup": "rgb(161, 217, 155)",
         "marker": {
          "color": "rgb(161, 217, 155)",
          "opacity": 0,
          "size": 1
         },
         "mode": "markers",
         "name": "",
         "showlegend": false,
         "text": [
          null,
          null,
          null,
          null,
          null,
          null
         ],
         "type": "scatter",
         "x": [
          "2024-07-01T08:01:14",
          "2024-07-01T08:01:17",
          "2024-07-01T08:01:43",
          "2024-07-01T08:02:07",
          "2024-07-01T08:01:17",
          "2024-07-01T08:01:22"
         ],
         "y": [
          6,
          6,
          5,
          5,
          2,
          2
         ]
        },
        {
         "legendgroup": "rgb(188, 189, 220)",
         "marker": {
          "color": "rgb(188, 189, 220)",
          "opacity": 0,
          "size": 1
         },
         "mode": "markers",
         "name": "",
         "showlegend": false,
         "text": [
          null,
          null,
          null,
          null,
          null,
          null
         ],
         "type": "scatter",
         "x": [
          "2024-07-01T08:00:07",
          "2024-07-01T08:00:08",
          "2024-07-01T08:00:53",
          "2024-07-01T08:01:17",
          "2024-07-01T08:00:08",
          "2024-07-01T08:00:13"
         ],
         "y": [
          6,
          6,
          3,
          3,
          2,
          2
         ]
        },
        {
         "legendgroup": "rgb(189, 189, 189)",
         "marker": {
          "color": "rgb(189, 189, 189)",
          "opacity": 0,
          "size": 1
         },
         "mode": "markers",
         "name": "",
         "showlegend": false,
         "text": [
          null,
          null,
          null,
          null,
          null,
          null
         ],
         "type": "scatter",
         "x": [
          "2024-07-01T08:01:30",
          "2024-07-01T08:01:34",
          "2024-07-01T08:02:31",
          "2024-07-01T08:02:55",
          "2024-07-01T08:01:34",
          "2024-07-01T08:01:37"
         ],
         "y": [
          6,
          6,
          5,
          5,
          0,
          0
         ]
        },
        {
         "legendgroup": "rgb(198, 219, 239)",
         "marker": {
          "color": "rgb(198, 219, 239)",
          "opacity": 0,
          "size": 1
         },
         "mode": "markers",
         "name": "",
         "showlegend": false,
         "text": [
          null,
          null,
          null,
          null
         ],
         "type": "scatter",
         "x": [
          "2024-07-01T08:01:11",
          "2024-07-01T08:01:14",
          "2024-07-01T08:01:39",
          "2024-07-01T08:01:43"
         ],
         "y": [
          6,
          6,
          2,
          2
         ]
        },
        {
         "legendgroup": "rgb(199, 233, 192)",
         "marker": {
          "color": "rgb(199, 233, 192)",
          "opacity": 0,
          "size": 1
         },
         "mode": "markers",
         "name": "",
         "showlegend": false,
         "text": [
          null,
          null,
          null,
          null,
          null,
          null
         ],
         "type": "scatter",
         "x": [
          "2024-07-01T08:00:04",
          "2024-07-01T08:00:08",
          "2024-07-01T08:01:25",
          "2024-07-01T08:01:26",
          "2024-07-01T08:01:26",
          "2024-07-01T08:01:30"
         ],
         "y": [
          7,
          7,
          6,
          6,
          2,
          2
         ]
        },
        {
         "legendgroup": "rgb(217, 217, 217)",
         "marker": {
          "color": "rgb(217, 217, 217)",
          "opacity": 0,
          "size": 1
         },
         "mode": "markers",
         "name": "",
         "showlegend": false,
         "text": [
          null,
          null,
          null,
          null,
          null,
          null
         ],
         "type": "scatter",
         "x": [
          "2024-07-01T08:00:15",
          "2024-07-01T08:00:18",
          "2024-07-01T08:00:23",
          "2024-07-01T08:00:47",
          "2024-07-01T08:00:18",
          "2024-07-01T08:00:23"
         ],
         "y": [
          6,
          6,
          4,
          4,
          2,
          2
         ]
        },
        {
         "legendgroup": "rgb(218, 218, 235)",
         "marker": {
          "color": "rgb(218, 218, 235)",
          "opacity": 0,
          "size": 1
         },
         "mode": "markers",
         "name": "",
         "showlegend": false,
         "text": [
          null,
          null,
          null,
          null
         ],
         "type": "scatter",
         "x": [
          "2024-07-01T08:01:22",
          "2024-07-01T08:01:25",
          "2024-07-01T08:01:48",
          "2024-07-01T08:01:52"
         ],
         "y": [
          6,
          6,
          2,
          2
         ]
        },
        {
         "legendgroup": "rgb(230, 85, 13)",
         "marker": {
          "color": "rgb(230, 85, 13)",
          "opacity": 0,
          "size": 1
         },
         "mode": "markers",
         "name": "",
         "showlegend": false,
         "text": [
          null,
          null,
          null,
          null
         ],
         "type": "scatter",
         "x": [
          "2024-07-01T08:00:08",
          "2024-07-01T08:00:11",
          "2024-07-01T08:00:23",
          "2024-07-01T08:00:27"
         ],
         "y": [
          6,
          6,
          2,
          2
         ]
        },
        {
         "legendgroup": "rgb(253, 141, 60)",
         "marker": {
          "color": "rgb(253, 141, 60)",
          "opacity": 0,
          "size": 1
         },
         "mode": "markers",
         "name": "",
         "showlegend": false,
         "text": [
          null,
          null,
          null,
          null
         ],
         "type": "scatter",
         "x": [
          "2024-07-01T08:00:00",
          "2024-07-01T08:00:03",
          "2024-07-01T08:01:22",
          "2024-07-01T08:01:26"
         ],
         "y": [
          6,
          6,
          2,
          2
         ]
        },
        {
         "legendgroup": "rgb(253, 174, 107)",
         "marker": {
          "color": "rgb(253, 174, 107)",
          "opacity": 0,
          "size": 1
         },
         "mode": "markers",
         "name": "",
         "showlegend": false,
         "text": [
          null,
          null,
          null,
          null,
          null,
          null,
          null,
          null
         ],
         "type": "scatter",
         "x": [
          "2024-07-01T08:00:12",
          "2024-07-01T08:00:15",
          "2024-07-01T08:00:47",
          "2024-07-01T08:00:50",
          "2024-07-01T08:01:17",
          "2024-07-01T08:01:38",
          "2024-07-01T08:00:23",
          "2024-07-01T08:00:26"
         ],
         "y": [
          6,
          6,
          4,
          4,
          3,
          3,
          1,
          1
         ]
        },
        {
         "legendgroup": "rgb(253, 208, 162)",
         "marker": {
          "color": "rgb(253, 208, 162)",
          "opacity": 0,
          "size": 1
         },
         "mode": "markers",
         "name": "",
         "showlegend": false,
         "text": [
          null,
          null,
          null,
          null,
          null,
          null
         ],
         "type": "scatter",
         "x": [
          "2024-07-01T08:01:02",
          "2024-07-01T08:01:05",
          "2024-07-01T08:01:19",
          "2024-07-01T08:01:43",
          "2024-07-01T08:01:05",
          "2024-07-01T08:01:08"
         ],
         "y": [
          6,
          6,
          5,
          5,
          0,
          0
         ]
        },
        {
         "legendgroup": "rgb(49, 130, 189)",
         "marker": {
          "color": "rgb(49, 130, 189)",
          "opacity": 0,
          "size": 1
         },
         "mode": "markers",
         "name": "",
         "showlegend": false,
         "text": [
          null,
          null,
          null,
          null,
          null,
          null
         ],
         "type": "scatter",
         "x": [
          "2024-07-01T08:01:18",
          "2024-07-01T08:01:22",
          "2024-07-01T08:01:38",
          "2024-07-01T08:02:02",
          "2024-07-01T08:01:22",
          "2024-07-01T08:01:25"
         ],
         "y": [
          6,
          6,
          4,
          4,
          1,
          1
         ]
        },
        {
         "legendgroup": "rgb(49, 163, 84)",
         "marker": {
          "color": "rgb(49, 163, 84)",
          "opacity": 0,
          "size": 1
         },
         "mode": "markers",
         "name": "",
         "showlegend": false,
         "text": [
          null,
          null,
          null,
          null,
          null,
          null,
          null,
          null
         ],
         "type": "scatter",
         "x": [
          "2024-07-01T08:00:18",
          "2024-07-01T08:00:20",
          "2024-07-01T08:01:05",
          "2024-07-01T08:01:08",
          "2024-07-01T08:01:38",
          "2024-07-01T08:02:26",
          "2024-07-01T08:01:08",
          "2024-07-01T08:01:14"
         ],
         "y": [
          6,
          6,
          6,
          6,
          3,
          3,
          0,
          0
         ]
        },
        {
         "legendgroup": "rgb(99, 99, 99)",
         "marker": {
          "color": "rgb(99, 99, 99)",
          "opacity": 0,
          "size": 1
         },
         "mode": "markers",
         "name": "",
         "showlegend": false,
         "text": [
          null,
          null,
          null,
          null,
          null,
          null
         ],
         "type": "scatter",
         "x": [
          "2024-07-01T08:01:17",
          "2024-07-01T08:01:18",
          "2024-07-01T08:02:07",
          "2024-07-01T08:02:31",
          "2024-07-01T08:01:52",
          "2024-07-01T08:01:57"
         ],
         "y": [
          6,
          6,
          5,
          5,
          2,
          2
         ]
        }
       ],
       "layout": {
        "annotations": [
         {
          "align": "center",
          "font": {
           "color": "black",
           "size": 10
          },
          "showarrow": false,
          "text": "X",
          "valign": "middle",
          "x": "2024-07-01T08:00:41",
          "y": 6
         },
         {
          "align": "center",
          "font": {
           "color": "black",
           "size": 10
          },
          "showarrow": false,
          "text": "X",
          "valign": "middle",
          "x": "2024-07-01T08:01:14",
          "y": 4
         }
        ],
        "height": 600,
        "hovermode": "closest",
        "legend": {
         "traceorder": "normal"
        },
        "shapes": [
         {
          "fillcolor": "white",
          "line": {
           "color": "black"
          },
          "opacity": 1,
          "type": "rect",
          "x0": "2024-07-01T08:00:20",
          "x1": "2024-07-01T08:01:02",
          "y0": 5.82,
          "y1": 6.18
         },
         {
          "fillcolor": "white",
          "line": {
           "color": "black"
          },
          "opacity": 1,
          "type": "rect",
          "x0": "2024-07-01T08:00:50",
          "x1": "2024-07-01T08:01:38",
          "y0": 3.82,
          "y1": 4.18
         },
         {
          "line": {
           "color": "black",
           "dash": "dash"
          },
          "type": "line",
          "x0": "2024-07-01T08:00:50",
          "x1": "2024-07-01T08:00:50",
          "y0": -0.5,
          "y1": 7.5
         }
        ],
        "showlegend": true,
        "template": {
         "data": {
          "bar": [
           {
            "error_x": {
             "color": "#2a3f5f"
            },
            "error_y": {
             "color": "#2a3f5f"
            },
            "marker": {
             "line": {
              "color": "#E5ECF6",
              "width": 0.5
             },
             "pattern": {
              "fillmode": "overlay",
              "size": 10,
              "solidity": 0.2
             }
            },
            "type": "bar"
           }
          ],
          "barpolar": [
           {
            "marker": {
             "line": {
              "color": "#E5ECF6",
              "width": 0.5
             },
             "pattern": {
              "fillmode": "overlay",
              "size": 10,
              "solidity": 0.2
             }
            },
            "type": "barpolar"
           }
          ],
          "carpet": [
           {
            "aaxis": {
             "endlinecolor": "#2a3f5f",
             "gridcolor": "white",
             "linecolor": "white",
             "minorgridcolor": "white",
             "startlinecolor": "#2a3f5f"
            },
            "baxis": {
             "endlinecolor": "#2a3f5f",
             "gridcolor": "white",
             "linecolor": "white",
             "minorgridcolor": "white",
             "startlinecolor": "#2a3f5f"
            },
            "type": "carpet"
           }
          ],
          "choropleth": [
           {
            "colorbar": {
             "outlinewidth": 0,
             "ticks": ""
            },
            "type": "choropleth"
           }
          ],
          "contour": [
           {
            "colorbar": {
             "outlinewidth": 0,
             "ticks": ""
            },
            "colorscale": [
             [
              0,
              "#0d0887"
             ],
             [
              0.1111111111111111,
              "#46039f"
             ],
             [
              0.2222222222222222,
              "#7201a8"
             ],
             [
              0.3333333333333333,
              "#9c179e"
             ],
             [
              0.4444444444444444,
              "#bd3786"
             ],
             [
              0.5555555555555556,
              "#d8576b"
             ],
             [
              0.6666666666666666,
              "#ed7953"
             ],
             [
              0.7777777777777778,
              "#fb9f3a"
             ],
             [
              0.8888888888888888,
              "#fdca26"
             ],
             [
              1,
              "#f0f921"
             ]
            ],
            "type": "contour"
           }
          ],
          "contourcarpet": [
           {
            "colorbar": {
             "outlinewidth": 0,
             "ticks": ""
            },
            "type": "contourcarpet"
           }
          ],
          "heatmap": [
           {
            "colorbar": {
             "outlinewidth": 0,
             "ticks": ""
            },
            "colorscale": [
             [
              0,
              "#0d0887"
             ],
             [
              0.1111111111111111,
              "#46039f"
             ],
             [
              0.2222222222222222,
              "#7201a8"
             ],
             [
              0.3333333333333333,
              "#9c179e"
             ],
             [
              0.4444444444444444,
              "#bd3786"
             ],
             [
              0.5555555555555556,
              "#d8576b"
             ],
             [
              0.6666666666666666,
              "#ed7953"
             ],
             [
              0.7777777777777778,
              "#fb9f3a"
             ],
             [
              0.8888888888888888,
              "#fdca26"
             ],
             [
              1,
              "#f0f921"
             ]
            ],
            "type": "heatmap"
           }
          ],
          "heatmapgl": [
           {
            "colorbar": {
             "outlinewidth": 0,
             "ticks": ""
            },
            "colorscale": [
             [
              0,
              "#0d0887"
             ],
             [
              0.1111111111111111,
              "#46039f"
             ],
             [
              0.2222222222222222,
              "#7201a8"
             ],
             [
              0.3333333333333333,
              "#9c179e"
             ],
             [
              0.4444444444444444,
              "#bd3786"
             ],
             [
              0.5555555555555556,
              "#d8576b"
             ],
             [
              0.6666666666666666,
              "#ed7953"
             ],
             [
              0.7777777777777778,
              "#fb9f3a"
             ],
             [
              0.8888888888888888,
              "#fdca26"
             ],
             [
              1,
              "#f0f921"
             ]
            ],
            "type": "heatmapgl"
           }
          ],
          "histogram": [
           {
            "marker": {
             "pattern": {
              "fillmode": "overlay",
              "size": 10,
              "solidity": 0.2
             }
            },
            "type": "histogram"
           }
          ],
          "histogram2d": [
           {
            "colorbar": {
             "outlinewidth": 0,
             "ticks": ""
            },
            "colorscale": [
             [
              0,
              "#0d0887"
             ],
             [
              0.1111111111111111,
              "#46039f"
             ],
             [
              0.2222222222222222,
              "#7201a8"
             ],
             [
              0.3333333333333333,
              "#9c179e"
             ],
             [
              0.4444444444444444,
              "#bd3786"
             ],
             [
              0.5555555555555556,
              "#d8576b"
             ],
             [
              0.6666666666666666,
              "#ed7953"
             ],
             [
              0.7777777777777778,
              "#fb9f3a"
             ],
             [
              0.8888888888888888,
              "#fdca26"
             ],
             [
              1,
              "#f0f921"
             ]
            ],
            "type": "histogram2d"
           }
          ],
          "histogram2dcontour": [
           {
            "colorbar": {
             "outlinewidth": 0,
             "ticks": ""
            },
            "colorscale": [
             [
              0,
              "#0d0887"
             ],
             [
              0.1111111111111111,
              "#46039f"
             ],
             [
              0.2222222222222222,
              "#7201a8"
             ],
             [
              0.3333333333333333,
              "#9c179e"
             ],
             [
              0.4444444444444444,
              "#bd3786"
             ],
             [
              0.5555555555555556,
              "#d8576b"
             ],
             [
              0.6666666666666666,
              "#ed7953"
             ],
             [
              0.7777777777777778,
              "#fb9f3a"
             ],
             [
              0.8888888888888888,
              "#fdca26"
             ],
             [
              1,
              "#f0f921"
             ]
            ],
            "type": "histogram2dcontour"
           }
          ],
          "mesh3d": [
           {
            "colorbar": {
             "outlinewidth": 0,
             "ticks": ""
            },
            "type": "mesh3d"
           }
          ],
          "parcoords": [
           {
            "line": {
             "colorbar": {
              "outlinewidth": 0,
              "ticks": ""
             }
            },
            "type": "parcoords"
           }
          ],
          "pie": [
           {
            "automargin": true,
            "type": "pie"
           }
          ],
          "scatter": [
           {
            "fillpattern": {
             "fillmode": "overlay",
             "size": 10,
             "solidity": 0.2
            },
            "type": "scatter"
           }
          ],
          "scatter3d": [
           {
            "line": {
             "colorbar": {
              "outlinewidth": 0,
              "ticks": ""
             }
            },
            "marker": {
             "colorbar": {
              "outlinewidth": 0,
              "ticks": ""
             }
            },
            "type": "scatter3d"
           }
          ],
          "scattercarpet": [
           {
            "marker": {
             "colorbar": {
              "outlinewidth": 0,
              "ticks": ""
             }
            },
            "type": "scattercarpet"
           }
          ],
          "scattergeo": [
           {
            "marker": {
             "colorbar": {
              "outlinewidth": 0,
              "ticks": ""
             }
            },
            "type": "scattergeo"
           }
          ],
          "scattergl": [
           {
            "marker": {
             "colorbar": {
              "outlinewidth": 0,
              "ticks": ""
             }
            },
            "type": "scattergl"
           }
          ],
          "scattermapbox": [
           {
            "marker": {
             "colorbar": {
              "outlinewidth": 0,
              "ticks": ""
             }
            },
            "type": "scattermapbox"
           }
          ],
          "scatterpolar": [
           {
            "marker": {
             "colorbar": {
              "outlinewidth": 0,
              "ticks": ""
             }
            },
            "type": "scatterpolar"
           }
          ],
          "scatterpolargl": [
           {
            "marker": {
             "colorbar": {
              "outlinewidth": 0,
              "ticks": ""
             }
            },
            "type": "scatterpolargl"
           }
          ],
          "scatterternary": [
           {
            "marker": {
             "colorbar": {
              "outlinewidth": 0,
              "ticks": ""
             }
            },
            "type": "scatterternary"
           }
          ],
          "surface": [
           {
            "colorbar": {
             "outlinewidth": 0,
             "ticks": ""
            },
            "colorscale": [
             [
              0,
              "#0d0887"
             ],
             [
              0.1111111111111111,
              "#46039f"
             ],
             [
              0.2222222222222222,
              "#7201a8"
             ],
             [
              0.3333333333333333,
              "#9c179e"
             ],
             [
              0.4444444444444444,
              "#bd3786"
             ],
             [
              0.5555555555555556,
              "#d8576b"
             ],
             [
              0.6666666666666666,
              "#ed7953"
             ],
             [
              0.7777777777777778,
              "#fb9f3a"
             ],
             [
              0.8888888888888888,
              "#fdca26"
             ],
             [
              1,
              "#f0f921"
             ]
            ],
            "type": "surface"
           }
          ],
          "table": [
           {
            "cells": {
             "fill": {
              "color": "#EBF0F8"
             },
             "line": {
              "color": "white"
             }
            },
            "header": {
             "fill": {
              "color": "#C8D4E3"
             },
             "line": {
              "color": "white"
             }
            },
            "type": "table"
           }
          ]
         },
         "layout": {
          "annotationdefaults": {
           "arrowcolor": "#2a3f5f",
           "arrowhead": 0,
           "arrowwidth": 1
          },
          "autotypenumbers": "strict",
          "coloraxis": {
           "colorbar": {
            "outlinewidth": 0,
            "ticks": ""
           }
          },
          "colorscale": {
           "diverging": [
            [
             0,
             "#8e0152"
            ],
            [
             0.1,
             "#c51b7d"
            ],
            [
             0.2,
             "#de77ae"
            ],
            [
             0.3,
             "#f1b6da"
            ],
            [
             0.4,
             "#fde0ef"
            ],
            [
             0.5,
             "#f7f7f7"
            ],
            [
             0.6,
             "#e6f5d0"
            ],
            [
             0.7,
             "#b8e186"
            ],
            [
             0.8,
             "#7fbc41"
            ],
            [
             0.9,
             "#4d9221"
            ],
            [
             1,
             "#276419"
            ]
           ],
           "sequential": [
            [
             0,
             "#0d0887"
            ],
            [
             0.1111111111111111,
             "#46039f"
            ],
            [
             0.2222222222222222,
             "#7201a8"
            ],
            [
             0.3333333333333333,
             "#9c179e"
            ],
            [
             0.4444444444444444,
             "#bd3786"
            ],
            [
             0.5555555555555556,
             "#d8576b"
            ],
            [
             0.6666666666666666,
             "#ed7953"
            ],
            [
             0.7777777777777778,
             "#fb9f3a"
            ],
            [
             0.8888888888888888,
             "#fdca26"
            ],
            [
             1,
             "#f0f921"
            ]
           ],
           "sequentialminus": [
            [
             0,
             "#0d0887"
            ],
            [
             0.1111111111111111,
             "#46039f"
            ],
            [
             0.2222222222222222,
             "#7201a8"
            ],
            [
             0.3333333333333333,
             "#9c179e"
            ],
            [
             0.4444444444444444,
             "#bd3786"
            ],
            [
             0.5555555555555556,
             "#d8576b"
            ],
            [
             0.6666666666666666,
             "#ed7953"
            ],
            [
             0.7777777777777778,
             "#fb9f3a"
            ],
            [
             0.8888888888888888,
             "#fdca26"
            ],
            [
             1,
             "#f0f921"
            ]
           ]
          },
          "colorway": [
           "#636efa",
           "#EF553B",
           "#00cc96",
           "#ab63fa",
           "#FFA15A",
           "#19d3f3",
           "#FF6692",
           "#B6E880",
           "#FF97FF",
           "#FECB52"
          ],
          "font": {
           "color": "#2a3f5f"
          },
          "geo": {
           "bgcolor": "white",
           "lakecolor": "white",
           "landcolor": "#E5ECF6",
           "showlakes": true,
           "showland": true,
           "subunitcolor": "white"
          },
          "hoverlabel": {
           "align": "left"
          },
          "hovermode": "closest",
          "mapbox": {
           "style": "light"
          },
          "paper_bgcolor": "white",
          "plot_bgcolor": "#E5ECF6",
          "polar": {
           "angularaxis": {
            "gridcolor": "white",
            "linecolor": "white",
            "ticks": ""
           },
           "bgcolor": "#E5ECF6",
           "radialaxis": {
            "gridcolor": "white",
            "linecolor": "white",
            "ticks": ""
           }
          },
          "scene": {
           "xaxis": {
            "backgroundcolor": "#E5ECF6",
            "gridcolor": "white",
            "gridwidth": 2,
            "linecolor": "white",
            "showbackground": true,
            "ticks": "",
            "zerolinecolor": "white"
           },
           "yaxis": {
            "backgroundcolor": "#E5ECF6",
            "gridcolor": "white",
            "gridwidth": 2,
            "linecolor": "white",
            "showbackground": true,
            "ticks": "",
            "zerolinecolor": "white"
           },
           "zaxis": {
            "backgroundcolor": "#E5ECF6",
            "gridcolor": "white",
            "gridwidth": 2,
            "linecolor": "white",
            "showbackground": true,
            "ticks": "",
            "zerolinecolor": "white"
           }
          },
          "shapedefaults": {
           "line": {
            "color": "#2a3f5f"
           }
          },
          "ternary": {
           "aaxis": {
            "gridcolor": "white",
            "linecolor": "white",
            "ticks": ""
           },
           "baxis": {
            "gridcolor": "white",
            "linecolor": "white",
            "ticks": ""
           },
           "bgcolor": "#E5ECF6",
           "caxis": {
            "gridcolor": "white",
            "linecolor": "white",
            "ticks": ""
           }
          },
          "title": {
           "x": 0.05
          },
          "xaxis": {
           "automargin": true,
           "gridcolor": "white",
           "linecolor": "white",
           "ticks": "",
           "title": {
            "standoff": 15
           },
           "zerolinecolor": "white",
           "zerolinewidth": 2
          },
          "yaxis": {
           "automargin": true,
           "gridcolor": "white",
           "linecolor": "white",
           "ticks": "",
           "title": {
            "standoff": 15
           },
           "zerolinecolor": "white",
           "zerolinewidth": 2
          }
         }
        },
        "title": {
         "text": "Gantt Chart"
        },
        "xaxis": {
         "rangeselector": {
          "buttons": [
           {
            "count": 7,
            "label": "1w",
            "step": "day",
            "stepmode": "backward"
           },
           {
            "count": 1,
            "label": "1m",
            "step": "month",
            "stepmode": "backward"
           },
           {
            "count": 6,
            "label": "6m",
            "step": "month",
            "stepmode": "backward"
           },
           {
            "count": 1,
            "label": "YTD",
            "step": "year",
            "stepmode": "todate"
           },
           {
            "count": 1,
            "label": "1y",
            "step": "year",
            "stepmode": "backward"
           },
           {
            "step": "all"
           }
          ]
         },
         "showgrid": true,
         "tickformat": "%H:%M",
         "title": {
          "text": "Time"
         },
         "type": "date",
         "zeroline": false
        },
        "yaxis": {
         "autorange": false,
         "range": [
          -1,
          9
         ],
         "showgrid": true,
         "ticktext": [
          "Machine 7",
          "Machine 6",
          "Machine 5",
          "Machine 4",
          "Machine 3",
          "Machine 2",
          "Machine 1",
          "Machine 0"
         ],
         "tickvals": [
          0,
          1,
          2,
          3,
          4,
          5,
          6,
          7
         ],
         "title": {
          "text": "Machine"
         },
         "zeroline": false
        }
       }
      }
     },
     "metadata": {},
     "output_type": "display_data"
    },
    {
     "name": "stdout",
     "output_type": "stream",
     "text": [
      "GA 41.0\n"
     ]
    },
    {
     "data": {
      "application/vnd.plotly.v1+json": {
       "config": {
        "plotlyServerURL": "https://plot.ly"
       },
       "data": [
        {
         "fill": "toself",
         "fillcolor": "rgb(107, 174, 214)",
         "hoverinfo": "name",
         "legendgroup": "rgb(107, 174, 214)",
         "mode": "none",
         "name": "Job 1",
         "type": "scatter",
         "x": [
          "2024-07-01T08:00:03",
          "2024-07-01T08:00:07",
          "2024-07-01T08:00:07",
          "2024-07-01T08:00:03",
          "2024-07-01T08:00:03",
          "2024-07-01T08:00:29",
          "2024-07-01T08:00:53",
          "2024-07-01T08:00:53",
          "2024-07-01T08:00:29",
          "2024-07-01T08:00:29",
          "2024-07-01T08:00:26",
          "2024-07-01T08:00:29",
          "2024-07-01T08:00:29",
          "2024-07-01T08:00:26"
         ],
         "y": [
          5.8,
          5.8,
          6.2,
          6.2,
          null,
          2.8,
          2.8,
          3.2,
          3.2,
          null,
          0.8,
          0.8,
          1.2,
          1.2
         ]
        },
        {
         "fill": "toself",
         "fillcolor": "rgb(116, 196, 118)",
         "hoverinfo": "name",
         "legendgroup": "rgb(116, 196, 118)",
         "mode": "none",
         "name": "Job 9",
         "type": "scatter",
         "x": [
          "2024-07-01T08:01:29",
          "2024-07-01T08:01:32",
          "2024-07-01T08:01:32",
          "2024-07-01T08:01:29",
          "2024-07-01T08:01:29",
          "2024-07-01T08:02:05",
          "2024-07-01T08:02:29",
          "2024-07-01T08:02:29",
          "2024-07-01T08:02:05",
          "2024-07-01T08:02:05",
          "2024-07-01T08:01:46",
          "2024-07-01T08:01:51",
          "2024-07-01T08:01:51",
          "2024-07-01T08:01:46"
         ],
         "y": [
          5.8,
          5.8,
          6.2,
          6.2,
          null,
          2.8,
          2.8,
          3.2,
          3.2,
          null,
          1.8,
          1.8,
          2.2,
          2.2
         ]
        },
        {
         "fill": "toself",
         "fillcolor": "rgb(117, 107, 177)",
         "hoverinfo": "name",
         "legendgroup": "rgb(117, 107, 177)",
         "mode": "none",
         "name": "Job 12",
         "type": "scatter",
         "x": [
          "2024-07-01T08:00:00",
          "2024-07-01T08:00:04",
          "2024-07-01T08:00:04",
          "2024-07-01T08:00:00",
          "2024-07-01T08:00:00",
          "2024-07-01T08:01:24",
          "2024-07-01T08:01:25",
          "2024-07-01T08:01:25",
          "2024-07-01T08:01:24",
          "2024-07-01T08:01:24",
          "2024-07-01T08:02:00",
          "2024-07-01T08:02:04",
          "2024-07-01T08:02:04",
          "2024-07-01T08:02:00"
         ],
         "y": [
          6.8,
          6.8,
          7.2,
          7.2,
          null,
          5.8,
          5.8,
          6.2,
          6.2,
          null,
          1.8,
          1.8,
          2.2,
          2.2
         ]
        },
        {
         "fill": "toself",
         "fillcolor": "rgb(150, 150, 150)",
         "hoverinfo": "name",
         "legendgroup": "rgb(150, 150, 150)",
         "mode": "none",
         "name": "Job 17",
         "type": "scatter",
         "x": [
          "2024-07-01T08:01:18",
          "2024-07-01T08:01:19",
          "2024-07-01T08:01:19",
          "2024-07-01T08:01:18",
          "2024-07-01T08:01:18",
          "2024-07-01T08:02:29",
          "2024-07-01T08:02:53",
          "2024-07-01T08:02:53",
          "2024-07-01T08:02:29",
          "2024-07-01T08:02:29",
          "2024-07-01T08:01:51",
          "2024-07-01T08:01:56",
          "2024-07-01T08:01:56",
          "2024-07-01T08:01:51"
         ],
         "y": [
          5.8,
          5.8,
          6.2,
          6.2,
          null,
          2.8,
          2.8,
          3.2,
          3.2,
          null,
          1.8,
          1.8,
          2.2,
          2.2
         ]
        },
        {
         "fill": "toself",
         "fillcolor": "rgb(158, 154, 200)",
         "hoverinfo": "name",
         "legendgroup": "rgb(158, 154, 200)",
         "mode": "none",
         "name": "Job 13",
         "type": "scatter",
         "x": [
          "2024-07-01T08:00:11",
          "2024-07-01T08:00:12",
          "2024-07-01T08:00:12",
          "2024-07-01T08:00:11",
          "2024-07-01T08:00:11",
          "2024-07-01T08:00:55",
          "2024-07-01T08:01:19",
          "2024-07-01T08:01:19",
          "2024-07-01T08:00:55",
          "2024-07-01T08:00:55",
          "2024-07-01T08:00:50",
          "2024-07-01T08:00:55",
          "2024-07-01T08:00:55",
          "2024-07-01T08:00:50"
         ],
         "y": [
          5.8,
          5.8,
          6.2,
          6.2,
          null,
          4.8,
          4.8,
          5.2,
          5.2,
          null,
          1.8,
          1.8,
          2.2,
          2.2
         ]
        },
        {
         "fill": "toself",
         "fillcolor": "rgb(158, 202, 225)",
         "hoverinfo": "name",
         "legendgroup": "rgb(158, 202, 225)",
         "mode": "none",
         "name": "Job 2",
         "type": "scatter",
         "x": [
          "2024-07-01T08:01:08",
          "2024-07-01T08:01:11",
          "2024-07-01T08:01:11",
          "2024-07-01T08:01:08",
          "2024-07-01T08:01:08",
          "2024-07-01T08:01:24",
          "2024-07-01T08:01:28",
          "2024-07-01T08:01:28",
          "2024-07-01T08:01:24"
         ],
         "y": [
          5.8,
          5.8,
          6.2,
          6.2,
          null,
          1.8,
          1.8,
          2.2,
          2.2
         ]
        },
        {
         "fill": "toself",
         "fillcolor": "rgb(161, 217, 155)",
         "hoverinfo": "name",
         "legendgroup": "rgb(161, 217, 155)",
         "mode": "none",
         "name": "Job 10",
         "type": "scatter",
         "x": [
          "2024-07-01T08:01:14",
          "2024-07-01T08:01:17",
          "2024-07-01T08:01:17",
          "2024-07-01T08:01:14",
          "2024-07-01T08:01:14",
          "2024-07-01T08:02:23",
          "2024-07-01T08:02:47",
          "2024-07-01T08:02:47",
          "2024-07-01T08:02:23",
          "2024-07-01T08:02:23",
          "2024-07-01T08:01:41",
          "2024-07-01T08:01:46",
          "2024-07-01T08:01:46",
          "2024-07-01T08:01:41"
         ],
         "y": [
          5.8,
          5.8,
          6.2,
          6.2,
          null,
          3.8,
          3.8,
          4.2,
          4.2,
          null,
          1.8,
          1.8,
          2.2,
          2.2
         ]
        },
        {
         "fill": "toself",
         "fillcolor": "rgb(188, 189, 220)",
         "hoverinfo": "name",
         "legendgroup": "rgb(188, 189, 220)",
         "mode": "none",
         "name": "Job 14",
         "type": "scatter",
         "x": [
          "2024-07-01T08:00:07",
          "2024-07-01T08:00:08",
          "2024-07-01T08:00:08",
          "2024-07-01T08:00:07",
          "2024-07-01T08:00:07",
          "2024-07-01T08:00:53",
          "2024-07-01T08:01:17",
          "2024-07-01T08:01:17",
          "2024-07-01T08:00:53",
          "2024-07-01T08:00:53",
          "2024-07-01T08:00:08",
          "2024-07-01T08:00:13",
          "2024-07-01T08:00:13",
          "2024-07-01T08:00:08"
         ],
         "y": [
          5.8,
          5.8,
          6.2,
          6.2,
          null,
          2.8,
          2.8,
          3.2,
          3.2,
          null,
          1.8,
          1.8,
          2.2,
          2.2
         ]
        },
        {
         "fill": "toself",
         "fillcolor": "rgb(189, 189, 189)",
         "hoverinfo": "name",
         "legendgroup": "rgb(189, 189, 189)",
         "mode": "none",
         "name": "Job 18",
         "type": "scatter",
         "x": [
          "2024-07-01T08:01:25",
          "2024-07-01T08:01:29",
          "2024-07-01T08:01:29",
          "2024-07-01T08:01:25",
          "2024-07-01T08:01:25",
          "2024-07-01T08:02:07",
          "2024-07-01T08:02:31",
          "2024-07-01T08:02:31",
          "2024-07-01T08:02:07",
          "2024-07-01T08:02:07",
          "2024-07-01T08:01:29",
          "2024-07-01T08:01:32",
          "2024-07-01T08:01:32",
          "2024-07-01T08:01:29"
         ],
         "y": [
          5.8,
          5.8,
          6.2,
          6.2,
          null,
          4.8,
          4.8,
          5.2,
          5.2,
          null,
          -0.2,
          -0.2,
          0.2,
          0.2
         ]
        },
        {
         "fill": "toself",
         "fillcolor": "rgb(198, 219, 239)",
         "hoverinfo": "name",
         "legendgroup": "rgb(198, 219, 239)",
         "mode": "none",
         "name": "Job 3",
         "type": "scatter",
         "x": [
          "2024-07-01T08:01:11",
          "2024-07-01T08:01:14",
          "2024-07-01T08:01:14",
          "2024-07-01T08:01:11",
          "2024-07-01T08:01:11",
          "2024-07-01T08:01:28",
          "2024-07-01T08:01:32",
          "2024-07-01T08:01:32",
          "2024-07-01T08:01:28"
         ],
         "y": [
          5.8,
          5.8,
          6.2,
          6.2,
          null,
          1.8,
          1.8,
          2.2,
          2.2
         ]
        },
        {
         "fill": "toself",
         "fillcolor": "rgb(199, 233, 192)",
         "hoverinfo": "name",
         "legendgroup": "rgb(199, 233, 192)",
         "mode": "none",
         "name": "Job 11",
         "type": "scatter",
         "x": [
          "2024-07-01T08:00:04",
          "2024-07-01T08:00:08",
          "2024-07-01T08:00:08",
          "2024-07-01T08:00:04",
          "2024-07-01T08:00:04",
          "2024-07-01T08:01:19",
          "2024-07-01T08:01:20",
          "2024-07-01T08:01:20",
          "2024-07-01T08:01:19",
          "2024-07-01T08:01:19",
          "2024-07-01T08:01:56",
          "2024-07-01T08:02:00",
          "2024-07-01T08:02:00",
          "2024-07-01T08:01:56"
         ],
         "y": [
          6.8,
          6.8,
          7.2,
          7.2,
          null,
          5.8,
          5.8,
          6.2,
          6.2,
          null,
          1.8,
          1.8,
          2.2,
          2.2
         ]
        },
        {
         "fill": "toself",
         "fillcolor": "rgb(217, 217, 217)",
         "hoverinfo": "name",
         "legendgroup": "rgb(217, 217, 217)",
         "mode": "none",
         "name": "Job 19",
         "type": "scatter",
         "x": [
          "2024-07-01T08:00:15",
          "2024-07-01T08:00:18",
          "2024-07-01T08:00:18",
          "2024-07-01T08:00:15",
          "2024-07-01T08:00:15",
          "2024-07-01T08:00:23",
          "2024-07-01T08:00:47",
          "2024-07-01T08:00:47",
          "2024-07-01T08:00:23",
          "2024-07-01T08:00:23",
          "2024-07-01T08:00:18",
          "2024-07-01T08:00:23",
          "2024-07-01T08:00:23",
          "2024-07-01T08:00:18"
         ],
         "y": [
          5.8,
          5.8,
          6.2,
          6.2,
          null,
          3.8,
          3.8,
          4.2,
          4.2,
          null,
          1.8,
          1.8,
          2.2,
          2.2
         ]
        },
        {
         "fill": "toself",
         "fillcolor": "rgb(218, 218, 235)",
         "hoverinfo": "name",
         "legendgroup": "rgb(218, 218, 235)",
         "mode": "none",
         "name": "Job 15",
         "type": "scatter",
         "x": [
          "2024-07-01T08:01:32",
          "2024-07-01T08:01:35",
          "2024-07-01T08:01:35",
          "2024-07-01T08:01:32",
          "2024-07-01T08:01:32",
          "2024-07-01T08:02:04",
          "2024-07-01T08:02:08",
          "2024-07-01T08:02:08",
          "2024-07-01T08:02:04"
         ],
         "y": [
          5.8,
          5.8,
          6.2,
          6.2,
          null,
          1.8,
          1.8,
          2.2,
          2.2
         ]
        },
        {
         "fill": "toself",
         "fillcolor": "rgb(230, 85, 13)",
         "hoverinfo": "name",
         "legendgroup": "rgb(230, 85, 13)",
         "mode": "none",
         "name": "Job 4",
         "type": "scatter",
         "x": [
          "2024-07-01T08:00:08",
          "2024-07-01T08:00:11",
          "2024-07-01T08:00:11",
          "2024-07-01T08:00:08",
          "2024-07-01T08:00:08",
          "2024-07-01T08:00:23",
          "2024-07-01T08:00:27",
          "2024-07-01T08:00:27",
          "2024-07-01T08:00:23"
         ],
         "y": [
          5.8,
          5.8,
          6.2,
          6.2,
          null,
          1.8,
          1.8,
          2.2,
          2.2
         ]
        },
        {
         "fill": "toself",
         "fillcolor": "rgb(253, 141, 60)",
         "hoverinfo": "name",
         "legendgroup": "rgb(253, 141, 60)",
         "mode": "none",
         "name": "Job 5",
         "type": "scatter",
         "x": [
          "2024-07-01T08:00:00",
          "2024-07-01T08:00:03",
          "2024-07-01T08:00:03",
          "2024-07-01T08:00:00",
          "2024-07-01T08:00:00",
          "2024-07-01T08:01:37",
          "2024-07-01T08:01:41",
          "2024-07-01T08:01:41",
          "2024-07-01T08:01:37"
         ],
         "y": [
          5.8,
          5.8,
          6.2,
          6.2,
          null,
          1.8,
          1.8,
          2.2,
          2.2
         ]
        },
        {
         "fill": "toself",
         "fillcolor": "rgb(253, 174, 107)",
         "hoverinfo": "name",
         "legendgroup": "rgb(253, 174, 107)",
         "mode": "none",
         "name": "Job 6",
         "type": "scatter",
         "x": [
          "2024-07-01T08:00:12",
          "2024-07-01T08:00:15",
          "2024-07-01T08:00:15",
          "2024-07-01T08:00:12",
          "2024-07-01T08:00:12",
          "2024-07-01T08:00:47",
          "2024-07-01T08:00:50",
          "2024-07-01T08:00:50",
          "2024-07-01T08:00:47",
          "2024-07-01T08:00:47",
          "2024-07-01T08:01:38",
          "2024-07-01T08:01:59",
          "2024-07-01T08:01:59",
          "2024-07-01T08:01:38",
          "2024-07-01T08:01:38",
          "2024-07-01T08:00:23",
          "2024-07-01T08:00:26",
          "2024-07-01T08:00:26",
          "2024-07-01T08:00:23"
         ],
         "y": [
          5.8,
          5.8,
          6.2,
          6.2,
          null,
          3.8,
          3.8,
          4.2,
          4.2,
          null,
          3.8,
          3.8,
          4.2,
          4.2,
          null,
          0.8,
          0.8,
          1.2,
          1.2
         ]
        },
        {
         "fill": "toself",
         "fillcolor": "rgb(253, 208, 162)",
         "hoverinfo": "name",
         "legendgroup": "rgb(253, 208, 162)",
         "mode": "none",
         "name": "Job 7",
         "type": "scatter",
         "x": [
          "2024-07-01T08:01:02",
          "2024-07-01T08:01:05",
          "2024-07-01T08:01:05",
          "2024-07-01T08:01:02",
          "2024-07-01T08:01:02",
          "2024-07-01T08:01:17",
          "2024-07-01T08:01:41",
          "2024-07-01T08:01:41",
          "2024-07-01T08:01:17",
          "2024-07-01T08:01:17",
          "2024-07-01T08:01:05",
          "2024-07-01T08:01:08",
          "2024-07-01T08:01:08",
          "2024-07-01T08:01:05"
         ],
         "y": [
          5.8,
          5.8,
          6.2,
          6.2,
          null,
          2.8,
          2.8,
          3.2,
          3.2,
          null,
          -0.2,
          -0.2,
          0.2,
          0.2
         ]
        },
        {
         "fill": "toself",
         "fillcolor": "rgb(49, 130, 189)",
         "hoverinfo": "name",
         "legendgroup": "rgb(49, 130, 189)",
         "mode": "none",
         "name": "Job 0",
         "type": "scatter",
         "x": [
          "2024-07-01T08:01:20",
          "2024-07-01T08:01:24",
          "2024-07-01T08:01:24",
          "2024-07-01T08:01:20",
          "2024-07-01T08:01:20",
          "2024-07-01T08:01:59",
          "2024-07-01T08:02:23",
          "2024-07-01T08:02:23",
          "2024-07-01T08:01:59",
          "2024-07-01T08:01:59",
          "2024-07-01T08:01:24",
          "2024-07-01T08:01:27",
          "2024-07-01T08:01:27",
          "2024-07-01T08:01:24"
         ],
         "y": [
          5.8,
          5.8,
          6.2,
          6.2,
          null,
          3.8,
          3.8,
          4.2,
          4.2,
          null,
          0.8,
          0.8,
          1.2,
          1.2
         ]
        },
        {
         "fill": "toself",
         "fillcolor": "rgb(49, 163, 84)",
         "hoverinfo": "name",
         "legendgroup": "rgb(49, 163, 84)",
         "mode": "none",
         "name": "Job 8",
         "type": "scatter",
         "x": [
          "2024-07-01T08:00:18",
          "2024-07-01T08:00:20",
          "2024-07-01T08:00:20",
          "2024-07-01T08:00:18",
          "2024-07-01T08:00:18",
          "2024-07-01T08:01:05",
          "2024-07-01T08:01:08",
          "2024-07-01T08:01:08",
          "2024-07-01T08:01:05",
          "2024-07-01T08:01:05",
          "2024-07-01T08:01:19",
          "2024-07-01T08:02:07",
          "2024-07-01T08:02:07",
          "2024-07-01T08:01:19",
          "2024-07-01T08:01:19",
          "2024-07-01T08:01:08",
          "2024-07-01T08:01:14",
          "2024-07-01T08:01:14",
          "2024-07-01T08:01:08"
         ],
         "y": [
          5.8,
          5.8,
          6.2,
          6.2,
          null,
          5.8,
          5.8,
          6.2,
          6.2,
          null,
          4.8,
          4.8,
          5.2,
          5.2,
          null,
          -0.2,
          -0.2,
          0.2,
          0.2
         ]
        },
        {
         "fill": "toself",
         "fillcolor": "rgb(99, 99, 99)",
         "hoverinfo": "name",
         "legendgroup": "rgb(99, 99, 99)",
         "mode": "none",
         "name": "Job 16",
         "type": "scatter",
         "x": [
          "2024-07-01T08:01:17",
          "2024-07-01T08:01:18",
          "2024-07-01T08:01:18",
          "2024-07-01T08:01:17",
          "2024-07-01T08:01:17",
          "2024-07-01T08:01:41",
          "2024-07-01T08:02:05",
          "2024-07-01T08:02:05",
          "2024-07-01T08:01:41",
          "2024-07-01T08:01:41",
          "2024-07-01T08:01:32",
          "2024-07-01T08:01:37",
          "2024-07-01T08:01:37",
          "2024-07-01T08:01:32"
         ],
         "y": [
          5.8,
          5.8,
          6.2,
          6.2,
          null,
          2.8,
          2.8,
          3.2,
          3.2,
          null,
          1.8,
          1.8,
          2.2,
          2.2
         ]
        },
        {
         "legendgroup": "rgb(107, 174, 214)",
         "marker": {
          "color": "rgb(107, 174, 214)",
          "opacity": 0,
          "size": 1
         },
         "mode": "markers",
         "name": "",
         "showlegend": false,
         "text": [
          null,
          null,
          null,
          null,
          null,
          null
         ],
         "type": "scatter",
         "x": [
          "2024-07-01T08:00:03",
          "2024-07-01T08:00:07",
          "2024-07-01T08:00:29",
          "2024-07-01T08:00:53",
          "2024-07-01T08:00:26",
          "2024-07-01T08:00:29"
         ],
         "y": [
          6,
          6,
          3,
          3,
          1,
          1
         ]
        },
        {
         "legendgroup": "rgb(116, 196, 118)",
         "marker": {
          "color": "rgb(116, 196, 118)",
          "opacity": 0,
          "size": 1
         },
         "mode": "markers",
         "name": "",
         "showlegend": false,
         "text": [
          null,
          null,
          null,
          null,
          null,
          null
         ],
         "type": "scatter",
         "x": [
          "2024-07-01T08:01:29",
          "2024-07-01T08:01:32",
          "2024-07-01T08:02:05",
          "2024-07-01T08:02:29",
          "2024-07-01T08:01:46",
          "2024-07-01T08:01:51"
         ],
         "y": [
          6,
          6,
          3,
          3,
          2,
          2
         ]
        },
        {
         "legendgroup": "rgb(117, 107, 177)",
         "marker": {
          "color": "rgb(117, 107, 177)",
          "opacity": 0,
          "size": 1
         },
         "mode": "markers",
         "name": "",
         "showlegend": false,
         "text": [
          null,
          null,
          null,
          null,
          null,
          null
         ],
         "type": "scatter",
         "x": [
          "2024-07-01T08:00:00",
          "2024-07-01T08:00:04",
          "2024-07-01T08:01:24",
          "2024-07-01T08:01:25",
          "2024-07-01T08:02:00",
          "2024-07-01T08:02:04"
         ],
         "y": [
          7,
          7,
          6,
          6,
          2,
          2
         ]
        },
        {
         "legendgroup": "rgb(150, 150, 150)",
         "marker": {
          "color": "rgb(150, 150, 150)",
          "opacity": 0,
          "size": 1
         },
         "mode": "markers",
         "name": "",
         "showlegend": false,
         "text": [
          null,
          null,
          null,
          null,
          null,
          null
         ],
         "type": "scatter",
         "x": [
          "2024-07-01T08:01:18",
          "2024-07-01T08:01:19",
          "2024-07-01T08:02:29",
          "2024-07-01T08:02:53",
          "2024-07-01T08:01:51",
          "2024-07-01T08:01:56"
         ],
         "y": [
          6,
          6,
          3,
          3,
          2,
          2
         ]
        },
        {
         "legendgroup": "rgb(158, 154, 200)",
         "marker": {
          "color": "rgb(158, 154, 200)",
          "opacity": 0,
          "size": 1
         },
         "mode": "markers",
         "name": "",
         "showlegend": false,
         "text": [
          null,
          null,
          null,
          null,
          null,
          null
         ],
         "type": "scatter",
         "x": [
          "2024-07-01T08:00:11",
          "2024-07-01T08:00:12",
          "2024-07-01T08:00:55",
          "2024-07-01T08:01:19",
          "2024-07-01T08:00:50",
          "2024-07-01T08:00:55"
         ],
         "y": [
          6,
          6,
          5,
          5,
          2,
          2
         ]
        },
        {
         "legendgroup": "rgb(158, 202, 225)",
         "marker": {
          "color": "rgb(158, 202, 225)",
          "opacity": 0,
          "size": 1
         },
         "mode": "markers",
         "name": "",
         "showlegend": false,
         "text": [
          null,
          null,
          null,
          null
         ],
         "type": "scatter",
         "x": [
          "2024-07-01T08:01:08",
          "2024-07-01T08:01:11",
          "2024-07-01T08:01:24",
          "2024-07-01T08:01:28"
         ],
         "y": [
          6,
          6,
          2,
          2
         ]
        },
        {
         "legendgroup": "rgb(161, 217, 155)",
         "marker": {
          "color": "rgb(161, 217, 155)",
          "opacity": 0,
          "size": 1
         },
         "mode": "markers",
         "name": "",
         "showlegend": false,
         "text": [
          null,
          null,
          null,
          null,
          null,
          null
         ],
         "type": "scatter",
         "x": [
          "2024-07-01T08:01:14",
          "2024-07-01T08:01:17",
          "2024-07-01T08:02:23",
          "2024-07-01T08:02:47",
          "2024-07-01T08:01:41",
          "2024-07-01T08:01:46"
         ],
         "y": [
          6,
          6,
          4,
          4,
          2,
          2
         ]
        },
        {
         "legendgroup": "rgb(188, 189, 220)",
         "marker": {
          "color": "rgb(188, 189, 220)",
          "opacity": 0,
          "size": 1
         },
         "mode": "markers",
         "name": "",
         "showlegend": false,
         "text": [
          null,
          null,
          null,
          null,
          null,
          null
         ],
         "type": "scatter",
         "x": [
          "2024-07-01T08:00:07",
          "2024-07-01T08:00:08",
          "2024-07-01T08:00:53",
          "2024-07-01T08:01:17",
          "2024-07-01T08:00:08",
          "2024-07-01T08:00:13"
         ],
         "y": [
          6,
          6,
          3,
          3,
          2,
          2
         ]
        },
        {
         "legendgroup": "rgb(189, 189, 189)",
         "marker": {
          "color": "rgb(189, 189, 189)",
          "opacity": 0,
          "size": 1
         },
         "mode": "markers",
         "name": "",
         "showlegend": false,
         "text": [
          null,
          null,
          null,
          null,
          null,
          null
         ],
         "type": "scatter",
         "x": [
          "2024-07-01T08:01:25",
          "2024-07-01T08:01:29",
          "2024-07-01T08:02:07",
          "2024-07-01T08:02:31",
          "2024-07-01T08:01:29",
          "2024-07-01T08:01:32"
         ],
         "y": [
          6,
          6,
          5,
          5,
          0,
          0
         ]
        },
        {
         "legendgroup": "rgb(198, 219, 239)",
         "marker": {
          "color": "rgb(198, 219, 239)",
          "opacity": 0,
          "size": 1
         },
         "mode": "markers",
         "name": "",
         "showlegend": false,
         "text": [
          null,
          null,
          null,
          null
         ],
         "type": "scatter",
         "x": [
          "2024-07-01T08:01:11",
          "2024-07-01T08:01:14",
          "2024-07-01T08:01:28",
          "2024-07-01T08:01:32"
         ],
         "y": [
          6,
          6,
          2,
          2
         ]
        },
        {
         "legendgroup": "rgb(199, 233, 192)",
         "marker": {
          "color": "rgb(199, 233, 192)",
          "opacity": 0,
          "size": 1
         },
         "mode": "markers",
         "name": "",
         "showlegend": false,
         "text": [
          null,
          null,
          null,
          null,
          null,
          null
         ],
         "type": "scatter",
         "x": [
          "2024-07-01T08:00:04",
          "2024-07-01T08:00:08",
          "2024-07-01T08:01:19",
          "2024-07-01T08:01:20",
          "2024-07-01T08:01:56",
          "2024-07-01T08:02:00"
         ],
         "y": [
          7,
          7,
          6,
          6,
          2,
          2
         ]
        },
        {
         "legendgroup": "rgb(217, 217, 217)",
         "marker": {
          "color": "rgb(217, 217, 217)",
          "opacity": 0,
          "size": 1
         },
         "mode": "markers",
         "name": "",
         "showlegend": false,
         "text": [
          null,
          null,
          null,
          null,
          null,
          null
         ],
         "type": "scatter",
         "x": [
          "2024-07-01T08:00:15",
          "2024-07-01T08:00:18",
          "2024-07-01T08:00:23",
          "2024-07-01T08:00:47",
          "2024-07-01T08:00:18",
          "2024-07-01T08:00:23"
         ],
         "y": [
          6,
          6,
          4,
          4,
          2,
          2
         ]
        },
        {
         "legendgroup": "rgb(218, 218, 235)",
         "marker": {
          "color": "rgb(218, 218, 235)",
          "opacity": 0,
          "size": 1
         },
         "mode": "markers",
         "name": "",
         "showlegend": false,
         "text": [
          null,
          null,
          null,
          null
         ],
         "type": "scatter",
         "x": [
          "2024-07-01T08:01:32",
          "2024-07-01T08:01:35",
          "2024-07-01T08:02:04",
          "2024-07-01T08:02:08"
         ],
         "y": [
          6,
          6,
          2,
          2
         ]
        },
        {
         "legendgroup": "rgb(230, 85, 13)",
         "marker": {
          "color": "rgb(230, 85, 13)",
          "opacity": 0,
          "size": 1
         },
         "mode": "markers",
         "name": "",
         "showlegend": false,
         "text": [
          null,
          null,
          null,
          null
         ],
         "type": "scatter",
         "x": [
          "2024-07-01T08:00:08",
          "2024-07-01T08:00:11",
          "2024-07-01T08:00:23",
          "2024-07-01T08:00:27"
         ],
         "y": [
          6,
          6,
          2,
          2
         ]
        },
        {
         "legendgroup": "rgb(253, 141, 60)",
         "marker": {
          "color": "rgb(253, 141, 60)",
          "opacity": 0,
          "size": 1
         },
         "mode": "markers",
         "name": "",
         "showlegend": false,
         "text": [
          null,
          null,
          null,
          null
         ],
         "type": "scatter",
         "x": [
          "2024-07-01T08:00:00",
          "2024-07-01T08:00:03",
          "2024-07-01T08:01:37",
          "2024-07-01T08:01:41"
         ],
         "y": [
          6,
          6,
          2,
          2
         ]
        },
        {
         "legendgroup": "rgb(253, 174, 107)",
         "marker": {
          "color": "rgb(253, 174, 107)",
          "opacity": 0,
          "size": 1
         },
         "mode": "markers",
         "name": "",
         "showlegend": false,
         "text": [
          null,
          null,
          null,
          null,
          null,
          null,
          null,
          null
         ],
         "type": "scatter",
         "x": [
          "2024-07-01T08:00:12",
          "2024-07-01T08:00:15",
          "2024-07-01T08:00:47",
          "2024-07-01T08:00:50",
          "2024-07-01T08:01:38",
          "2024-07-01T08:01:59",
          "2024-07-01T08:00:23",
          "2024-07-01T08:00:26"
         ],
         "y": [
          6,
          6,
          4,
          4,
          4,
          4,
          1,
          1
         ]
        },
        {
         "legendgroup": "rgb(253, 208, 162)",
         "marker": {
          "color": "rgb(253, 208, 162)",
          "opacity": 0,
          "size": 1
         },
         "mode": "markers",
         "name": "",
         "showlegend": false,
         "text": [
          null,
          null,
          null,
          null,
          null,
          null
         ],
         "type": "scatter",
         "x": [
          "2024-07-01T08:01:02",
          "2024-07-01T08:01:05",
          "2024-07-01T08:01:17",
          "2024-07-01T08:01:41",
          "2024-07-01T08:01:05",
          "2024-07-01T08:01:08"
         ],
         "y": [
          6,
          6,
          3,
          3,
          0,
          0
         ]
        },
        {
         "legendgroup": "rgb(49, 130, 189)",
         "marker": {
          "color": "rgb(49, 130, 189)",
          "opacity": 0,
          "size": 1
         },
         "mode": "markers",
         "name": "",
         "showlegend": false,
         "text": [
          null,
          null,
          null,
          null,
          null,
          null
         ],
         "type": "scatter",
         "x": [
          "2024-07-01T08:01:20",
          "2024-07-01T08:01:24",
          "2024-07-01T08:01:59",
          "2024-07-01T08:02:23",
          "2024-07-01T08:01:24",
          "2024-07-01T08:01:27"
         ],
         "y": [
          6,
          6,
          4,
          4,
          1,
          1
         ]
        },
        {
         "legendgroup": "rgb(49, 163, 84)",
         "marker": {
          "color": "rgb(49, 163, 84)",
          "opacity": 0,
          "size": 1
         },
         "mode": "markers",
         "name": "",
         "showlegend": false,
         "text": [
          null,
          null,
          null,
          null,
          null,
          null,
          null,
          null
         ],
         "type": "scatter",
         "x": [
          "2024-07-01T08:00:18",
          "2024-07-01T08:00:20",
          "2024-07-01T08:01:05",
          "2024-07-01T08:01:08",
          "2024-07-01T08:01:19",
          "2024-07-01T08:02:07",
          "2024-07-01T08:01:08",
          "2024-07-01T08:01:14"
         ],
         "y": [
          6,
          6,
          6,
          6,
          5,
          5,
          0,
          0
         ]
        },
        {
         "legendgroup": "rgb(99, 99, 99)",
         "marker": {
          "color": "rgb(99, 99, 99)",
          "opacity": 0,
          "size": 1
         },
         "mode": "markers",
         "name": "",
         "showlegend": false,
         "text": [
          null,
          null,
          null,
          null,
          null,
          null
         ],
         "type": "scatter",
         "x": [
          "2024-07-01T08:01:17",
          "2024-07-01T08:01:18",
          "2024-07-01T08:01:41",
          "2024-07-01T08:02:05",
          "2024-07-01T08:01:32",
          "2024-07-01T08:01:37"
         ],
         "y": [
          6,
          6,
          3,
          3,
          2,
          2
         ]
        }
       ],
       "layout": {
        "annotations": [
         {
          "align": "center",
          "font": {
           "color": "black",
           "size": 10
          },
          "showarrow": false,
          "text": "X",
          "valign": "middle",
          "x": "2024-07-01T08:00:41",
          "y": 6
         },
         {
          "align": "center",
          "font": {
           "color": "black",
           "size": 10
          },
          "showarrow": false,
          "text": "X",
          "valign": "middle",
          "x": "2024-07-01T08:01:14",
          "y": 4
         },
         {
          "align": "center",
          "font": {
           "color": "black",
           "size": 10
          },
          "showarrow": false,
          "text": "X",
          "valign": "middle",
          "x": "2024-07-01T08:01:19.500000",
          "y": 2
         }
        ],
        "height": 600,
        "hovermode": "closest",
        "legend": {
         "traceorder": "normal"
        },
        "shapes": [
         {
          "fillcolor": "white",
          "line": {
           "color": "black"
          },
          "opacity": 1,
          "type": "rect",
          "x0": "2024-07-01T08:00:20",
          "x1": "2024-07-01T08:01:02",
          "y0": 5.82,
          "y1": 6.18
         },
         {
          "fillcolor": "white",
          "line": {
           "color": "black"
          },
          "opacity": 1,
          "type": "rect",
          "x0": "2024-07-01T08:00:50",
          "x1": "2024-07-01T08:01:38",
          "y0": 3.82,
          "y1": 4.18
         },
         {
          "fillcolor": "white",
          "line": {
           "color": "black"
          },
          "opacity": 1,
          "type": "rect",
          "x0": "2024-07-01T08:01:15",
          "x1": "2024-07-01T08:01:24",
          "y0": 1.82,
          "y1": 2.18
         },
         {
          "line": {
           "color": "black",
           "dash": "dash"
          },
          "type": "line",
          "x0": "2024-07-01T08:01:15",
          "x1": "2024-07-01T08:01:15",
          "y0": -0.5,
          "y1": 7.5
         }
        ],
        "showlegend": true,
        "template": {
         "data": {
          "bar": [
           {
            "error_x": {
             "color": "#2a3f5f"
            },
            "error_y": {
             "color": "#2a3f5f"
            },
            "marker": {
             "line": {
              "color": "#E5ECF6",
              "width": 0.5
             },
             "pattern": {
              "fillmode": "overlay",
              "size": 10,
              "solidity": 0.2
             }
            },
            "type": "bar"
           }
          ],
          "barpolar": [
           {
            "marker": {
             "line": {
              "color": "#E5ECF6",
              "width": 0.5
             },
             "pattern": {
              "fillmode": "overlay",
              "size": 10,
              "solidity": 0.2
             }
            },
            "type": "barpolar"
           }
          ],
          "carpet": [
           {
            "aaxis": {
             "endlinecolor": "#2a3f5f",
             "gridcolor": "white",
             "linecolor": "white",
             "minorgridcolor": "white",
             "startlinecolor": "#2a3f5f"
            },
            "baxis": {
             "endlinecolor": "#2a3f5f",
             "gridcolor": "white",
             "linecolor": "white",
             "minorgridcolor": "white",
             "startlinecolor": "#2a3f5f"
            },
            "type": "carpet"
           }
          ],
          "choropleth": [
           {
            "colorbar": {
             "outlinewidth": 0,
             "ticks": ""
            },
            "type": "choropleth"
           }
          ],
          "contour": [
           {
            "colorbar": {
             "outlinewidth": 0,
             "ticks": ""
            },
            "colorscale": [
             [
              0,
              "#0d0887"
             ],
             [
              0.1111111111111111,
              "#46039f"
             ],
             [
              0.2222222222222222,
              "#7201a8"
             ],
             [
              0.3333333333333333,
              "#9c179e"
             ],
             [
              0.4444444444444444,
              "#bd3786"
             ],
             [
              0.5555555555555556,
              "#d8576b"
             ],
             [
              0.6666666666666666,
              "#ed7953"
             ],
             [
              0.7777777777777778,
              "#fb9f3a"
             ],
             [
              0.8888888888888888,
              "#fdca26"
             ],
             [
              1,
              "#f0f921"
             ]
            ],
            "type": "contour"
           }
          ],
          "contourcarpet": [
           {
            "colorbar": {
             "outlinewidth": 0,
             "ticks": ""
            },
            "type": "contourcarpet"
           }
          ],
          "heatmap": [
           {
            "colorbar": {
             "outlinewidth": 0,
             "ticks": ""
            },
            "colorscale": [
             [
              0,
              "#0d0887"
             ],
             [
              0.1111111111111111,
              "#46039f"
             ],
             [
              0.2222222222222222,
              "#7201a8"
             ],
             [
              0.3333333333333333,
              "#9c179e"
             ],
             [
              0.4444444444444444,
              "#bd3786"
             ],
             [
              0.5555555555555556,
              "#d8576b"
             ],
             [
              0.6666666666666666,
              "#ed7953"
             ],
             [
              0.7777777777777778,
              "#fb9f3a"
             ],
             [
              0.8888888888888888,
              "#fdca26"
             ],
             [
              1,
              "#f0f921"
             ]
            ],
            "type": "heatmap"
           }
          ],
          "heatmapgl": [
           {
            "colorbar": {
             "outlinewidth": 0,
             "ticks": ""
            },
            "colorscale": [
             [
              0,
              "#0d0887"
             ],
             [
              0.1111111111111111,
              "#46039f"
             ],
             [
              0.2222222222222222,
              "#7201a8"
             ],
             [
              0.3333333333333333,
              "#9c179e"
             ],
             [
              0.4444444444444444,
              "#bd3786"
             ],
             [
              0.5555555555555556,
              "#d8576b"
             ],
             [
              0.6666666666666666,
              "#ed7953"
             ],
             [
              0.7777777777777778,
              "#fb9f3a"
             ],
             [
              0.8888888888888888,
              "#fdca26"
             ],
             [
              1,
              "#f0f921"
             ]
            ],
            "type": "heatmapgl"
           }
          ],
          "histogram": [
           {
            "marker": {
             "pattern": {
              "fillmode": "overlay",
              "size": 10,
              "solidity": 0.2
             }
            },
            "type": "histogram"
           }
          ],
          "histogram2d": [
           {
            "colorbar": {
             "outlinewidth": 0,
             "ticks": ""
            },
            "colorscale": [
             [
              0,
              "#0d0887"
             ],
             [
              0.1111111111111111,
              "#46039f"
             ],
             [
              0.2222222222222222,
              "#7201a8"
             ],
             [
              0.3333333333333333,
              "#9c179e"
             ],
             [
              0.4444444444444444,
              "#bd3786"
             ],
             [
              0.5555555555555556,
              "#d8576b"
             ],
             [
              0.6666666666666666,
              "#ed7953"
             ],
             [
              0.7777777777777778,
              "#fb9f3a"
             ],
             [
              0.8888888888888888,
              "#fdca26"
             ],
             [
              1,
              "#f0f921"
             ]
            ],
            "type": "histogram2d"
           }
          ],
          "histogram2dcontour": [
           {
            "colorbar": {
             "outlinewidth": 0,
             "ticks": ""
            },
            "colorscale": [
             [
              0,
              "#0d0887"
             ],
             [
              0.1111111111111111,
              "#46039f"
             ],
             [
              0.2222222222222222,
              "#7201a8"
             ],
             [
              0.3333333333333333,
              "#9c179e"
             ],
             [
              0.4444444444444444,
              "#bd3786"
             ],
             [
              0.5555555555555556,
              "#d8576b"
             ],
             [
              0.6666666666666666,
              "#ed7953"
             ],
             [
              0.7777777777777778,
              "#fb9f3a"
             ],
             [
              0.8888888888888888,
              "#fdca26"
             ],
             [
              1,
              "#f0f921"
             ]
            ],
            "type": "histogram2dcontour"
           }
          ],
          "mesh3d": [
           {
            "colorbar": {
             "outlinewidth": 0,
             "ticks": ""
            },
            "type": "mesh3d"
           }
          ],
          "parcoords": [
           {
            "line": {
             "colorbar": {
              "outlinewidth": 0,
              "ticks": ""
             }
            },
            "type": "parcoords"
           }
          ],
          "pie": [
           {
            "automargin": true,
            "type": "pie"
           }
          ],
          "scatter": [
           {
            "fillpattern": {
             "fillmode": "overlay",
             "size": 10,
             "solidity": 0.2
            },
            "type": "scatter"
           }
          ],
          "scatter3d": [
           {
            "line": {
             "colorbar": {
              "outlinewidth": 0,
              "ticks": ""
             }
            },
            "marker": {
             "colorbar": {
              "outlinewidth": 0,
              "ticks": ""
             }
            },
            "type": "scatter3d"
           }
          ],
          "scattercarpet": [
           {
            "marker": {
             "colorbar": {
              "outlinewidth": 0,
              "ticks": ""
             }
            },
            "type": "scattercarpet"
           }
          ],
          "scattergeo": [
           {
            "marker": {
             "colorbar": {
              "outlinewidth": 0,
              "ticks": ""
             }
            },
            "type": "scattergeo"
           }
          ],
          "scattergl": [
           {
            "marker": {
             "colorbar": {
              "outlinewidth": 0,
              "ticks": ""
             }
            },
            "type": "scattergl"
           }
          ],
          "scattermapbox": [
           {
            "marker": {
             "colorbar": {
              "outlinewidth": 0,
              "ticks": ""
             }
            },
            "type": "scattermapbox"
           }
          ],
          "scatterpolar": [
           {
            "marker": {
             "colorbar": {
              "outlinewidth": 0,
              "ticks": ""
             }
            },
            "type": "scatterpolar"
           }
          ],
          "scatterpolargl": [
           {
            "marker": {
             "colorbar": {
              "outlinewidth": 0,
              "ticks": ""
             }
            },
            "type": "scatterpolargl"
           }
          ],
          "scatterternary": [
           {
            "marker": {
             "colorbar": {
              "outlinewidth": 0,
              "ticks": ""
             }
            },
            "type": "scatterternary"
           }
          ],
          "surface": [
           {
            "colorbar": {
             "outlinewidth": 0,
             "ticks": ""
            },
            "colorscale": [
             [
              0,
              "#0d0887"
             ],
             [
              0.1111111111111111,
              "#46039f"
             ],
             [
              0.2222222222222222,
              "#7201a8"
             ],
             [
              0.3333333333333333,
              "#9c179e"
             ],
             [
              0.4444444444444444,
              "#bd3786"
             ],
             [
              0.5555555555555556,
              "#d8576b"
             ],
             [
              0.6666666666666666,
              "#ed7953"
             ],
             [
              0.7777777777777778,
              "#fb9f3a"
             ],
             [
              0.8888888888888888,
              "#fdca26"
             ],
             [
              1,
              "#f0f921"
             ]
            ],
            "type": "surface"
           }
          ],
          "table": [
           {
            "cells": {
             "fill": {
              "color": "#EBF0F8"
             },
             "line": {
              "color": "white"
             }
            },
            "header": {
             "fill": {
              "color": "#C8D4E3"
             },
             "line": {
              "color": "white"
             }
            },
            "type": "table"
           }
          ]
         },
         "layout": {
          "annotationdefaults": {
           "arrowcolor": "#2a3f5f",
           "arrowhead": 0,
           "arrowwidth": 1
          },
          "autotypenumbers": "strict",
          "coloraxis": {
           "colorbar": {
            "outlinewidth": 0,
            "ticks": ""
           }
          },
          "colorscale": {
           "diverging": [
            [
             0,
             "#8e0152"
            ],
            [
             0.1,
             "#c51b7d"
            ],
            [
             0.2,
             "#de77ae"
            ],
            [
             0.3,
             "#f1b6da"
            ],
            [
             0.4,
             "#fde0ef"
            ],
            [
             0.5,
             "#f7f7f7"
            ],
            [
             0.6,
             "#e6f5d0"
            ],
            [
             0.7,
             "#b8e186"
            ],
            [
             0.8,
             "#7fbc41"
            ],
            [
             0.9,
             "#4d9221"
            ],
            [
             1,
             "#276419"
            ]
           ],
           "sequential": [
            [
             0,
             "#0d0887"
            ],
            [
             0.1111111111111111,
             "#46039f"
            ],
            [
             0.2222222222222222,
             "#7201a8"
            ],
            [
             0.3333333333333333,
             "#9c179e"
            ],
            [
             0.4444444444444444,
             "#bd3786"
            ],
            [
             0.5555555555555556,
             "#d8576b"
            ],
            [
             0.6666666666666666,
             "#ed7953"
            ],
            [
             0.7777777777777778,
             "#fb9f3a"
            ],
            [
             0.8888888888888888,
             "#fdca26"
            ],
            [
             1,
             "#f0f921"
            ]
           ],
           "sequentialminus": [
            [
             0,
             "#0d0887"
            ],
            [
             0.1111111111111111,
             "#46039f"
            ],
            [
             0.2222222222222222,
             "#7201a8"
            ],
            [
             0.3333333333333333,
             "#9c179e"
            ],
            [
             0.4444444444444444,
             "#bd3786"
            ],
            [
             0.5555555555555556,
             "#d8576b"
            ],
            [
             0.6666666666666666,
             "#ed7953"
            ],
            [
             0.7777777777777778,
             "#fb9f3a"
            ],
            [
             0.8888888888888888,
             "#fdca26"
            ],
            [
             1,
             "#f0f921"
            ]
           ]
          },
          "colorway": [
           "#636efa",
           "#EF553B",
           "#00cc96",
           "#ab63fa",
           "#FFA15A",
           "#19d3f3",
           "#FF6692",
           "#B6E880",
           "#FF97FF",
           "#FECB52"
          ],
          "font": {
           "color": "#2a3f5f"
          },
          "geo": {
           "bgcolor": "white",
           "lakecolor": "white",
           "landcolor": "#E5ECF6",
           "showlakes": true,
           "showland": true,
           "subunitcolor": "white"
          },
          "hoverlabel": {
           "align": "left"
          },
          "hovermode": "closest",
          "mapbox": {
           "style": "light"
          },
          "paper_bgcolor": "white",
          "plot_bgcolor": "#E5ECF6",
          "polar": {
           "angularaxis": {
            "gridcolor": "white",
            "linecolor": "white",
            "ticks": ""
           },
           "bgcolor": "#E5ECF6",
           "radialaxis": {
            "gridcolor": "white",
            "linecolor": "white",
            "ticks": ""
           }
          },
          "scene": {
           "xaxis": {
            "backgroundcolor": "#E5ECF6",
            "gridcolor": "white",
            "gridwidth": 2,
            "linecolor": "white",
            "showbackground": true,
            "ticks": "",
            "zerolinecolor": "white"
           },
           "yaxis": {
            "backgroundcolor": "#E5ECF6",
            "gridcolor": "white",
            "gridwidth": 2,
            "linecolor": "white",
            "showbackground": true,
            "ticks": "",
            "zerolinecolor": "white"
           },
           "zaxis": {
            "backgroundcolor": "#E5ECF6",
            "gridcolor": "white",
            "gridwidth": 2,
            "linecolor": "white",
            "showbackground": true,
            "ticks": "",
            "zerolinecolor": "white"
           }
          },
          "shapedefaults": {
           "line": {
            "color": "#2a3f5f"
           }
          },
          "ternary": {
           "aaxis": {
            "gridcolor": "white",
            "linecolor": "white",
            "ticks": ""
           },
           "baxis": {
            "gridcolor": "white",
            "linecolor": "white",
            "ticks": ""
           },
           "bgcolor": "#E5ECF6",
           "caxis": {
            "gridcolor": "white",
            "linecolor": "white",
            "ticks": ""
           }
          },
          "title": {
           "x": 0.05
          },
          "xaxis": {
           "automargin": true,
           "gridcolor": "white",
           "linecolor": "white",
           "ticks": "",
           "title": {
            "standoff": 15
           },
           "zerolinecolor": "white",
           "zerolinewidth": 2
          },
          "yaxis": {
           "automargin": true,
           "gridcolor": "white",
           "linecolor": "white",
           "ticks": "",
           "title": {
            "standoff": 15
           },
           "zerolinecolor": "white",
           "zerolinewidth": 2
          }
         }
        },
        "title": {
         "text": "Gantt Chart"
        },
        "xaxis": {
         "rangeselector": {
          "buttons": [
           {
            "count": 7,
            "label": "1w",
            "step": "day",
            "stepmode": "backward"
           },
           {
            "count": 1,
            "label": "1m",
            "step": "month",
            "stepmode": "backward"
           },
           {
            "count": 6,
            "label": "6m",
            "step": "month",
            "stepmode": "backward"
           },
           {
            "count": 1,
            "label": "YTD",
            "step": "year",
            "stepmode": "todate"
           },
           {
            "count": 1,
            "label": "1y",
            "step": "year",
            "stepmode": "backward"
           },
           {
            "step": "all"
           }
          ]
         },
         "showgrid": true,
         "tickformat": "%H:%M",
         "title": {
          "text": "Time"
         },
         "type": "date",
         "zeroline": false
        },
        "yaxis": {
         "autorange": false,
         "range": [
          -1,
          9
         ],
         "showgrid": true,
         "ticktext": [
          "Machine 7",
          "Machine 6",
          "Machine 5",
          "Machine 4",
          "Machine 3",
          "Machine 2",
          "Machine 1",
          "Machine 0"
         ],
         "tickvals": [
          0,
          1,
          2,
          3,
          4,
          5,
          6,
          7
         ],
         "title": {
          "text": "Machine"
         },
         "zeroline": false
        }
       }
      }
     },
     "metadata": {},
     "output_type": "display_data"
    },
    {
     "name": "stdout",
     "output_type": "stream",
     "text": [
      "GA 41.0\n"
     ]
    },
    {
     "data": {
      "application/vnd.plotly.v1+json": {
       "config": {
        "plotlyServerURL": "https://plot.ly"
       },
       "data": [
        {
         "fill": "toself",
         "fillcolor": "rgb(107, 174, 214)",
         "hoverinfo": "name",
         "legendgroup": "rgb(107, 174, 214)",
         "mode": "none",
         "name": "Job 2",
         "type": "scatter",
         "x": [
          "2024-07-01T08:01:08",
          "2024-07-01T08:01:11",
          "2024-07-01T08:01:11",
          "2024-07-01T08:01:08",
          "2024-07-01T08:01:08",
          "2024-07-01T08:01:24",
          "2024-07-01T08:01:28",
          "2024-07-01T08:01:28",
          "2024-07-01T08:01:24"
         ],
         "y": [
          5.8,
          5.8,
          6.2,
          6.2,
          null,
          1.8,
          1.8,
          2.2,
          2.2
         ]
        },
        {
         "fill": "toself",
         "fillcolor": "rgb(116, 196, 118)",
         "hoverinfo": "name",
         "legendgroup": "rgb(116, 196, 118)",
         "mode": "none",
         "name": "Job 10",
         "type": "scatter",
         "x": [
          "2024-07-01T08:01:14",
          "2024-07-01T08:01:17",
          "2024-07-01T08:01:17",
          "2024-07-01T08:01:14",
          "2024-07-01T08:01:14",
          "2024-07-01T08:02:29",
          "2024-07-01T08:02:53",
          "2024-07-01T08:02:53",
          "2024-07-01T08:02:29",
          "2024-07-01T08:02:29",
          "2024-07-01T08:01:37",
          "2024-07-01T08:01:42",
          "2024-07-01T08:01:42",
          "2024-07-01T08:01:37"
         ],
         "y": [
          5.8,
          5.8,
          6.2,
          6.2,
          null,
          2.8,
          2.8,
          3.2,
          3.2,
          null,
          1.8,
          1.8,
          2.2,
          2.2
         ]
        },
        {
         "fill": "toself",
         "fillcolor": "rgb(117, 107, 177)",
         "hoverinfo": "name",
         "legendgroup": "rgb(117, 107, 177)",
         "mode": "none",
         "name": "Job 13",
         "type": "scatter",
         "x": [
          "2024-07-01T08:00:11",
          "2024-07-01T08:00:12",
          "2024-07-01T08:00:12",
          "2024-07-01T08:00:11",
          "2024-07-01T08:00:11",
          "2024-07-01T08:00:55",
          "2024-07-01T08:01:19",
          "2024-07-01T08:01:19",
          "2024-07-01T08:00:55",
          "2024-07-01T08:00:55",
          "2024-07-01T08:00:50",
          "2024-07-01T08:00:55",
          "2024-07-01T08:00:55",
          "2024-07-01T08:00:50"
         ],
         "y": [
          5.8,
          5.8,
          6.2,
          6.2,
          null,
          4.8,
          4.8,
          5.2,
          5.2,
          null,
          1.8,
          1.8,
          2.2,
          2.2
         ]
        },
        {
         "fill": "toself",
         "fillcolor": "rgb(150, 150, 150)",
         "hoverinfo": "name",
         "legendgroup": "rgb(150, 150, 150)",
         "mode": "none",
         "name": "Job 18",
         "type": "scatter",
         "x": [
          "2024-07-01T08:01:25",
          "2024-07-01T08:01:29",
          "2024-07-01T08:01:29",
          "2024-07-01T08:01:25",
          "2024-07-01T08:01:25",
          "2024-07-01T08:01:38",
          "2024-07-01T08:02:02",
          "2024-07-01T08:02:02",
          "2024-07-01T08:01:38",
          "2024-07-01T08:01:38",
          "2024-07-01T08:01:29",
          "2024-07-01T08:01:32",
          "2024-07-01T08:01:32",
          "2024-07-01T08:01:29"
         ],
         "y": [
          5.8,
          5.8,
          6.2,
          6.2,
          null,
          3.8,
          3.8,
          4.2,
          4.2,
          null,
          -0.2,
          -0.2,
          0.2,
          0.2
         ]
        },
        {
         "fill": "toself",
         "fillcolor": "rgb(158, 154, 200)",
         "hoverinfo": "name",
         "legendgroup": "rgb(158, 154, 200)",
         "mode": "none",
         "name": "Job 14",
         "type": "scatter",
         "x": [
          "2024-07-01T08:00:07",
          "2024-07-01T08:00:08",
          "2024-07-01T08:00:08",
          "2024-07-01T08:00:07",
          "2024-07-01T08:00:07",
          "2024-07-01T08:00:53",
          "2024-07-01T08:01:17",
          "2024-07-01T08:01:17",
          "2024-07-01T08:00:53",
          "2024-07-01T08:00:53",
          "2024-07-01T08:00:08",
          "2024-07-01T08:00:13",
          "2024-07-01T08:00:13",
          "2024-07-01T08:00:08"
         ],
         "y": [
          5.8,
          5.8,
          6.2,
          6.2,
          null,
          2.8,
          2.8,
          3.2,
          3.2,
          null,
          1.8,
          1.8,
          2.2,
          2.2
         ]
        },
        {
         "fill": "toself",
         "fillcolor": "rgb(158, 202, 225)",
         "hoverinfo": "name",
         "legendgroup": "rgb(158, 202, 225)",
         "mode": "none",
         "name": "Job 3",
         "type": "scatter",
         "x": [
          "2024-07-01T08:01:11",
          "2024-07-01T08:01:14",
          "2024-07-01T08:01:14",
          "2024-07-01T08:01:11",
          "2024-07-01T08:01:11",
          "2024-07-01T08:01:28",
          "2024-07-01T08:01:32",
          "2024-07-01T08:01:32",
          "2024-07-01T08:01:28"
         ],
         "y": [
          5.8,
          5.8,
          6.2,
          6.2,
          null,
          1.8,
          1.8,
          2.2,
          2.2
         ]
        },
        {
         "fill": "toself",
         "fillcolor": "rgb(161, 217, 155)",
         "hoverinfo": "name",
         "legendgroup": "rgb(161, 217, 155)",
         "mode": "none",
         "name": "Job 11",
         "type": "scatter",
         "x": [
          "2024-07-01T08:00:04",
          "2024-07-01T08:00:08",
          "2024-07-01T08:00:08",
          "2024-07-01T08:00:04",
          "2024-07-01T08:00:04",
          "2024-07-01T08:01:19",
          "2024-07-01T08:01:20",
          "2024-07-01T08:01:20",
          "2024-07-01T08:01:19",
          "2024-07-01T08:01:19",
          "2024-07-01T08:01:55",
          "2024-07-01T08:01:59",
          "2024-07-01T08:01:59",
          "2024-07-01T08:01:55"
         ],
         "y": [
          6.8,
          6.8,
          7.2,
          7.2,
          null,
          5.8,
          5.8,
          6.2,
          6.2,
          null,
          1.8,
          1.8,
          2.2,
          2.2
         ]
        },
        {
         "fill": "toself",
         "fillcolor": "rgb(188, 189, 220)",
         "hoverinfo": "name",
         "legendgroup": "rgb(188, 189, 220)",
         "mode": "none",
         "name": "Job 15",
         "type": "scatter",
         "x": [
          "2024-07-01T08:01:32",
          "2024-07-01T08:01:35",
          "2024-07-01T08:01:35",
          "2024-07-01T08:01:32",
          "2024-07-01T08:01:32",
          "2024-07-01T08:01:59",
          "2024-07-01T08:02:03",
          "2024-07-01T08:02:03",
          "2024-07-01T08:01:59"
         ],
         "y": [
          5.8,
          5.8,
          6.2,
          6.2,
          null,
          1.8,
          1.8,
          2.2,
          2.2
         ]
        },
        {
         "fill": "toself",
         "fillcolor": "rgb(189, 189, 189)",
         "hoverinfo": "name",
         "legendgroup": "rgb(189, 189, 189)",
         "mode": "none",
         "name": "Job 19",
         "type": "scatter",
         "x": [
          "2024-07-01T08:00:15",
          "2024-07-01T08:00:18",
          "2024-07-01T08:00:18",
          "2024-07-01T08:00:15",
          "2024-07-01T08:00:15",
          "2024-07-01T08:00:23",
          "2024-07-01T08:00:47",
          "2024-07-01T08:00:47",
          "2024-07-01T08:00:23",
          "2024-07-01T08:00:23",
          "2024-07-01T08:00:18",
          "2024-07-01T08:00:23",
          "2024-07-01T08:00:23",
          "2024-07-01T08:00:18"
         ],
         "y": [
          5.8,
          5.8,
          6.2,
          6.2,
          null,
          3.8,
          3.8,
          4.2,
          4.2,
          null,
          1.8,
          1.8,
          2.2,
          2.2
         ]
        },
        {
         "fill": "toself",
         "fillcolor": "rgb(198, 219, 239)",
         "hoverinfo": "name",
         "legendgroup": "rgb(198, 219, 239)",
         "mode": "none",
         "name": "Job 4",
         "type": "scatter",
         "x": [
          "2024-07-01T08:00:08",
          "2024-07-01T08:00:11",
          "2024-07-01T08:00:11",
          "2024-07-01T08:00:08",
          "2024-07-01T08:00:08",
          "2024-07-01T08:00:23",
          "2024-07-01T08:00:27",
          "2024-07-01T08:00:27",
          "2024-07-01T08:00:23"
         ],
         "y": [
          5.8,
          5.8,
          6.2,
          6.2,
          null,
          1.8,
          1.8,
          2.2,
          2.2
         ]
        },
        {
         "fill": "toself",
         "fillcolor": "rgb(199, 233, 192)",
         "hoverinfo": "name",
         "legendgroup": "rgb(199, 233, 192)",
         "mode": "none",
         "name": "Job 12",
         "type": "scatter",
         "x": [
          "2024-07-01T08:00:00",
          "2024-07-01T08:00:04",
          "2024-07-01T08:00:04",
          "2024-07-01T08:00:00",
          "2024-07-01T08:00:00",
          "2024-07-01T08:01:24",
          "2024-07-01T08:01:25",
          "2024-07-01T08:01:25",
          "2024-07-01T08:01:24",
          "2024-07-01T08:01:24",
          "2024-07-01T08:01:51",
          "2024-07-01T08:01:55",
          "2024-07-01T08:01:55",
          "2024-07-01T08:01:51"
         ],
         "y": [
          6.8,
          6.8,
          7.2,
          7.2,
          null,
          5.8,
          5.8,
          6.2,
          6.2,
          null,
          1.8,
          1.8,
          2.2,
          2.2
         ]
        },
        {
         "fill": "toself",
         "fillcolor": "rgb(217, 217, 217)",
         "hoverinfo": "name",
         "legendgroup": "rgb(217, 217, 217)",
         "mode": "none",
         "name": "Job 20",
         "type": "scatter",
         "x": [
          "2024-07-01T08:01:35",
          "2024-07-01T08:01:39",
          "2024-07-01T08:01:39",
          "2024-07-01T08:01:35",
          "2024-07-01T08:01:35",
          "2024-07-01T08:02:53",
          "2024-07-01T08:03:17",
          "2024-07-01T08:03:17",
          "2024-07-01T08:02:53",
          "2024-07-01T08:02:53",
          "2024-07-01T08:01:39",
          "2024-07-01T08:01:42",
          "2024-07-01T08:01:42",
          "2024-07-01T08:01:39"
         ],
         "y": [
          5.8,
          5.8,
          6.2,
          6.2,
          null,
          2.8,
          2.8,
          3.2,
          3.2,
          null,
          -0.2,
          -0.2,
          0.2,
          0.2
         ]
        },
        {
         "fill": "toself",
         "fillcolor": "rgb(218, 218, 235)",
         "hoverinfo": "name",
         "legendgroup": "rgb(218, 218, 235)",
         "mode": "none",
         "name": "Job 16",
         "type": "scatter",
         "x": [
          "2024-07-01T08:01:17",
          "2024-07-01T08:01:18",
          "2024-07-01T08:01:18",
          "2024-07-01T08:01:17",
          "2024-07-01T08:01:17",
          "2024-07-01T08:02:23",
          "2024-07-01T08:02:47",
          "2024-07-01T08:02:47",
          "2024-07-01T08:02:23",
          "2024-07-01T08:02:23",
          "2024-07-01T08:02:03",
          "2024-07-01T08:02:08",
          "2024-07-01T08:02:08",
          "2024-07-01T08:02:03"
         ],
         "y": [
          5.8,
          5.8,
          6.2,
          6.2,
          null,
          3.8,
          3.8,
          4.2,
          4.2,
          null,
          1.8,
          1.8,
          2.2,
          2.2
         ]
        },
        {
         "fill": "toself",
         "fillcolor": "rgb(230, 85, 13)",
         "hoverinfo": "name",
         "legendgroup": "rgb(230, 85, 13)",
         "mode": "none",
         "name": "Job 5",
         "type": "scatter",
         "x": [
          "2024-07-01T08:00:00",
          "2024-07-01T08:00:03",
          "2024-07-01T08:00:03",
          "2024-07-01T08:00:00",
          "2024-07-01T08:00:00",
          "2024-07-01T08:01:47",
          "2024-07-01T08:01:51",
          "2024-07-01T08:01:51",
          "2024-07-01T08:01:47"
         ],
         "y": [
          5.8,
          5.8,
          6.2,
          6.2,
          null,
          1.8,
          1.8,
          2.2,
          2.2
         ]
        },
        {
         "fill": "toself",
         "fillcolor": "rgb(253, 141, 60)",
         "hoverinfo": "name",
         "legendgroup": "rgb(253, 141, 60)",
         "mode": "none",
         "name": "Job 6",
         "type": "scatter",
         "x": [
          "2024-07-01T08:00:12",
          "2024-07-01T08:00:15",
          "2024-07-01T08:00:15",
          "2024-07-01T08:00:12",
          "2024-07-01T08:00:12",
          "2024-07-01T08:00:47",
          "2024-07-01T08:00:50",
          "2024-07-01T08:00:50",
          "2024-07-01T08:00:47",
          "2024-07-01T08:00:47",
          "2024-07-01T08:02:02",
          "2024-07-01T08:02:23",
          "2024-07-01T08:02:23",
          "2024-07-01T08:02:02",
          "2024-07-01T08:02:02",
          "2024-07-01T08:00:23",
          "2024-07-01T08:00:26",
          "2024-07-01T08:00:26",
          "2024-07-01T08:00:23"
         ],
         "y": [
          5.8,
          5.8,
          6.2,
          6.2,
          null,
          3.8,
          3.8,
          4.2,
          4.2,
          null,
          3.8,
          3.8,
          4.2,
          4.2,
          null,
          0.8,
          0.8,
          1.2,
          1.2
         ]
        },
        {
         "fill": "toself",
         "fillcolor": "rgb(253, 174, 107)",
         "hoverinfo": "name",
         "legendgroup": "rgb(253, 174, 107)",
         "mode": "none",
         "name": "Job 7",
         "type": "scatter",
         "x": [
          "2024-07-01T08:01:02",
          "2024-07-01T08:01:05",
          "2024-07-01T08:01:05",
          "2024-07-01T08:01:02",
          "2024-07-01T08:01:02",
          "2024-07-01T08:01:17",
          "2024-07-01T08:01:41",
          "2024-07-01T08:01:41",
          "2024-07-01T08:01:17",
          "2024-07-01T08:01:17",
          "2024-07-01T08:01:05",
          "2024-07-01T08:01:08",
          "2024-07-01T08:01:08",
          "2024-07-01T08:01:05"
         ],
         "y": [
          5.8,
          5.8,
          6.2,
          6.2,
          null,
          2.8,
          2.8,
          3.2,
          3.2,
          null,
          -0.2,
          -0.2,
          0.2,
          0.2
         ]
        },
        {
         "fill": "toself",
         "fillcolor": "rgb(253, 208, 162)",
         "hoverinfo": "name",
         "legendgroup": "rgb(253, 208, 162)",
         "mode": "none",
         "name": "Job 8",
         "type": "scatter",
         "x": [
          "2024-07-01T08:00:18",
          "2024-07-01T08:00:20",
          "2024-07-01T08:00:20",
          "2024-07-01T08:00:18",
          "2024-07-01T08:00:18",
          "2024-07-01T08:01:05",
          "2024-07-01T08:01:08",
          "2024-07-01T08:01:08",
          "2024-07-01T08:01:05",
          "2024-07-01T08:01:05",
          "2024-07-01T08:01:19",
          "2024-07-01T08:02:07",
          "2024-07-01T08:02:07",
          "2024-07-01T08:01:19",
          "2024-07-01T08:01:19",
          "2024-07-01T08:01:08",
          "2024-07-01T08:01:14",
          "2024-07-01T08:01:14",
          "2024-07-01T08:01:08"
         ],
         "y": [
          5.8,
          5.8,
          6.2,
          6.2,
          null,
          5.8,
          5.8,
          6.2,
          6.2,
          null,
          4.8,
          4.8,
          5.2,
          5.2,
          null,
          -0.2,
          -0.2,
          0.2,
          0.2
         ]
        },
        {
         "fill": "toself",
         "fillcolor": "rgb(49, 130, 189)",
         "hoverinfo": "name",
         "legendgroup": "rgb(49, 130, 189)",
         "mode": "none",
         "name": "Job 1",
         "type": "scatter",
         "x": [
          "2024-07-01T08:01:20",
          "2024-07-01T08:01:24",
          "2024-07-01T08:01:24",
          "2024-07-01T08:01:20",
          "2024-07-01T08:01:20",
          "2024-07-01T08:00:03",
          "2024-07-01T08:00:07",
          "2024-07-01T08:00:07",
          "2024-07-01T08:00:03",
          "2024-07-01T08:00:03",
          "2024-07-01T08:02:05",
          "2024-07-01T08:02:29",
          "2024-07-01T08:02:29",
          "2024-07-01T08:02:05",
          "2024-07-01T08:02:05",
          "2024-07-01T08:00:29",
          "2024-07-01T08:00:53",
          "2024-07-01T08:00:53",
          "2024-07-01T08:00:29",
          "2024-07-01T08:00:29",
          "2024-07-01T08:01:24",
          "2024-07-01T08:01:27",
          "2024-07-01T08:01:27",
          "2024-07-01T08:01:24",
          "2024-07-01T08:01:24",
          "2024-07-01T08:00:26",
          "2024-07-01T08:00:29",
          "2024-07-01T08:00:29",
          "2024-07-01T08:00:26"
         ],
         "y": [
          5.8,
          5.8,
          6.2,
          6.2,
          null,
          5.8,
          5.8,
          6.2,
          6.2,
          null,
          2.8,
          2.8,
          3.2,
          3.2,
          null,
          2.8,
          2.8,
          3.2,
          3.2,
          null,
          0.8,
          0.8,
          1.2,
          1.2,
          null,
          0.8,
          0.8,
          1.2,
          1.2
         ]
        },
        {
         "fill": "toself",
         "fillcolor": "rgb(49, 163, 84)",
         "hoverinfo": "name",
         "legendgroup": "rgb(49, 163, 84)",
         "mode": "none",
         "name": "Job 9",
         "type": "scatter",
         "x": [
          "2024-07-01T08:01:29",
          "2024-07-01T08:01:32",
          "2024-07-01T08:01:32",
          "2024-07-01T08:01:29",
          "2024-07-01T08:01:29",
          "2024-07-01T08:01:41",
          "2024-07-01T08:02:05",
          "2024-07-01T08:02:05",
          "2024-07-01T08:01:41",
          "2024-07-01T08:01:41",
          "2024-07-01T08:01:32",
          "2024-07-01T08:01:37",
          "2024-07-01T08:01:37",
          "2024-07-01T08:01:32"
         ],
         "y": [
          5.8,
          5.8,
          6.2,
          6.2,
          null,
          2.8,
          2.8,
          3.2,
          3.2,
          null,
          1.8,
          1.8,
          2.2,
          2.2
         ]
        },
        {
         "fill": "toself",
         "fillcolor": "rgb(99, 99, 99)",
         "hoverinfo": "name",
         "legendgroup": "rgb(99, 99, 99)",
         "mode": "none",
         "name": "Job 17",
         "type": "scatter",
         "x": [
          "2024-07-01T08:01:18",
          "2024-07-01T08:01:19",
          "2024-07-01T08:01:19",
          "2024-07-01T08:01:18",
          "2024-07-01T08:01:18",
          "2024-07-01T08:02:07",
          "2024-07-01T08:02:31",
          "2024-07-01T08:02:31",
          "2024-07-01T08:02:07",
          "2024-07-01T08:02:07",
          "2024-07-01T08:01:42",
          "2024-07-01T08:01:47",
          "2024-07-01T08:01:47",
          "2024-07-01T08:01:42"
         ],
         "y": [
          5.8,
          5.8,
          6.2,
          6.2,
          null,
          4.8,
          4.8,
          5.2,
          5.2,
          null,
          1.8,
          1.8,
          2.2,
          2.2
         ]
        },
        {
         "legendgroup": "rgb(107, 174, 214)",
         "marker": {
          "color": "rgb(107, 174, 214)",
          "opacity": 0,
          "size": 1
         },
         "mode": "markers",
         "name": "",
         "showlegend": false,
         "text": [
          null,
          null,
          null,
          null
         ],
         "type": "scatter",
         "x": [
          "2024-07-01T08:01:08",
          "2024-07-01T08:01:11",
          "2024-07-01T08:01:24",
          "2024-07-01T08:01:28"
         ],
         "y": [
          6,
          6,
          2,
          2
         ]
        },
        {
         "legendgroup": "rgb(116, 196, 118)",
         "marker": {
          "color": "rgb(116, 196, 118)",
          "opacity": 0,
          "size": 1
         },
         "mode": "markers",
         "name": "",
         "showlegend": false,
         "text": [
          null,
          null,
          null,
          null,
          null,
          null
         ],
         "type": "scatter",
         "x": [
          "2024-07-01T08:01:14",
          "2024-07-01T08:01:17",
          "2024-07-01T08:02:29",
          "2024-07-01T08:02:53",
          "2024-07-01T08:01:37",
          "2024-07-01T08:01:42"
         ],
         "y": [
          6,
          6,
          3,
          3,
          2,
          2
         ]
        },
        {
         "legendgroup": "rgb(117, 107, 177)",
         "marker": {
          "color": "rgb(117, 107, 177)",
          "opacity": 0,
          "size": 1
         },
         "mode": "markers",
         "name": "",
         "showlegend": false,
         "text": [
          null,
          null,
          null,
          null,
          null,
          null
         ],
         "type": "scatter",
         "x": [
          "2024-07-01T08:00:11",
          "2024-07-01T08:00:12",
          "2024-07-01T08:00:55",
          "2024-07-01T08:01:19",
          "2024-07-01T08:00:50",
          "2024-07-01T08:00:55"
         ],
         "y": [
          6,
          6,
          5,
          5,
          2,
          2
         ]
        },
        {
         "legendgroup": "rgb(150, 150, 150)",
         "marker": {
          "color": "rgb(150, 150, 150)",
          "opacity": 0,
          "size": 1
         },
         "mode": "markers",
         "name": "",
         "showlegend": false,
         "text": [
          null,
          null,
          null,
          null,
          null,
          null
         ],
         "type": "scatter",
         "x": [
          "2024-07-01T08:01:25",
          "2024-07-01T08:01:29",
          "2024-07-01T08:01:38",
          "2024-07-01T08:02:02",
          "2024-07-01T08:01:29",
          "2024-07-01T08:01:32"
         ],
         "y": [
          6,
          6,
          4,
          4,
          0,
          0
         ]
        },
        {
         "legendgroup": "rgb(158, 154, 200)",
         "marker": {
          "color": "rgb(158, 154, 200)",
          "opacity": 0,
          "size": 1
         },
         "mode": "markers",
         "name": "",
         "showlegend": false,
         "text": [
          null,
          null,
          null,
          null,
          null,
          null
         ],
         "type": "scatter",
         "x": [
          "2024-07-01T08:00:07",
          "2024-07-01T08:00:08",
          "2024-07-01T08:00:53",
          "2024-07-01T08:01:17",
          "2024-07-01T08:00:08",
          "2024-07-01T08:00:13"
         ],
         "y": [
          6,
          6,
          3,
          3,
          2,
          2
         ]
        },
        {
         "legendgroup": "rgb(158, 202, 225)",
         "marker": {
          "color": "rgb(158, 202, 225)",
          "opacity": 0,
          "size": 1
         },
         "mode": "markers",
         "name": "",
         "showlegend": false,
         "text": [
          null,
          null,
          null,
          null
         ],
         "type": "scatter",
         "x": [
          "2024-07-01T08:01:11",
          "2024-07-01T08:01:14",
          "2024-07-01T08:01:28",
          "2024-07-01T08:01:32"
         ],
         "y": [
          6,
          6,
          2,
          2
         ]
        },
        {
         "legendgroup": "rgb(161, 217, 155)",
         "marker": {
          "color": "rgb(161, 217, 155)",
          "opacity": 0,
          "size": 1
         },
         "mode": "markers",
         "name": "",
         "showlegend": false,
         "text": [
          null,
          null,
          null,
          null,
          null,
          null
         ],
         "type": "scatter",
         "x": [
          "2024-07-01T08:00:04",
          "2024-07-01T08:00:08",
          "2024-07-01T08:01:19",
          "2024-07-01T08:01:20",
          "2024-07-01T08:01:55",
          "2024-07-01T08:01:59"
         ],
         "y": [
          7,
          7,
          6,
          6,
          2,
          2
         ]
        },
        {
         "legendgroup": "rgb(188, 189, 220)",
         "marker": {
          "color": "rgb(188, 189, 220)",
          "opacity": 0,
          "size": 1
         },
         "mode": "markers",
         "name": "",
         "showlegend": false,
         "text": [
          null,
          null,
          null,
          null
         ],
         "type": "scatter",
         "x": [
          "2024-07-01T08:01:32",
          "2024-07-01T08:01:35",
          "2024-07-01T08:01:59",
          "2024-07-01T08:02:03"
         ],
         "y": [
          6,
          6,
          2,
          2
         ]
        },
        {
         "legendgroup": "rgb(189, 189, 189)",
         "marker": {
          "color": "rgb(189, 189, 189)",
          "opacity": 0,
          "size": 1
         },
         "mode": "markers",
         "name": "",
         "showlegend": false,
         "text": [
          null,
          null,
          null,
          null,
          null,
          null
         ],
         "type": "scatter",
         "x": [
          "2024-07-01T08:00:15",
          "2024-07-01T08:00:18",
          "2024-07-01T08:00:23",
          "2024-07-01T08:00:47",
          "2024-07-01T08:00:18",
          "2024-07-01T08:00:23"
         ],
         "y": [
          6,
          6,
          4,
          4,
          2,
          2
         ]
        },
        {
         "legendgroup": "rgb(198, 219, 239)",
         "marker": {
          "color": "rgb(198, 219, 239)",
          "opacity": 0,
          "size": 1
         },
         "mode": "markers",
         "name": "",
         "showlegend": false,
         "text": [
          null,
          null,
          null,
          null
         ],
         "type": "scatter",
         "x": [
          "2024-07-01T08:00:08",
          "2024-07-01T08:00:11",
          "2024-07-01T08:00:23",
          "2024-07-01T08:00:27"
         ],
         "y": [
          6,
          6,
          2,
          2
         ]
        },
        {
         "legendgroup": "rgb(199, 233, 192)",
         "marker": {
          "color": "rgb(199, 233, 192)",
          "opacity": 0,
          "size": 1
         },
         "mode": "markers",
         "name": "",
         "showlegend": false,
         "text": [
          null,
          null,
          null,
          null,
          null,
          null
         ],
         "type": "scatter",
         "x": [
          "2024-07-01T08:00:00",
          "2024-07-01T08:00:04",
          "2024-07-01T08:01:24",
          "2024-07-01T08:01:25",
          "2024-07-01T08:01:51",
          "2024-07-01T08:01:55"
         ],
         "y": [
          7,
          7,
          6,
          6,
          2,
          2
         ]
        },
        {
         "legendgroup": "rgb(217, 217, 217)",
         "marker": {
          "color": "rgb(217, 217, 217)",
          "opacity": 0,
          "size": 1
         },
         "mode": "markers",
         "name": "",
         "showlegend": false,
         "text": [
          null,
          null,
          null,
          null,
          null,
          null
         ],
         "type": "scatter",
         "x": [
          "2024-07-01T08:01:35",
          "2024-07-01T08:01:39",
          "2024-07-01T08:02:53",
          "2024-07-01T08:03:17",
          "2024-07-01T08:01:39",
          "2024-07-01T08:01:42"
         ],
         "y": [
          6,
          6,
          3,
          3,
          0,
          0
         ]
        },
        {
         "legendgroup": "rgb(218, 218, 235)",
         "marker": {
          "color": "rgb(218, 218, 235)",
          "opacity": 0,
          "size": 1
         },
         "mode": "markers",
         "name": "",
         "showlegend": false,
         "text": [
          null,
          null,
          null,
          null,
          null,
          null
         ],
         "type": "scatter",
         "x": [
          "2024-07-01T08:01:17",
          "2024-07-01T08:01:18",
          "2024-07-01T08:02:23",
          "2024-07-01T08:02:47",
          "2024-07-01T08:02:03",
          "2024-07-01T08:02:08"
         ],
         "y": [
          6,
          6,
          4,
          4,
          2,
          2
         ]
        },
        {
         "legendgroup": "rgb(230, 85, 13)",
         "marker": {
          "color": "rgb(230, 85, 13)",
          "opacity": 0,
          "size": 1
         },
         "mode": "markers",
         "name": "",
         "showlegend": false,
         "text": [
          null,
          null,
          null,
          null
         ],
         "type": "scatter",
         "x": [
          "2024-07-01T08:00:00",
          "2024-07-01T08:00:03",
          "2024-07-01T08:01:47",
          "2024-07-01T08:01:51"
         ],
         "y": [
          6,
          6,
          2,
          2
         ]
        },
        {
         "legendgroup": "rgb(253, 141, 60)",
         "marker": {
          "color": "rgb(253, 141, 60)",
          "opacity": 0,
          "size": 1
         },
         "mode": "markers",
         "name": "",
         "showlegend": false,
         "text": [
          null,
          null,
          null,
          null,
          null,
          null,
          null,
          null
         ],
         "type": "scatter",
         "x": [
          "2024-07-01T08:00:12",
          "2024-07-01T08:00:15",
          "2024-07-01T08:00:47",
          "2024-07-01T08:00:50",
          "2024-07-01T08:02:02",
          "2024-07-01T08:02:23",
          "2024-07-01T08:00:23",
          "2024-07-01T08:00:26"
         ],
         "y": [
          6,
          6,
          4,
          4,
          4,
          4,
          1,
          1
         ]
        },
        {
         "legendgroup": "rgb(253, 174, 107)",
         "marker": {
          "color": "rgb(253, 174, 107)",
          "opacity": 0,
          "size": 1
         },
         "mode": "markers",
         "name": "",
         "showlegend": false,
         "text": [
          null,
          null,
          null,
          null,
          null,
          null
         ],
         "type": "scatter",
         "x": [
          "2024-07-01T08:01:02",
          "2024-07-01T08:01:05",
          "2024-07-01T08:01:17",
          "2024-07-01T08:01:41",
          "2024-07-01T08:01:05",
          "2024-07-01T08:01:08"
         ],
         "y": [
          6,
          6,
          3,
          3,
          0,
          0
         ]
        },
        {
         "legendgroup": "rgb(253, 208, 162)",
         "marker": {
          "color": "rgb(253, 208, 162)",
          "opacity": 0,
          "size": 1
         },
         "mode": "markers",
         "name": "",
         "showlegend": false,
         "text": [
          null,
          null,
          null,
          null,
          null,
          null,
          null,
          null
         ],
         "type": "scatter",
         "x": [
          "2024-07-01T08:00:18",
          "2024-07-01T08:00:20",
          "2024-07-01T08:01:05",
          "2024-07-01T08:01:08",
          "2024-07-01T08:01:19",
          "2024-07-01T08:02:07",
          "2024-07-01T08:01:08",
          "2024-07-01T08:01:14"
         ],
         "y": [
          6,
          6,
          6,
          6,
          5,
          5,
          0,
          0
         ]
        },
        {
         "legendgroup": "rgb(49, 130, 189)",
         "marker": {
          "color": "rgb(49, 130, 189)",
          "opacity": 0,
          "size": 1
         },
         "mode": "markers",
         "name": "",
         "showlegend": false,
         "text": [
          null,
          null,
          null,
          null,
          null,
          null,
          null,
          null,
          null,
          null,
          null,
          null
         ],
         "type": "scatter",
         "x": [
          "2024-07-01T08:01:20",
          "2024-07-01T08:01:24",
          "2024-07-01T08:00:03",
          "2024-07-01T08:00:07",
          "2024-07-01T08:02:05",
          "2024-07-01T08:02:29",
          "2024-07-01T08:00:29",
          "2024-07-01T08:00:53",
          "2024-07-01T08:01:24",
          "2024-07-01T08:01:27",
          "2024-07-01T08:00:26",
          "2024-07-01T08:00:29"
         ],
         "y": [
          6,
          6,
          6,
          6,
          3,
          3,
          3,
          3,
          1,
          1,
          1,
          1
         ]
        },
        {
         "legendgroup": "rgb(49, 163, 84)",
         "marker": {
          "color": "rgb(49, 163, 84)",
          "opacity": 0,
          "size": 1
         },
         "mode": "markers",
         "name": "",
         "showlegend": false,
         "text": [
          null,
          null,
          null,
          null,
          null,
          null
         ],
         "type": "scatter",
         "x": [
          "2024-07-01T08:01:29",
          "2024-07-01T08:01:32",
          "2024-07-01T08:01:41",
          "2024-07-01T08:02:05",
          "2024-07-01T08:01:32",
          "2024-07-01T08:01:37"
         ],
         "y": [
          6,
          6,
          3,
          3,
          2,
          2
         ]
        },
        {
         "legendgroup": "rgb(99, 99, 99)",
         "marker": {
          "color": "rgb(99, 99, 99)",
          "opacity": 0,
          "size": 1
         },
         "mode": "markers",
         "name": "",
         "showlegend": false,
         "text": [
          null,
          null,
          null,
          null,
          null,
          null
         ],
         "type": "scatter",
         "x": [
          "2024-07-01T08:01:18",
          "2024-07-01T08:01:19",
          "2024-07-01T08:02:07",
          "2024-07-01T08:02:31",
          "2024-07-01T08:01:42",
          "2024-07-01T08:01:47"
         ],
         "y": [
          6,
          6,
          5,
          5,
          2,
          2
         ]
        }
       ],
       "layout": {
        "annotations": [
         {
          "align": "center",
          "font": {
           "color": "black",
           "size": 10
          },
          "showarrow": false,
          "text": "X",
          "valign": "middle",
          "x": "2024-07-01T08:00:41",
          "y": 6
         },
         {
          "align": "center",
          "font": {
           "color": "black",
           "size": 10
          },
          "showarrow": false,
          "text": "X",
          "valign": "middle",
          "x": "2024-07-01T08:01:14",
          "y": 4
         },
         {
          "align": "center",
          "font": {
           "color": "black",
           "size": 10
          },
          "showarrow": false,
          "text": "X",
          "valign": "middle",
          "x": "2024-07-01T08:01:19.500000",
          "y": 2
         }
        ],
        "height": 600,
        "hovermode": "closest",
        "legend": {
         "traceorder": "normal"
        },
        "shapes": [
         {
          "fillcolor": "white",
          "line": {
           "color": "black"
          },
          "opacity": 1,
          "type": "rect",
          "x0": "2024-07-01T08:00:20",
          "x1": "2024-07-01T08:01:02",
          "y0": 5.82,
          "y1": 6.18
         },
         {
          "fillcolor": "white",
          "line": {
           "color": "black"
          },
          "opacity": 1,
          "type": "rect",
          "x0": "2024-07-01T08:00:50",
          "x1": "2024-07-01T08:01:38",
          "y0": 3.82,
          "y1": 4.18
         },
         {
          "fillcolor": "white",
          "line": {
           "color": "black"
          },
          "opacity": 1,
          "type": "rect",
          "x0": "2024-07-01T08:01:15",
          "x1": "2024-07-01T08:01:24",
          "y0": 1.82,
          "y1": 2.18
         },
         {
          "line": {
           "color": "black",
           "dash": "dash"
          },
          "type": "line",
          "x0": "2024-07-01T08:01:30",
          "x1": "2024-07-01T08:01:30",
          "y0": -0.5,
          "y1": 7.5
         }
        ],
        "showlegend": true,
        "template": {
         "data": {
          "bar": [
           {
            "error_x": {
             "color": "#2a3f5f"
            },
            "error_y": {
             "color": "#2a3f5f"
            },
            "marker": {
             "line": {
              "color": "#E5ECF6",
              "width": 0.5
             },
             "pattern": {
              "fillmode": "overlay",
              "size": 10,
              "solidity": 0.2
             }
            },
            "type": "bar"
           }
          ],
          "barpolar": [
           {
            "marker": {
             "line": {
              "color": "#E5ECF6",
              "width": 0.5
             },
             "pattern": {
              "fillmode": "overlay",
              "size": 10,
              "solidity": 0.2
             }
            },
            "type": "barpolar"
           }
          ],
          "carpet": [
           {
            "aaxis": {
             "endlinecolor": "#2a3f5f",
             "gridcolor": "white",
             "linecolor": "white",
             "minorgridcolor": "white",
             "startlinecolor": "#2a3f5f"
            },
            "baxis": {
             "endlinecolor": "#2a3f5f",
             "gridcolor": "white",
             "linecolor": "white",
             "minorgridcolor": "white",
             "startlinecolor": "#2a3f5f"
            },
            "type": "carpet"
           }
          ],
          "choropleth": [
           {
            "colorbar": {
             "outlinewidth": 0,
             "ticks": ""
            },
            "type": "choropleth"
           }
          ],
          "contour": [
           {
            "colorbar": {
             "outlinewidth": 0,
             "ticks": ""
            },
            "colorscale": [
             [
              0,
              "#0d0887"
             ],
             [
              0.1111111111111111,
              "#46039f"
             ],
             [
              0.2222222222222222,
              "#7201a8"
             ],
             [
              0.3333333333333333,
              "#9c179e"
             ],
             [
              0.4444444444444444,
              "#bd3786"
             ],
             [
              0.5555555555555556,
              "#d8576b"
             ],
             [
              0.6666666666666666,
              "#ed7953"
             ],
             [
              0.7777777777777778,
              "#fb9f3a"
             ],
             [
              0.8888888888888888,
              "#fdca26"
             ],
             [
              1,
              "#f0f921"
             ]
            ],
            "type": "contour"
           }
          ],
          "contourcarpet": [
           {
            "colorbar": {
             "outlinewidth": 0,
             "ticks": ""
            },
            "type": "contourcarpet"
           }
          ],
          "heatmap": [
           {
            "colorbar": {
             "outlinewidth": 0,
             "ticks": ""
            },
            "colorscale": [
             [
              0,
              "#0d0887"
             ],
             [
              0.1111111111111111,
              "#46039f"
             ],
             [
              0.2222222222222222,
              "#7201a8"
             ],
             [
              0.3333333333333333,
              "#9c179e"
             ],
             [
              0.4444444444444444,
              "#bd3786"
             ],
             [
              0.5555555555555556,
              "#d8576b"
             ],
             [
              0.6666666666666666,
              "#ed7953"
             ],
             [
              0.7777777777777778,
              "#fb9f3a"
             ],
             [
              0.8888888888888888,
              "#fdca26"
             ],
             [
              1,
              "#f0f921"
             ]
            ],
            "type": "heatmap"
           }
          ],
          "heatmapgl": [
           {
            "colorbar": {
             "outlinewidth": 0,
             "ticks": ""
            },
            "colorscale": [
             [
              0,
              "#0d0887"
             ],
             [
              0.1111111111111111,
              "#46039f"
             ],
             [
              0.2222222222222222,
              "#7201a8"
             ],
             [
              0.3333333333333333,
              "#9c179e"
             ],
             [
              0.4444444444444444,
              "#bd3786"
             ],
             [
              0.5555555555555556,
              "#d8576b"
             ],
             [
              0.6666666666666666,
              "#ed7953"
             ],
             [
              0.7777777777777778,
              "#fb9f3a"
             ],
             [
              0.8888888888888888,
              "#fdca26"
             ],
             [
              1,
              "#f0f921"
             ]
            ],
            "type": "heatmapgl"
           }
          ],
          "histogram": [
           {
            "marker": {
             "pattern": {
              "fillmode": "overlay",
              "size": 10,
              "solidity": 0.2
             }
            },
            "type": "histogram"
           }
          ],
          "histogram2d": [
           {
            "colorbar": {
             "outlinewidth": 0,
             "ticks": ""
            },
            "colorscale": [
             [
              0,
              "#0d0887"
             ],
             [
              0.1111111111111111,
              "#46039f"
             ],
             [
              0.2222222222222222,
              "#7201a8"
             ],
             [
              0.3333333333333333,
              "#9c179e"
             ],
             [
              0.4444444444444444,
              "#bd3786"
             ],
             [
              0.5555555555555556,
              "#d8576b"
             ],
             [
              0.6666666666666666,
              "#ed7953"
             ],
             [
              0.7777777777777778,
              "#fb9f3a"
             ],
             [
              0.8888888888888888,
              "#fdca26"
             ],
             [
              1,
              "#f0f921"
             ]
            ],
            "type": "histogram2d"
           }
          ],
          "histogram2dcontour": [
           {
            "colorbar": {
             "outlinewidth": 0,
             "ticks": ""
            },
            "colorscale": [
             [
              0,
              "#0d0887"
             ],
             [
              0.1111111111111111,
              "#46039f"
             ],
             [
              0.2222222222222222,
              "#7201a8"
             ],
             [
              0.3333333333333333,
              "#9c179e"
             ],
             [
              0.4444444444444444,
              "#bd3786"
             ],
             [
              0.5555555555555556,
              "#d8576b"
             ],
             [
              0.6666666666666666,
              "#ed7953"
             ],
             [
              0.7777777777777778,
              "#fb9f3a"
             ],
             [
              0.8888888888888888,
              "#fdca26"
             ],
             [
              1,
              "#f0f921"
             ]
            ],
            "type": "histogram2dcontour"
           }
          ],
          "mesh3d": [
           {
            "colorbar": {
             "outlinewidth": 0,
             "ticks": ""
            },
            "type": "mesh3d"
           }
          ],
          "parcoords": [
           {
            "line": {
             "colorbar": {
              "outlinewidth": 0,
              "ticks": ""
             }
            },
            "type": "parcoords"
           }
          ],
          "pie": [
           {
            "automargin": true,
            "type": "pie"
           }
          ],
          "scatter": [
           {
            "fillpattern": {
             "fillmode": "overlay",
             "size": 10,
             "solidity": 0.2
            },
            "type": "scatter"
           }
          ],
          "scatter3d": [
           {
            "line": {
             "colorbar": {
              "outlinewidth": 0,
              "ticks": ""
             }
            },
            "marker": {
             "colorbar": {
              "outlinewidth": 0,
              "ticks": ""
             }
            },
            "type": "scatter3d"
           }
          ],
          "scattercarpet": [
           {
            "marker": {
             "colorbar": {
              "outlinewidth": 0,
              "ticks": ""
             }
            },
            "type": "scattercarpet"
           }
          ],
          "scattergeo": [
           {
            "marker": {
             "colorbar": {
              "outlinewidth": 0,
              "ticks": ""
             }
            },
            "type": "scattergeo"
           }
          ],
          "scattergl": [
           {
            "marker": {
             "colorbar": {
              "outlinewidth": 0,
              "ticks": ""
             }
            },
            "type": "scattergl"
           }
          ],
          "scattermapbox": [
           {
            "marker": {
             "colorbar": {
              "outlinewidth": 0,
              "ticks": ""
             }
            },
            "type": "scattermapbox"
           }
          ],
          "scatterpolar": [
           {
            "marker": {
             "colorbar": {
              "outlinewidth": 0,
              "ticks": ""
             }
            },
            "type": "scatterpolar"
           }
          ],
          "scatterpolargl": [
           {
            "marker": {
             "colorbar": {
              "outlinewidth": 0,
              "ticks": ""
             }
            },
            "type": "scatterpolargl"
           }
          ],
          "scatterternary": [
           {
            "marker": {
             "colorbar": {
              "outlinewidth": 0,
              "ticks": ""
             }
            },
            "type": "scatterternary"
           }
          ],
          "surface": [
           {
            "colorbar": {
             "outlinewidth": 0,
             "ticks": ""
            },
            "colorscale": [
             [
              0,
              "#0d0887"
             ],
             [
              0.1111111111111111,
              "#46039f"
             ],
             [
              0.2222222222222222,
              "#7201a8"
             ],
             [
              0.3333333333333333,
              "#9c179e"
             ],
             [
              0.4444444444444444,
              "#bd3786"
             ],
             [
              0.5555555555555556,
              "#d8576b"
             ],
             [
              0.6666666666666666,
              "#ed7953"
             ],
             [
              0.7777777777777778,
              "#fb9f3a"
             ],
             [
              0.8888888888888888,
              "#fdca26"
             ],
             [
              1,
              "#f0f921"
             ]
            ],
            "type": "surface"
           }
          ],
          "table": [
           {
            "cells": {
             "fill": {
              "color": "#EBF0F8"
             },
             "line": {
              "color": "white"
             }
            },
            "header": {
             "fill": {
              "color": "#C8D4E3"
             },
             "line": {
              "color": "white"
             }
            },
            "type": "table"
           }
          ]
         },
         "layout": {
          "annotationdefaults": {
           "arrowcolor": "#2a3f5f",
           "arrowhead": 0,
           "arrowwidth": 1
          },
          "autotypenumbers": "strict",
          "coloraxis": {
           "colorbar": {
            "outlinewidth": 0,
            "ticks": ""
           }
          },
          "colorscale": {
           "diverging": [
            [
             0,
             "#8e0152"
            ],
            [
             0.1,
             "#c51b7d"
            ],
            [
             0.2,
             "#de77ae"
            ],
            [
             0.3,
             "#f1b6da"
            ],
            [
             0.4,
             "#fde0ef"
            ],
            [
             0.5,
             "#f7f7f7"
            ],
            [
             0.6,
             "#e6f5d0"
            ],
            [
             0.7,
             "#b8e186"
            ],
            [
             0.8,
             "#7fbc41"
            ],
            [
             0.9,
             "#4d9221"
            ],
            [
             1,
             "#276419"
            ]
           ],
           "sequential": [
            [
             0,
             "#0d0887"
            ],
            [
             0.1111111111111111,
             "#46039f"
            ],
            [
             0.2222222222222222,
             "#7201a8"
            ],
            [
             0.3333333333333333,
             "#9c179e"
            ],
            [
             0.4444444444444444,
             "#bd3786"
            ],
            [
             0.5555555555555556,
             "#d8576b"
            ],
            [
             0.6666666666666666,
             "#ed7953"
            ],
            [
             0.7777777777777778,
             "#fb9f3a"
            ],
            [
             0.8888888888888888,
             "#fdca26"
            ],
            [
             1,
             "#f0f921"
            ]
           ],
           "sequentialminus": [
            [
             0,
             "#0d0887"
            ],
            [
             0.1111111111111111,
             "#46039f"
            ],
            [
             0.2222222222222222,
             "#7201a8"
            ],
            [
             0.3333333333333333,
             "#9c179e"
            ],
            [
             0.4444444444444444,
             "#bd3786"
            ],
            [
             0.5555555555555556,
             "#d8576b"
            ],
            [
             0.6666666666666666,
             "#ed7953"
            ],
            [
             0.7777777777777778,
             "#fb9f3a"
            ],
            [
             0.8888888888888888,
             "#fdca26"
            ],
            [
             1,
             "#f0f921"
            ]
           ]
          },
          "colorway": [
           "#636efa",
           "#EF553B",
           "#00cc96",
           "#ab63fa",
           "#FFA15A",
           "#19d3f3",
           "#FF6692",
           "#B6E880",
           "#FF97FF",
           "#FECB52"
          ],
          "font": {
           "color": "#2a3f5f"
          },
          "geo": {
           "bgcolor": "white",
           "lakecolor": "white",
           "landcolor": "#E5ECF6",
           "showlakes": true,
           "showland": true,
           "subunitcolor": "white"
          },
          "hoverlabel": {
           "align": "left"
          },
          "hovermode": "closest",
          "mapbox": {
           "style": "light"
          },
          "paper_bgcolor": "white",
          "plot_bgcolor": "#E5ECF6",
          "polar": {
           "angularaxis": {
            "gridcolor": "white",
            "linecolor": "white",
            "ticks": ""
           },
           "bgcolor": "#E5ECF6",
           "radialaxis": {
            "gridcolor": "white",
            "linecolor": "white",
            "ticks": ""
           }
          },
          "scene": {
           "xaxis": {
            "backgroundcolor": "#E5ECF6",
            "gridcolor": "white",
            "gridwidth": 2,
            "linecolor": "white",
            "showbackground": true,
            "ticks": "",
            "zerolinecolor": "white"
           },
           "yaxis": {
            "backgroundcolor": "#E5ECF6",
            "gridcolor": "white",
            "gridwidth": 2,
            "linecolor": "white",
            "showbackground": true,
            "ticks": "",
            "zerolinecolor": "white"
           },
           "zaxis": {
            "backgroundcolor": "#E5ECF6",
            "gridcolor": "white",
            "gridwidth": 2,
            "linecolor": "white",
            "showbackground": true,
            "ticks": "",
            "zerolinecolor": "white"
           }
          },
          "shapedefaults": {
           "line": {
            "color": "#2a3f5f"
           }
          },
          "ternary": {
           "aaxis": {
            "gridcolor": "white",
            "linecolor": "white",
            "ticks": ""
           },
           "baxis": {
            "gridcolor": "white",
            "linecolor": "white",
            "ticks": ""
           },
           "bgcolor": "#E5ECF6",
           "caxis": {
            "gridcolor": "white",
            "linecolor": "white",
            "ticks": ""
           }
          },
          "title": {
           "x": 0.05
          },
          "xaxis": {
           "automargin": true,
           "gridcolor": "white",
           "linecolor": "white",
           "ticks": "",
           "title": {
            "standoff": 15
           },
           "zerolinecolor": "white",
           "zerolinewidth": 2
          },
          "yaxis": {
           "automargin": true,
           "gridcolor": "white",
           "linecolor": "white",
           "ticks": "",
           "title": {
            "standoff": 15
           },
           "zerolinecolor": "white",
           "zerolinewidth": 2
          }
         }
        },
        "title": {
         "text": "Gantt Chart"
        },
        "xaxis": {
         "rangeselector": {
          "buttons": [
           {
            "count": 7,
            "label": "1w",
            "step": "day",
            "stepmode": "backward"
           },
           {
            "count": 1,
            "label": "1m",
            "step": "month",
            "stepmode": "backward"
           },
           {
            "count": 6,
            "label": "6m",
            "step": "month",
            "stepmode": "backward"
           },
           {
            "count": 1,
            "label": "YTD",
            "step": "year",
            "stepmode": "todate"
           },
           {
            "count": 1,
            "label": "1y",
            "step": "year",
            "stepmode": "backward"
           },
           {
            "step": "all"
           }
          ]
         },
         "showgrid": true,
         "tickformat": "%H:%M",
         "title": {
          "text": "Time"
         },
         "type": "date",
         "zeroline": false
        },
        "yaxis": {
         "autorange": false,
         "range": [
          -1,
          9
         ],
         "showgrid": true,
         "ticktext": [
          "Machine 7",
          "Machine 6",
          "Machine 5",
          "Machine 4",
          "Machine 3",
          "Machine 2",
          "Machine 1",
          "Machine 0"
         ],
         "tickvals": [
          0,
          1,
          2,
          3,
          4,
          5,
          6,
          7
         ],
         "title": {
          "text": "Machine"
         },
         "zeroline": false
        }
       }
      }
     },
     "metadata": {},
     "output_type": "display_data"
    },
    {
     "name": "stdout",
     "output_type": "stream",
     "text": [
      "GA 80.0\n"
     ]
    },
    {
     "data": {
      "application/vnd.plotly.v1+json": {
       "config": {
        "plotlyServerURL": "https://plot.ly"
       },
       "data": [
        {
         "fill": "toself",
         "fillcolor": "rgb(107, 174, 214)",
         "hoverinfo": "name",
         "legendgroup": "rgb(107, 174, 214)",
         "mode": "none",
         "name": "Job 2",
         "type": "scatter",
         "x": [
          "2024-07-01T08:01:08",
          "2024-07-01T08:01:11",
          "2024-07-01T08:01:11",
          "2024-07-01T08:01:08",
          "2024-07-01T08:01:08",
          "2024-07-01T08:01:24",
          "2024-07-01T08:01:28",
          "2024-07-01T08:01:28",
          "2024-07-01T08:01:24"
         ],
         "y": [
          5.8,
          5.8,
          6.2,
          6.2,
          null,
          1.8,
          1.8,
          2.2,
          2.2
         ]
        },
        {
         "fill": "toself",
         "fillcolor": "rgb(116, 196, 118)",
         "hoverinfo": "name",
         "legendgroup": "rgb(116, 196, 118)",
         "mode": "none",
         "name": "Job 10",
         "type": "scatter",
         "x": [
          "2024-07-01T08:01:14",
          "2024-07-01T08:01:17",
          "2024-07-01T08:01:17",
          "2024-07-01T08:01:14",
          "2024-07-01T08:01:14",
          "2024-07-01T08:02:28",
          "2024-07-01T08:02:52",
          "2024-07-01T08:02:52",
          "2024-07-01T08:02:28",
          "2024-07-01T08:02:28",
          "2024-07-01T08:01:37",
          "2024-07-01T08:01:42",
          "2024-07-01T08:01:42",
          "2024-07-01T08:01:37"
         ],
         "y": [
          5.8,
          5.8,
          6.2,
          6.2,
          null,
          4.8,
          4.8,
          5.2,
          5.2,
          null,
          1.8,
          1.8,
          2.2,
          2.2
         ]
        },
        {
         "fill": "toself",
         "fillcolor": "rgb(117, 107, 177)",
         "hoverinfo": "name",
         "legendgroup": "rgb(117, 107, 177)",
         "mode": "none",
         "name": "Job 13",
         "type": "scatter",
         "x": [
          "2024-07-01T08:00:11",
          "2024-07-01T08:00:12",
          "2024-07-01T08:00:12",
          "2024-07-01T08:00:11",
          "2024-07-01T08:00:11",
          "2024-07-01T08:00:55",
          "2024-07-01T08:01:19",
          "2024-07-01T08:01:19",
          "2024-07-01T08:00:55",
          "2024-07-01T08:00:55",
          "2024-07-01T08:00:50",
          "2024-07-01T08:00:55",
          "2024-07-01T08:00:55",
          "2024-07-01T08:00:50"
         ],
         "y": [
          5.8,
          5.8,
          6.2,
          6.2,
          null,
          4.8,
          4.8,
          5.2,
          5.2,
          null,
          1.8,
          1.8,
          2.2,
          2.2
         ]
        },
        {
         "fill": "toself",
         "fillcolor": "rgb(150, 150, 150)",
         "hoverinfo": "name",
         "legendgroup": "rgb(150, 150, 150)",
         "mode": "none",
         "name": "Job 18",
         "type": "scatter",
         "x": [
          "2024-07-01T08:01:25",
          "2024-07-01T08:01:29",
          "2024-07-01T08:01:29",
          "2024-07-01T08:01:25",
          "2024-07-01T08:01:25",
          "2024-07-01T08:01:38",
          "2024-07-01T08:02:02",
          "2024-07-01T08:02:02",
          "2024-07-01T08:01:38",
          "2024-07-01T08:01:38",
          "2024-07-01T08:01:29",
          "2024-07-01T08:01:32",
          "2024-07-01T08:01:32",
          "2024-07-01T08:01:29"
         ],
         "y": [
          5.8,
          5.8,
          6.2,
          6.2,
          null,
          3.8,
          3.8,
          4.2,
          4.2,
          null,
          -0.2,
          -0.2,
          0.2,
          0.2
         ]
        },
        {
         "fill": "toself",
         "fillcolor": "rgb(158, 154, 200)",
         "hoverinfo": "name",
         "legendgroup": "rgb(158, 154, 200)",
         "mode": "none",
         "name": "Job 14",
         "type": "scatter",
         "x": [
          "2024-07-01T08:00:07",
          "2024-07-01T08:00:08",
          "2024-07-01T08:00:08",
          "2024-07-01T08:00:07",
          "2024-07-01T08:00:07",
          "2024-07-01T08:00:53",
          "2024-07-01T08:01:17",
          "2024-07-01T08:01:17",
          "2024-07-01T08:00:53",
          "2024-07-01T08:00:53",
          "2024-07-01T08:00:08",
          "2024-07-01T08:00:13",
          "2024-07-01T08:00:13",
          "2024-07-01T08:00:08"
         ],
         "y": [
          5.8,
          5.8,
          6.2,
          6.2,
          null,
          2.8,
          2.8,
          3.2,
          3.2,
          null,
          1.8,
          1.8,
          2.2,
          2.2
         ]
        },
        {
         "fill": "toself",
         "fillcolor": "rgb(158, 202, 225)",
         "hoverinfo": "name",
         "legendgroup": "rgb(158, 202, 225)",
         "mode": "none",
         "name": "Job 3",
         "type": "scatter",
         "x": [
          "2024-07-01T08:01:11",
          "2024-07-01T08:01:14",
          "2024-07-01T08:01:14",
          "2024-07-01T08:01:11",
          "2024-07-01T08:01:11",
          "2024-07-01T08:01:28",
          "2024-07-01T08:01:32",
          "2024-07-01T08:01:32",
          "2024-07-01T08:01:28"
         ],
         "y": [
          5.8,
          5.8,
          6.2,
          6.2,
          null,
          1.8,
          1.8,
          2.2,
          2.2
         ]
        },
        {
         "fill": "toself",
         "fillcolor": "rgb(161, 217, 155)",
         "hoverinfo": "name",
         "legendgroup": "rgb(161, 217, 155)",
         "mode": "none",
         "name": "Job 11",
         "type": "scatter",
         "x": [
          "2024-07-01T08:00:04",
          "2024-07-01T08:00:08",
          "2024-07-01T08:00:08",
          "2024-07-01T08:00:04",
          "2024-07-01T08:00:04",
          "2024-07-01T08:01:19",
          "2024-07-01T08:01:20",
          "2024-07-01T08:01:20",
          "2024-07-01T08:01:19",
          "2024-07-01T08:01:19",
          "2024-07-01T08:01:51",
          "2024-07-01T08:01:55",
          "2024-07-01T08:01:55",
          "2024-07-01T08:01:51"
         ],
         "y": [
          6.8,
          6.8,
          7.2,
          7.2,
          null,
          5.8,
          5.8,
          6.2,
          6.2,
          null,
          1.8,
          1.8,
          2.2,
          2.2
         ]
        },
        {
         "fill": "toself",
         "fillcolor": "rgb(188, 189, 220)",
         "hoverinfo": "name",
         "legendgroup": "rgb(188, 189, 220)",
         "mode": "none",
         "name": "Job 15",
         "type": "scatter",
         "x": [
          "2024-07-01T08:01:32",
          "2024-07-01T08:01:35",
          "2024-07-01T08:01:35",
          "2024-07-01T08:01:32",
          "2024-07-01T08:01:32",
          "2024-07-01T08:01:59",
          "2024-07-01T08:02:03",
          "2024-07-01T08:02:03",
          "2024-07-01T08:01:59"
         ],
         "y": [
          5.8,
          5.8,
          6.2,
          6.2,
          null,
          1.8,
          1.8,
          2.2,
          2.2
         ]
        },
        {
         "fill": "toself",
         "fillcolor": "rgb(189, 189, 189)",
         "hoverinfo": "name",
         "legendgroup": "rgb(189, 189, 189)",
         "mode": "none",
         "name": "Job 19",
         "type": "scatter",
         "x": [
          "2024-07-01T08:00:15",
          "2024-07-01T08:00:18",
          "2024-07-01T08:00:18",
          "2024-07-01T08:00:15",
          "2024-07-01T08:00:15",
          "2024-07-01T08:00:23",
          "2024-07-01T08:00:47",
          "2024-07-01T08:00:47",
          "2024-07-01T08:00:23",
          "2024-07-01T08:00:23",
          "2024-07-01T08:00:18",
          "2024-07-01T08:00:23",
          "2024-07-01T08:00:23",
          "2024-07-01T08:00:18"
         ],
         "y": [
          5.8,
          5.8,
          6.2,
          6.2,
          null,
          3.8,
          3.8,
          4.2,
          4.2,
          null,
          1.8,
          1.8,
          2.2,
          2.2
         ]
        },
        {
         "fill": "toself",
         "fillcolor": "rgb(198, 219, 239)",
         "hoverinfo": "name",
         "legendgroup": "rgb(198, 219, 239)",
         "mode": "none",
         "name": "Job 4",
         "type": "scatter",
         "x": [
          "2024-07-01T08:00:08",
          "2024-07-01T08:00:11",
          "2024-07-01T08:00:11",
          "2024-07-01T08:00:08",
          "2024-07-01T08:00:08",
          "2024-07-01T08:00:23",
          "2024-07-01T08:00:27",
          "2024-07-01T08:00:27",
          "2024-07-01T08:00:23"
         ],
         "y": [
          5.8,
          5.8,
          6.2,
          6.2,
          null,
          1.8,
          1.8,
          2.2,
          2.2
         ]
        },
        {
         "fill": "toself",
         "fillcolor": "rgb(199, 233, 192)",
         "hoverinfo": "name",
         "legendgroup": "rgb(199, 233, 192)",
         "mode": "none",
         "name": "Job 12",
         "type": "scatter",
         "x": [
          "2024-07-01T08:00:00",
          "2024-07-01T08:00:04",
          "2024-07-01T08:00:04",
          "2024-07-01T08:00:00",
          "2024-07-01T08:00:00",
          "2024-07-01T08:01:24",
          "2024-07-01T08:01:25",
          "2024-07-01T08:01:25",
          "2024-07-01T08:01:24",
          "2024-07-01T08:01:24",
          "2024-07-01T08:01:55",
          "2024-07-01T08:01:59",
          "2024-07-01T08:01:59",
          "2024-07-01T08:01:55"
         ],
         "y": [
          6.8,
          6.8,
          7.2,
          7.2,
          null,
          5.8,
          5.8,
          6.2,
          6.2,
          null,
          1.8,
          1.8,
          2.2,
          2.2
         ]
        },
        {
         "fill": "toself",
         "fillcolor": "rgb(217, 217, 217)",
         "hoverinfo": "name",
         "legendgroup": "rgb(217, 217, 217)",
         "mode": "none",
         "name": "Job 20",
         "type": "scatter",
         "x": [
          "2024-07-01T08:01:35",
          "2024-07-01T08:01:39",
          "2024-07-01T08:01:39",
          "2024-07-01T08:01:35",
          "2024-07-01T08:01:35",
          "2024-07-01T08:03:01",
          "2024-07-01T08:03:25",
          "2024-07-01T08:03:25",
          "2024-07-01T08:03:01",
          "2024-07-01T08:03:01",
          "2024-07-01T08:01:39",
          "2024-07-01T08:01:42",
          "2024-07-01T08:01:42",
          "2024-07-01T08:01:39"
         ],
         "y": [
          5.8,
          5.8,
          6.2,
          6.2,
          null,
          2.8,
          2.8,
          3.2,
          3.2,
          null,
          -0.2,
          -0.2,
          0.2,
          0.2
         ]
        },
        {
         "fill": "toself",
         "fillcolor": "rgb(218, 218, 235)",
         "hoverinfo": "name",
         "legendgroup": "rgb(218, 218, 235)",
         "mode": "none",
         "name": "Job 16",
         "type": "scatter",
         "x": [
          "2024-07-01T08:01:17",
          "2024-07-01T08:01:18",
          "2024-07-01T08:01:18",
          "2024-07-01T08:01:17",
          "2024-07-01T08:01:17",
          "2024-07-01T08:02:37",
          "2024-07-01T08:03:01",
          "2024-07-01T08:03:01",
          "2024-07-01T08:02:37",
          "2024-07-01T08:02:37",
          "2024-07-01T08:02:03",
          "2024-07-01T08:02:08",
          "2024-07-01T08:02:08",
          "2024-07-01T08:02:03"
         ],
         "y": [
          5.8,
          5.8,
          6.2,
          6.2,
          null,
          2.8,
          2.8,
          3.2,
          3.2,
          null,
          1.8,
          1.8,
          2.2,
          2.2
         ]
        },
        {
         "fill": "toself",
         "fillcolor": "rgb(230, 85, 13)",
         "hoverinfo": "name",
         "legendgroup": "rgb(230, 85, 13)",
         "mode": "none",
         "name": "Job 5",
         "type": "scatter",
         "x": [
          "2024-07-01T08:00:00",
          "2024-07-01T08:00:03",
          "2024-07-01T08:00:03",
          "2024-07-01T08:00:00",
          "2024-07-01T08:00:00",
          "2024-07-01T08:01:47",
          "2024-07-01T08:01:51",
          "2024-07-01T08:01:51",
          "2024-07-01T08:01:47"
         ],
         "y": [
          5.8,
          5.8,
          6.2,
          6.2,
          null,
          1.8,
          1.8,
          2.2,
          2.2
         ]
        },
        {
         "fill": "toself",
         "fillcolor": "rgb(253, 141, 60)",
         "hoverinfo": "name",
         "legendgroup": "rgb(253, 141, 60)",
         "mode": "none",
         "name": "Job 6",
         "type": "scatter",
         "x": [
          "2024-07-01T08:00:12",
          "2024-07-01T08:00:15",
          "2024-07-01T08:00:15",
          "2024-07-01T08:00:12",
          "2024-07-01T08:00:12",
          "2024-07-01T08:02:07",
          "2024-07-01T08:02:28",
          "2024-07-01T08:02:28",
          "2024-07-01T08:02:07",
          "2024-07-01T08:02:07",
          "2024-07-01T08:00:47",
          "2024-07-01T08:00:50",
          "2024-07-01T08:00:50",
          "2024-07-01T08:00:47",
          "2024-07-01T08:00:47",
          "2024-07-01T08:00:23",
          "2024-07-01T08:00:26",
          "2024-07-01T08:00:26",
          "2024-07-01T08:00:23"
         ],
         "y": [
          5.8,
          5.8,
          6.2,
          6.2,
          null,
          4.8,
          4.8,
          5.2,
          5.2,
          null,
          3.8,
          3.8,
          4.2,
          4.2,
          null,
          0.8,
          0.8,
          1.2,
          1.2
         ]
        },
        {
         "fill": "toself",
         "fillcolor": "rgb(253, 174, 107)",
         "hoverinfo": "name",
         "legendgroup": "rgb(253, 174, 107)",
         "mode": "none",
         "name": "Job 7",
         "type": "scatter",
         "x": [
          "2024-07-01T08:01:02",
          "2024-07-01T08:01:05",
          "2024-07-01T08:01:05",
          "2024-07-01T08:01:02",
          "2024-07-01T08:01:02",
          "2024-07-01T08:01:17",
          "2024-07-01T08:01:41",
          "2024-07-01T08:01:41",
          "2024-07-01T08:01:17",
          "2024-07-01T08:01:17",
          "2024-07-01T08:01:05",
          "2024-07-01T08:01:08",
          "2024-07-01T08:01:08",
          "2024-07-01T08:01:05"
         ],
         "y": [
          5.8,
          5.8,
          6.2,
          6.2,
          null,
          2.8,
          2.8,
          3.2,
          3.2,
          null,
          -0.2,
          -0.2,
          0.2,
          0.2
         ]
        },
        {
         "fill": "toself",
         "fillcolor": "rgb(253, 208, 162)",
         "hoverinfo": "name",
         "legendgroup": "rgb(253, 208, 162)",
         "mode": "none",
         "name": "Job 8",
         "type": "scatter",
         "x": [
          "2024-07-01T08:00:18",
          "2024-07-01T08:00:20",
          "2024-07-01T08:00:20",
          "2024-07-01T08:00:18",
          "2024-07-01T08:00:18",
          "2024-07-01T08:01:05",
          "2024-07-01T08:01:08",
          "2024-07-01T08:01:08",
          "2024-07-01T08:01:05",
          "2024-07-01T08:01:05",
          "2024-07-01T08:01:19",
          "2024-07-01T08:02:07",
          "2024-07-01T08:02:07",
          "2024-07-01T08:01:19",
          "2024-07-01T08:01:19",
          "2024-07-01T08:01:08",
          "2024-07-01T08:01:14",
          "2024-07-01T08:01:14",
          "2024-07-01T08:01:08"
         ],
         "y": [
          5.8,
          5.8,
          6.2,
          6.2,
          null,
          5.8,
          5.8,
          6.2,
          6.2,
          null,
          4.8,
          4.8,
          5.2,
          5.2,
          null,
          -0.2,
          -0.2,
          0.2,
          0.2
         ]
        },
        {
         "fill": "toself",
         "fillcolor": "rgb(49, 130, 189)",
         "hoverinfo": "name",
         "legendgroup": "rgb(49, 130, 189)",
         "mode": "none",
         "name": "Job 1",
         "type": "scatter",
         "x": [
          "2024-07-01T08:01:20",
          "2024-07-01T08:01:24",
          "2024-07-01T08:01:24",
          "2024-07-01T08:01:20",
          "2024-07-01T08:01:20",
          "2024-07-01T08:00:03",
          "2024-07-01T08:00:07",
          "2024-07-01T08:00:07",
          "2024-07-01T08:00:03",
          "2024-07-01T08:00:03",
          "2024-07-01T08:02:02",
          "2024-07-01T08:02:26",
          "2024-07-01T08:02:26",
          "2024-07-01T08:02:02",
          "2024-07-01T08:02:02",
          "2024-07-01T08:00:29",
          "2024-07-01T08:00:53",
          "2024-07-01T08:00:53",
          "2024-07-01T08:00:29",
          "2024-07-01T08:00:29",
          "2024-07-01T08:01:24",
          "2024-07-01T08:01:27",
          "2024-07-01T08:01:27",
          "2024-07-01T08:01:24",
          "2024-07-01T08:01:24",
          "2024-07-01T08:00:26",
          "2024-07-01T08:00:29",
          "2024-07-01T08:00:29",
          "2024-07-01T08:00:26"
         ],
         "y": [
          5.8,
          5.8,
          6.2,
          6.2,
          null,
          5.8,
          5.8,
          6.2,
          6.2,
          null,
          3.8,
          3.8,
          4.2,
          4.2,
          null,
          2.8,
          2.8,
          3.2,
          3.2,
          null,
          0.8,
          0.8,
          1.2,
          1.2,
          null,
          0.8,
          0.8,
          1.2,
          1.2
         ]
        },
        {
         "fill": "toself",
         "fillcolor": "rgb(49, 163, 84)",
         "hoverinfo": "name",
         "legendgroup": "rgb(49, 163, 84)",
         "mode": "none",
         "name": "Job 9",
         "type": "scatter",
         "x": [
          "2024-07-01T08:01:29",
          "2024-07-01T08:01:32",
          "2024-07-01T08:01:32",
          "2024-07-01T08:01:29",
          "2024-07-01T08:01:29",
          "2024-07-01T08:01:41",
          "2024-07-01T08:01:50",
          "2024-07-01T08:01:50",
          "2024-07-01T08:01:41",
          "2024-07-01T08:01:41",
          "2024-07-01T08:02:22",
          "2024-07-01T08:02:37",
          "2024-07-01T08:02:37",
          "2024-07-01T08:02:22",
          "2024-07-01T08:02:22",
          "2024-07-01T08:01:32",
          "2024-07-01T08:01:37",
          "2024-07-01T08:01:37",
          "2024-07-01T08:01:32"
         ],
         "y": [
          5.8,
          5.8,
          6.2,
          6.2,
          null,
          2.8,
          2.8,
          3.2,
          3.2,
          null,
          2.8,
          2.8,
          3.2,
          3.2,
          null,
          1.8,
          1.8,
          2.2,
          2.2
         ]
        },
        {
         "fill": "toself",
         "fillcolor": "rgb(99, 99, 99)",
         "hoverinfo": "name",
         "legendgroup": "rgb(99, 99, 99)",
         "mode": "none",
         "name": "Job 17",
         "type": "scatter",
         "x": [
          "2024-07-01T08:01:18",
          "2024-07-01T08:01:19",
          "2024-07-01T08:01:19",
          "2024-07-01T08:01:18",
          "2024-07-01T08:01:18",
          "2024-07-01T08:02:26",
          "2024-07-01T08:02:50",
          "2024-07-01T08:02:50",
          "2024-07-01T08:02:26",
          "2024-07-01T08:02:26",
          "2024-07-01T08:01:42",
          "2024-07-01T08:01:47",
          "2024-07-01T08:01:47",
          "2024-07-01T08:01:42"
         ],
         "y": [
          5.8,
          5.8,
          6.2,
          6.2,
          null,
          3.8,
          3.8,
          4.2,
          4.2,
          null,
          1.8,
          1.8,
          2.2,
          2.2
         ]
        },
        {
         "legendgroup": "rgb(107, 174, 214)",
         "marker": {
          "color": "rgb(107, 174, 214)",
          "opacity": 0,
          "size": 1
         },
         "mode": "markers",
         "name": "",
         "showlegend": false,
         "text": [
          null,
          null,
          null,
          null
         ],
         "type": "scatter",
         "x": [
          "2024-07-01T08:01:08",
          "2024-07-01T08:01:11",
          "2024-07-01T08:01:24",
          "2024-07-01T08:01:28"
         ],
         "y": [
          6,
          6,
          2,
          2
         ]
        },
        {
         "legendgroup": "rgb(116, 196, 118)",
         "marker": {
          "color": "rgb(116, 196, 118)",
          "opacity": 0,
          "size": 1
         },
         "mode": "markers",
         "name": "",
         "showlegend": false,
         "text": [
          null,
          null,
          null,
          null,
          null,
          null
         ],
         "type": "scatter",
         "x": [
          "2024-07-01T08:01:14",
          "2024-07-01T08:01:17",
          "2024-07-01T08:02:28",
          "2024-07-01T08:02:52",
          "2024-07-01T08:01:37",
          "2024-07-01T08:01:42"
         ],
         "y": [
          6,
          6,
          5,
          5,
          2,
          2
         ]
        },
        {
         "legendgroup": "rgb(117, 107, 177)",
         "marker": {
          "color": "rgb(117, 107, 177)",
          "opacity": 0,
          "size": 1
         },
         "mode": "markers",
         "name": "",
         "showlegend": false,
         "text": [
          null,
          null,
          null,
          null,
          null,
          null
         ],
         "type": "scatter",
         "x": [
          "2024-07-01T08:00:11",
          "2024-07-01T08:00:12",
          "2024-07-01T08:00:55",
          "2024-07-01T08:01:19",
          "2024-07-01T08:00:50",
          "2024-07-01T08:00:55"
         ],
         "y": [
          6,
          6,
          5,
          5,
          2,
          2
         ]
        },
        {
         "legendgroup": "rgb(150, 150, 150)",
         "marker": {
          "color": "rgb(150, 150, 150)",
          "opacity": 0,
          "size": 1
         },
         "mode": "markers",
         "name": "",
         "showlegend": false,
         "text": [
          null,
          null,
          null,
          null,
          null,
          null
         ],
         "type": "scatter",
         "x": [
          "2024-07-01T08:01:25",
          "2024-07-01T08:01:29",
          "2024-07-01T08:01:38",
          "2024-07-01T08:02:02",
          "2024-07-01T08:01:29",
          "2024-07-01T08:01:32"
         ],
         "y": [
          6,
          6,
          4,
          4,
          0,
          0
         ]
        },
        {
         "legendgroup": "rgb(158, 154, 200)",
         "marker": {
          "color": "rgb(158, 154, 200)",
          "opacity": 0,
          "size": 1
         },
         "mode": "markers",
         "name": "",
         "showlegend": false,
         "text": [
          null,
          null,
          null,
          null,
          null,
          null
         ],
         "type": "scatter",
         "x": [
          "2024-07-01T08:00:07",
          "2024-07-01T08:00:08",
          "2024-07-01T08:00:53",
          "2024-07-01T08:01:17",
          "2024-07-01T08:00:08",
          "2024-07-01T08:00:13"
         ],
         "y": [
          6,
          6,
          3,
          3,
          2,
          2
         ]
        },
        {
         "legendgroup": "rgb(158, 202, 225)",
         "marker": {
          "color": "rgb(158, 202, 225)",
          "opacity": 0,
          "size": 1
         },
         "mode": "markers",
         "name": "",
         "showlegend": false,
         "text": [
          null,
          null,
          null,
          null
         ],
         "type": "scatter",
         "x": [
          "2024-07-01T08:01:11",
          "2024-07-01T08:01:14",
          "2024-07-01T08:01:28",
          "2024-07-01T08:01:32"
         ],
         "y": [
          6,
          6,
          2,
          2
         ]
        },
        {
         "legendgroup": "rgb(161, 217, 155)",
         "marker": {
          "color": "rgb(161, 217, 155)",
          "opacity": 0,
          "size": 1
         },
         "mode": "markers",
         "name": "",
         "showlegend": false,
         "text": [
          null,
          null,
          null,
          null,
          null,
          null
         ],
         "type": "scatter",
         "x": [
          "2024-07-01T08:00:04",
          "2024-07-01T08:00:08",
          "2024-07-01T08:01:19",
          "2024-07-01T08:01:20",
          "2024-07-01T08:01:51",
          "2024-07-01T08:01:55"
         ],
         "y": [
          7,
          7,
          6,
          6,
          2,
          2
         ]
        },
        {
         "legendgroup": "rgb(188, 189, 220)",
         "marker": {
          "color": "rgb(188, 189, 220)",
          "opacity": 0,
          "size": 1
         },
         "mode": "markers",
         "name": "",
         "showlegend": false,
         "text": [
          null,
          null,
          null,
          null
         ],
         "type": "scatter",
         "x": [
          "2024-07-01T08:01:32",
          "2024-07-01T08:01:35",
          "2024-07-01T08:01:59",
          "2024-07-01T08:02:03"
         ],
         "y": [
          6,
          6,
          2,
          2
         ]
        },
        {
         "legendgroup": "rgb(189, 189, 189)",
         "marker": {
          "color": "rgb(189, 189, 189)",
          "opacity": 0,
          "size": 1
         },
         "mode": "markers",
         "name": "",
         "showlegend": false,
         "text": [
          null,
          null,
          null,
          null,
          null,
          null
         ],
         "type": "scatter",
         "x": [
          "2024-07-01T08:00:15",
          "2024-07-01T08:00:18",
          "2024-07-01T08:00:23",
          "2024-07-01T08:00:47",
          "2024-07-01T08:00:18",
          "2024-07-01T08:00:23"
         ],
         "y": [
          6,
          6,
          4,
          4,
          2,
          2
         ]
        },
        {
         "legendgroup": "rgb(198, 219, 239)",
         "marker": {
          "color": "rgb(198, 219, 239)",
          "opacity": 0,
          "size": 1
         },
         "mode": "markers",
         "name": "",
         "showlegend": false,
         "text": [
          null,
          null,
          null,
          null
         ],
         "type": "scatter",
         "x": [
          "2024-07-01T08:00:08",
          "2024-07-01T08:00:11",
          "2024-07-01T08:00:23",
          "2024-07-01T08:00:27"
         ],
         "y": [
          6,
          6,
          2,
          2
         ]
        },
        {
         "legendgroup": "rgb(199, 233, 192)",
         "marker": {
          "color": "rgb(199, 233, 192)",
          "opacity": 0,
          "size": 1
         },
         "mode": "markers",
         "name": "",
         "showlegend": false,
         "text": [
          null,
          null,
          null,
          null,
          null,
          null
         ],
         "type": "scatter",
         "x": [
          "2024-07-01T08:00:00",
          "2024-07-01T08:00:04",
          "2024-07-01T08:01:24",
          "2024-07-01T08:01:25",
          "2024-07-01T08:01:55",
          "2024-07-01T08:01:59"
         ],
         "y": [
          7,
          7,
          6,
          6,
          2,
          2
         ]
        },
        {
         "legendgroup": "rgb(217, 217, 217)",
         "marker": {
          "color": "rgb(217, 217, 217)",
          "opacity": 0,
          "size": 1
         },
         "mode": "markers",
         "name": "",
         "showlegend": false,
         "text": [
          null,
          null,
          null,
          null,
          null,
          null
         ],
         "type": "scatter",
         "x": [
          "2024-07-01T08:01:35",
          "2024-07-01T08:01:39",
          "2024-07-01T08:03:01",
          "2024-07-01T08:03:25",
          "2024-07-01T08:01:39",
          "2024-07-01T08:01:42"
         ],
         "y": [
          6,
          6,
          3,
          3,
          0,
          0
         ]
        },
        {
         "legendgroup": "rgb(218, 218, 235)",
         "marker": {
          "color": "rgb(218, 218, 235)",
          "opacity": 0,
          "size": 1
         },
         "mode": "markers",
         "name": "",
         "showlegend": false,
         "text": [
          null,
          null,
          null,
          null,
          null,
          null
         ],
         "type": "scatter",
         "x": [
          "2024-07-01T08:01:17",
          "2024-07-01T08:01:18",
          "2024-07-01T08:02:37",
          "2024-07-01T08:03:01",
          "2024-07-01T08:02:03",
          "2024-07-01T08:02:08"
         ],
         "y": [
          6,
          6,
          3,
          3,
          2,
          2
         ]
        },
        {
         "legendgroup": "rgb(230, 85, 13)",
         "marker": {
          "color": "rgb(230, 85, 13)",
          "opacity": 0,
          "size": 1
         },
         "mode": "markers",
         "name": "",
         "showlegend": false,
         "text": [
          null,
          null,
          null,
          null
         ],
         "type": "scatter",
         "x": [
          "2024-07-01T08:00:00",
          "2024-07-01T08:00:03",
          "2024-07-01T08:01:47",
          "2024-07-01T08:01:51"
         ],
         "y": [
          6,
          6,
          2,
          2
         ]
        },
        {
         "legendgroup": "rgb(253, 141, 60)",
         "marker": {
          "color": "rgb(253, 141, 60)",
          "opacity": 0,
          "size": 1
         },
         "mode": "markers",
         "name": "",
         "showlegend": false,
         "text": [
          null,
          null,
          null,
          null,
          null,
          null,
          null,
          null
         ],
         "type": "scatter",
         "x": [
          "2024-07-01T08:00:12",
          "2024-07-01T08:00:15",
          "2024-07-01T08:02:07",
          "2024-07-01T08:02:28",
          "2024-07-01T08:00:47",
          "2024-07-01T08:00:50",
          "2024-07-01T08:00:23",
          "2024-07-01T08:00:26"
         ],
         "y": [
          6,
          6,
          5,
          5,
          4,
          4,
          1,
          1
         ]
        },
        {
         "legendgroup": "rgb(253, 174, 107)",
         "marker": {
          "color": "rgb(253, 174, 107)",
          "opacity": 0,
          "size": 1
         },
         "mode": "markers",
         "name": "",
         "showlegend": false,
         "text": [
          null,
          null,
          null,
          null,
          null,
          null
         ],
         "type": "scatter",
         "x": [
          "2024-07-01T08:01:02",
          "2024-07-01T08:01:05",
          "2024-07-01T08:01:17",
          "2024-07-01T08:01:41",
          "2024-07-01T08:01:05",
          "2024-07-01T08:01:08"
         ],
         "y": [
          6,
          6,
          3,
          3,
          0,
          0
         ]
        },
        {
         "legendgroup": "rgb(253, 208, 162)",
         "marker": {
          "color": "rgb(253, 208, 162)",
          "opacity": 0,
          "size": 1
         },
         "mode": "markers",
         "name": "",
         "showlegend": false,
         "text": [
          null,
          null,
          null,
          null,
          null,
          null,
          null,
          null
         ],
         "type": "scatter",
         "x": [
          "2024-07-01T08:00:18",
          "2024-07-01T08:00:20",
          "2024-07-01T08:01:05",
          "2024-07-01T08:01:08",
          "2024-07-01T08:01:19",
          "2024-07-01T08:02:07",
          "2024-07-01T08:01:08",
          "2024-07-01T08:01:14"
         ],
         "y": [
          6,
          6,
          6,
          6,
          5,
          5,
          0,
          0
         ]
        },
        {
         "legendgroup": "rgb(49, 130, 189)",
         "marker": {
          "color": "rgb(49, 130, 189)",
          "opacity": 0,
          "size": 1
         },
         "mode": "markers",
         "name": "",
         "showlegend": false,
         "text": [
          null,
          null,
          null,
          null,
          null,
          null,
          null,
          null,
          null,
          null,
          null,
          null
         ],
         "type": "scatter",
         "x": [
          "2024-07-01T08:01:20",
          "2024-07-01T08:01:24",
          "2024-07-01T08:00:03",
          "2024-07-01T08:00:07",
          "2024-07-01T08:02:02",
          "2024-07-01T08:02:26",
          "2024-07-01T08:00:29",
          "2024-07-01T08:00:53",
          "2024-07-01T08:01:24",
          "2024-07-01T08:01:27",
          "2024-07-01T08:00:26",
          "2024-07-01T08:00:29"
         ],
         "y": [
          6,
          6,
          6,
          6,
          4,
          4,
          3,
          3,
          1,
          1,
          1,
          1
         ]
        },
        {
         "legendgroup": "rgb(49, 163, 84)",
         "marker": {
          "color": "rgb(49, 163, 84)",
          "opacity": 0,
          "size": 1
         },
         "mode": "markers",
         "name": "",
         "showlegend": false,
         "text": [
          null,
          null,
          null,
          null,
          null,
          null,
          null,
          null
         ],
         "type": "scatter",
         "x": [
          "2024-07-01T08:01:29",
          "2024-07-01T08:01:32",
          "2024-07-01T08:01:41",
          "2024-07-01T08:01:50",
          "2024-07-01T08:02:22",
          "2024-07-01T08:02:37",
          "2024-07-01T08:01:32",
          "2024-07-01T08:01:37"
         ],
         "y": [
          6,
          6,
          3,
          3,
          3,
          3,
          2,
          2
         ]
        },
        {
         "legendgroup": "rgb(99, 99, 99)",
         "marker": {
          "color": "rgb(99, 99, 99)",
          "opacity": 0,
          "size": 1
         },
         "mode": "markers",
         "name": "",
         "showlegend": false,
         "text": [
          null,
          null,
          null,
          null,
          null,
          null
         ],
         "type": "scatter",
         "x": [
          "2024-07-01T08:01:18",
          "2024-07-01T08:01:19",
          "2024-07-01T08:02:26",
          "2024-07-01T08:02:50",
          "2024-07-01T08:01:42",
          "2024-07-01T08:01:47"
         ],
         "y": [
          6,
          6,
          4,
          4,
          2,
          2
         ]
        }
       ],
       "layout": {
        "annotations": [
         {
          "align": "center",
          "font": {
           "color": "black",
           "size": 10
          },
          "showarrow": false,
          "text": "X",
          "valign": "middle",
          "x": "2024-07-01T08:00:41",
          "y": 6
         },
         {
          "align": "center",
          "font": {
           "color": "black",
           "size": 10
          },
          "showarrow": false,
          "text": "X",
          "valign": "middle",
          "x": "2024-07-01T08:01:14",
          "y": 4
         },
         {
          "align": "center",
          "font": {
           "color": "black",
           "size": 10
          },
          "showarrow": false,
          "text": "X",
          "valign": "middle",
          "x": "2024-07-01T08:02:06",
          "y": 3
         },
         {
          "align": "center",
          "font": {
           "color": "black",
           "size": 10
          },
          "showarrow": false,
          "text": "X",
          "valign": "middle",
          "x": "2024-07-01T08:01:19.500000",
          "y": 2
         }
        ],
        "height": 600,
        "hovermode": "closest",
        "legend": {
         "traceorder": "normal"
        },
        "shapes": [
         {
          "fillcolor": "white",
          "line": {
           "color": "black"
          },
          "opacity": 1,
          "type": "rect",
          "x0": "2024-07-01T08:00:20",
          "x1": "2024-07-01T08:01:02",
          "y0": 5.82,
          "y1": 6.18
         },
         {
          "fillcolor": "white",
          "line": {
           "color": "black"
          },
          "opacity": 1,
          "type": "rect",
          "x0": "2024-07-01T08:00:50",
          "x1": "2024-07-01T08:01:38",
          "y0": 3.82,
          "y1": 4.18
         },
         {
          "fillcolor": "white",
          "line": {
           "color": "black"
          },
          "opacity": 1,
          "type": "rect",
          "x0": "2024-07-01T08:01:50",
          "x1": "2024-07-01T08:02:22",
          "y0": 2.82,
          "y1": 3.18
         },
         {
          "fillcolor": "white",
          "line": {
           "color": "black"
          },
          "opacity": 1,
          "type": "rect",
          "x0": "2024-07-01T08:01:15",
          "x1": "2024-07-01T08:01:24",
          "y0": 1.82,
          "y1": 2.18
         },
         {
          "line": {
           "color": "black",
           "dash": "dash"
          },
          "type": "line",
          "x0": "2024-07-01T08:01:50",
          "x1": "2024-07-01T08:01:50",
          "y0": -0.5,
          "y1": 7.5
         }
        ],
        "showlegend": true,
        "template": {
         "data": {
          "bar": [
           {
            "error_x": {
             "color": "#2a3f5f"
            },
            "error_y": {
             "color": "#2a3f5f"
            },
            "marker": {
             "line": {
              "color": "#E5ECF6",
              "width": 0.5
             },
             "pattern": {
              "fillmode": "overlay",
              "size": 10,
              "solidity": 0.2
             }
            },
            "type": "bar"
           }
          ],
          "barpolar": [
           {
            "marker": {
             "line": {
              "color": "#E5ECF6",
              "width": 0.5
             },
             "pattern": {
              "fillmode": "overlay",
              "size": 10,
              "solidity": 0.2
             }
            },
            "type": "barpolar"
           }
          ],
          "carpet": [
           {
            "aaxis": {
             "endlinecolor": "#2a3f5f",
             "gridcolor": "white",
             "linecolor": "white",
             "minorgridcolor": "white",
             "startlinecolor": "#2a3f5f"
            },
            "baxis": {
             "endlinecolor": "#2a3f5f",
             "gridcolor": "white",
             "linecolor": "white",
             "minorgridcolor": "white",
             "startlinecolor": "#2a3f5f"
            },
            "type": "carpet"
           }
          ],
          "choropleth": [
           {
            "colorbar": {
             "outlinewidth": 0,
             "ticks": ""
            },
            "type": "choropleth"
           }
          ],
          "contour": [
           {
            "colorbar": {
             "outlinewidth": 0,
             "ticks": ""
            },
            "colorscale": [
             [
              0,
              "#0d0887"
             ],
             [
              0.1111111111111111,
              "#46039f"
             ],
             [
              0.2222222222222222,
              "#7201a8"
             ],
             [
              0.3333333333333333,
              "#9c179e"
             ],
             [
              0.4444444444444444,
              "#bd3786"
             ],
             [
              0.5555555555555556,
              "#d8576b"
             ],
             [
              0.6666666666666666,
              "#ed7953"
             ],
             [
              0.7777777777777778,
              "#fb9f3a"
             ],
             [
              0.8888888888888888,
              "#fdca26"
             ],
             [
              1,
              "#f0f921"
             ]
            ],
            "type": "contour"
           }
          ],
          "contourcarpet": [
           {
            "colorbar": {
             "outlinewidth": 0,
             "ticks": ""
            },
            "type": "contourcarpet"
           }
          ],
          "heatmap": [
           {
            "colorbar": {
             "outlinewidth": 0,
             "ticks": ""
            },
            "colorscale": [
             [
              0,
              "#0d0887"
             ],
             [
              0.1111111111111111,
              "#46039f"
             ],
             [
              0.2222222222222222,
              "#7201a8"
             ],
             [
              0.3333333333333333,
              "#9c179e"
             ],
             [
              0.4444444444444444,
              "#bd3786"
             ],
             [
              0.5555555555555556,
              "#d8576b"
             ],
             [
              0.6666666666666666,
              "#ed7953"
             ],
             [
              0.7777777777777778,
              "#fb9f3a"
             ],
             [
              0.8888888888888888,
              "#fdca26"
             ],
             [
              1,
              "#f0f921"
             ]
            ],
            "type": "heatmap"
           }
          ],
          "heatmapgl": [
           {
            "colorbar": {
             "outlinewidth": 0,
             "ticks": ""
            },
            "colorscale": [
             [
              0,
              "#0d0887"
             ],
             [
              0.1111111111111111,
              "#46039f"
             ],
             [
              0.2222222222222222,
              "#7201a8"
             ],
             [
              0.3333333333333333,
              "#9c179e"
             ],
             [
              0.4444444444444444,
              "#bd3786"
             ],
             [
              0.5555555555555556,
              "#d8576b"
             ],
             [
              0.6666666666666666,
              "#ed7953"
             ],
             [
              0.7777777777777778,
              "#fb9f3a"
             ],
             [
              0.8888888888888888,
              "#fdca26"
             ],
             [
              1,
              "#f0f921"
             ]
            ],
            "type": "heatmapgl"
           }
          ],
          "histogram": [
           {
            "marker": {
             "pattern": {
              "fillmode": "overlay",
              "size": 10,
              "solidity": 0.2
             }
            },
            "type": "histogram"
           }
          ],
          "histogram2d": [
           {
            "colorbar": {
             "outlinewidth": 0,
             "ticks": ""
            },
            "colorscale": [
             [
              0,
              "#0d0887"
             ],
             [
              0.1111111111111111,
              "#46039f"
             ],
             [
              0.2222222222222222,
              "#7201a8"
             ],
             [
              0.3333333333333333,
              "#9c179e"
             ],
             [
              0.4444444444444444,
              "#bd3786"
             ],
             [
              0.5555555555555556,
              "#d8576b"
             ],
             [
              0.6666666666666666,
              "#ed7953"
             ],
             [
              0.7777777777777778,
              "#fb9f3a"
             ],
             [
              0.8888888888888888,
              "#fdca26"
             ],
             [
              1,
              "#f0f921"
             ]
            ],
            "type": "histogram2d"
           }
          ],
          "histogram2dcontour": [
           {
            "colorbar": {
             "outlinewidth": 0,
             "ticks": ""
            },
            "colorscale": [
             [
              0,
              "#0d0887"
             ],
             [
              0.1111111111111111,
              "#46039f"
             ],
             [
              0.2222222222222222,
              "#7201a8"
             ],
             [
              0.3333333333333333,
              "#9c179e"
             ],
             [
              0.4444444444444444,
              "#bd3786"
             ],
             [
              0.5555555555555556,
              "#d8576b"
             ],
             [
              0.6666666666666666,
              "#ed7953"
             ],
             [
              0.7777777777777778,
              "#fb9f3a"
             ],
             [
              0.8888888888888888,
              "#fdca26"
             ],
             [
              1,
              "#f0f921"
             ]
            ],
            "type": "histogram2dcontour"
           }
          ],
          "mesh3d": [
           {
            "colorbar": {
             "outlinewidth": 0,
             "ticks": ""
            },
            "type": "mesh3d"
           }
          ],
          "parcoords": [
           {
            "line": {
             "colorbar": {
              "outlinewidth": 0,
              "ticks": ""
             }
            },
            "type": "parcoords"
           }
          ],
          "pie": [
           {
            "automargin": true,
            "type": "pie"
           }
          ],
          "scatter": [
           {
            "fillpattern": {
             "fillmode": "overlay",
             "size": 10,
             "solidity": 0.2
            },
            "type": "scatter"
           }
          ],
          "scatter3d": [
           {
            "line": {
             "colorbar": {
              "outlinewidth": 0,
              "ticks": ""
             }
            },
            "marker": {
             "colorbar": {
              "outlinewidth": 0,
              "ticks": ""
             }
            },
            "type": "scatter3d"
           }
          ],
          "scattercarpet": [
           {
            "marker": {
             "colorbar": {
              "outlinewidth": 0,
              "ticks": ""
             }
            },
            "type": "scattercarpet"
           }
          ],
          "scattergeo": [
           {
            "marker": {
             "colorbar": {
              "outlinewidth": 0,
              "ticks": ""
             }
            },
            "type": "scattergeo"
           }
          ],
          "scattergl": [
           {
            "marker": {
             "colorbar": {
              "outlinewidth": 0,
              "ticks": ""
             }
            },
            "type": "scattergl"
           }
          ],
          "scattermapbox": [
           {
            "marker": {
             "colorbar": {
              "outlinewidth": 0,
              "ticks": ""
             }
            },
            "type": "scattermapbox"
           }
          ],
          "scatterpolar": [
           {
            "marker": {
             "colorbar": {
              "outlinewidth": 0,
              "ticks": ""
             }
            },
            "type": "scatterpolar"
           }
          ],
          "scatterpolargl": [
           {
            "marker": {
             "colorbar": {
              "outlinewidth": 0,
              "ticks": ""
             }
            },
            "type": "scatterpolargl"
           }
          ],
          "scatterternary": [
           {
            "marker": {
             "colorbar": {
              "outlinewidth": 0,
              "ticks": ""
             }
            },
            "type": "scatterternary"
           }
          ],
          "surface": [
           {
            "colorbar": {
             "outlinewidth": 0,
             "ticks": ""
            },
            "colorscale": [
             [
              0,
              "#0d0887"
             ],
             [
              0.1111111111111111,
              "#46039f"
             ],
             [
              0.2222222222222222,
              "#7201a8"
             ],
             [
              0.3333333333333333,
              "#9c179e"
             ],
             [
              0.4444444444444444,
              "#bd3786"
             ],
             [
              0.5555555555555556,
              "#d8576b"
             ],
             [
              0.6666666666666666,
              "#ed7953"
             ],
             [
              0.7777777777777778,
              "#fb9f3a"
             ],
             [
              0.8888888888888888,
              "#fdca26"
             ],
             [
              1,
              "#f0f921"
             ]
            ],
            "type": "surface"
           }
          ],
          "table": [
           {
            "cells": {
             "fill": {
              "color": "#EBF0F8"
             },
             "line": {
              "color": "white"
             }
            },
            "header": {
             "fill": {
              "color": "#C8D4E3"
             },
             "line": {
              "color": "white"
             }
            },
            "type": "table"
           }
          ]
         },
         "layout": {
          "annotationdefaults": {
           "arrowcolor": "#2a3f5f",
           "arrowhead": 0,
           "arrowwidth": 1
          },
          "autotypenumbers": "strict",
          "coloraxis": {
           "colorbar": {
            "outlinewidth": 0,
            "ticks": ""
           }
          },
          "colorscale": {
           "diverging": [
            [
             0,
             "#8e0152"
            ],
            [
             0.1,
             "#c51b7d"
            ],
            [
             0.2,
             "#de77ae"
            ],
            [
             0.3,
             "#f1b6da"
            ],
            [
             0.4,
             "#fde0ef"
            ],
            [
             0.5,
             "#f7f7f7"
            ],
            [
             0.6,
             "#e6f5d0"
            ],
            [
             0.7,
             "#b8e186"
            ],
            [
             0.8,
             "#7fbc41"
            ],
            [
             0.9,
             "#4d9221"
            ],
            [
             1,
             "#276419"
            ]
           ],
           "sequential": [
            [
             0,
             "#0d0887"
            ],
            [
             0.1111111111111111,
             "#46039f"
            ],
            [
             0.2222222222222222,
             "#7201a8"
            ],
            [
             0.3333333333333333,
             "#9c179e"
            ],
            [
             0.4444444444444444,
             "#bd3786"
            ],
            [
             0.5555555555555556,
             "#d8576b"
            ],
            [
             0.6666666666666666,
             "#ed7953"
            ],
            [
             0.7777777777777778,
             "#fb9f3a"
            ],
            [
             0.8888888888888888,
             "#fdca26"
            ],
            [
             1,
             "#f0f921"
            ]
           ],
           "sequentialminus": [
            [
             0,
             "#0d0887"
            ],
            [
             0.1111111111111111,
             "#46039f"
            ],
            [
             0.2222222222222222,
             "#7201a8"
            ],
            [
             0.3333333333333333,
             "#9c179e"
            ],
            [
             0.4444444444444444,
             "#bd3786"
            ],
            [
             0.5555555555555556,
             "#d8576b"
            ],
            [
             0.6666666666666666,
             "#ed7953"
            ],
            [
             0.7777777777777778,
             "#fb9f3a"
            ],
            [
             0.8888888888888888,
             "#fdca26"
            ],
            [
             1,
             "#f0f921"
            ]
           ]
          },
          "colorway": [
           "#636efa",
           "#EF553B",
           "#00cc96",
           "#ab63fa",
           "#FFA15A",
           "#19d3f3",
           "#FF6692",
           "#B6E880",
           "#FF97FF",
           "#FECB52"
          ],
          "font": {
           "color": "#2a3f5f"
          },
          "geo": {
           "bgcolor": "white",
           "lakecolor": "white",
           "landcolor": "#E5ECF6",
           "showlakes": true,
           "showland": true,
           "subunitcolor": "white"
          },
          "hoverlabel": {
           "align": "left"
          },
          "hovermode": "closest",
          "mapbox": {
           "style": "light"
          },
          "paper_bgcolor": "white",
          "plot_bgcolor": "#E5ECF6",
          "polar": {
           "angularaxis": {
            "gridcolor": "white",
            "linecolor": "white",
            "ticks": ""
           },
           "bgcolor": "#E5ECF6",
           "radialaxis": {
            "gridcolor": "white",
            "linecolor": "white",
            "ticks": ""
           }
          },
          "scene": {
           "xaxis": {
            "backgroundcolor": "#E5ECF6",
            "gridcolor": "white",
            "gridwidth": 2,
            "linecolor": "white",
            "showbackground": true,
            "ticks": "",
            "zerolinecolor": "white"
           },
           "yaxis": {
            "backgroundcolor": "#E5ECF6",
            "gridcolor": "white",
            "gridwidth": 2,
            "linecolor": "white",
            "showbackground": true,
            "ticks": "",
            "zerolinecolor": "white"
           },
           "zaxis": {
            "backgroundcolor": "#E5ECF6",
            "gridcolor": "white",
            "gridwidth": 2,
            "linecolor": "white",
            "showbackground": true,
            "ticks": "",
            "zerolinecolor": "white"
           }
          },
          "shapedefaults": {
           "line": {
            "color": "#2a3f5f"
           }
          },
          "ternary": {
           "aaxis": {
            "gridcolor": "white",
            "linecolor": "white",
            "ticks": ""
           },
           "baxis": {
            "gridcolor": "white",
            "linecolor": "white",
            "ticks": ""
           },
           "bgcolor": "#E5ECF6",
           "caxis": {
            "gridcolor": "white",
            "linecolor": "white",
            "ticks": ""
           }
          },
          "title": {
           "x": 0.05
          },
          "xaxis": {
           "automargin": true,
           "gridcolor": "white",
           "linecolor": "white",
           "ticks": "",
           "title": {
            "standoff": 15
           },
           "zerolinecolor": "white",
           "zerolinewidth": 2
          },
          "yaxis": {
           "automargin": true,
           "gridcolor": "white",
           "linecolor": "white",
           "ticks": "",
           "title": {
            "standoff": 15
           },
           "zerolinecolor": "white",
           "zerolinewidth": 2
          }
         }
        },
        "title": {
         "text": "Gantt Chart"
        },
        "xaxis": {
         "rangeselector": {
          "buttons": [
           {
            "count": 7,
            "label": "1w",
            "step": "day",
            "stepmode": "backward"
           },
           {
            "count": 1,
            "label": "1m",
            "step": "month",
            "stepmode": "backward"
           },
           {
            "count": 6,
            "label": "6m",
            "step": "month",
            "stepmode": "backward"
           },
           {
            "count": 1,
            "label": "YTD",
            "step": "year",
            "stepmode": "todate"
           },
           {
            "count": 1,
            "label": "1y",
            "step": "year",
            "stepmode": "backward"
           },
           {
            "step": "all"
           }
          ]
         },
         "showgrid": true,
         "tickformat": "%H:%M",
         "title": {
          "text": "Time"
         },
         "type": "date",
         "zeroline": false
        },
        "yaxis": {
         "autorange": false,
         "range": [
          -1,
          9
         ],
         "showgrid": true,
         "ticktext": [
          "Machine 7",
          "Machine 6",
          "Machine 5",
          "Machine 4",
          "Machine 3",
          "Machine 2",
          "Machine 1",
          "Machine 0"
         ],
         "tickvals": [
          0,
          1,
          2,
          3,
          4,
          5,
          6,
          7
         ],
         "title": {
          "text": "Machine"
         },
         "zeroline": false
        }
       }
      }
     },
     "metadata": {},
     "output_type": "display_data"
    }
   ],
   "source": [
    "# Running schedule\n",
    "completion = False\n",
    "# Random events\n",
    "JA_event, MB_event, events, t, trigger              = random_events(t, K, X_ijk, S_ij, C_ij, JA_event, MB_event, events,\\\n",
    "                                                                    maxtimeacceptnewjob, J, defectProb)\n",
    "while completion == False and trigger is not None:\n",
    "    if t < np.max(C_ij):\n",
    "        # Snapshot\n",
    "        S_k, S_j, J, I, JSet, OJSet, DSet, ODSet,    \\\n",
    "        OperationPool, n_ops_left_j, MC_ji, n_MC_ji, \\\n",
    "        d_j, n_j, p_ijk, h_ijk,                      \\\n",
    "        org_p_ijk, org_h_ijk, org_n_j,               \\\n",
    "        org_MC_ji, org_n_MC_ji,                      \\\n",
    "        Oij_on_machine, affected_Oij,                \\\n",
    "        MB_info, MB_record,  X_ijk, S_ij, C_ij,      \\\n",
    "        JA, percent_JA, MB, percent_MB, remaining_re,\\\n",
    "        CT_k, T_cur, Tard_job, C_j                   = snapshot(t, trigger, MC_ji, n_MC_ji,                         \\\n",
    "                                                                d_j, n_j, p_ijk, h_ijk, J, I, K, X_ijk, S_ij, C_ij, \\\n",
    "                                                                OperationPool, MB_info, MB_record, S_k,             \\\n",
    "                                                                org_J, org_p_ijk, org_h_ijk, org_n_j,               \\\n",
    "                                                                org_MC_ji, org_n_MC_ji, C_j                         )\n",
    "        # Store previous schedule\n",
    "        X_previous, S_previous, C_previous           = store_schedule(X_ijk, S_ij, C_ij)       \n",
    "        action_method \t\t\t\t\t\t         = action_space(J, I, K, p_ijk, h_ijk, d_j, n_j, \n",
    "                                                                    MC_ji, n_MC_ji, n_ops_left_j, OperationPool, S_k, S_j, \n",
    "                                                                    JSet, OJSet, Oij_on_machine, affected_Oij, \n",
    "                                                                    t, X_ijk, S_ij, C_ij, C_j, CT_k, T_cur, Tard_job, maxtime)\n",
    "        action_id                                    = 1\n",
    "        reschedule\t\t\t\t\t\t\t         = action_method[action_id]\n",
    "        GBest, X_ijk, S_ij, C_ij, C_j                = reschedule()\n",
    "        X_ijk, S_ij, C_ij                            = update_schedule(DSet, ODSet, X_ijk, S_ij, C_ij, X_previous, S_previous, C_previous)\n",
    "        print(action_name[action_id], GBest)\n",
    "\n",
    "        fig2 = plot(J, K, n_j, X_ijk, S_ij, C_ij, MB_record, t)\n",
    "        display(fig2)\n",
    "        \n",
    "\n",
    "        JA_event, MB_event, events, t, trigger      = random_events(t, K, X_ijk, S_ij, C_ij, JA_event, MB_event, events,\\\n",
    "                                                                    maxtimeacceptnewjob, J, defectProb)\n",
    "    else: completion = True\n"
   ]
  }
 ],
 "metadata": {
  "kernelspec": {
   "display_name": "dunnbebes",
   "language": "python",
   "name": "python3"
  },
  "language_info": {
   "codemirror_mode": {
    "name": "ipython",
    "version": 3
   },
   "file_extension": ".py",
   "mimetype": "text/x-python",
   "name": "python",
   "nbconvert_exporter": "python",
   "pygments_lexer": "ipython3",
   "version": "3.10.14"
  }
 },
 "nbformat": 4,
 "nbformat_minor": 2
}
