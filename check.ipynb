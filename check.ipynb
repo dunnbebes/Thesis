{
 "cells": [
  {
   "cell_type": "code",
   "execution_count": 44,
   "metadata": {},
   "outputs": [
    {
     "name": "stdout",
     "output_type": "stream",
     "text": [
      "assignments [((3, 2), 1), ((0, 0), 2), ((2, 1), 3)]\n",
      "Assign operation (3, 2) to machine 1 with cost 3\n",
      "Assign operation (0, 0) to machine 2 with cost 2\n",
      "Assign operation (2, 1) to machine 3 with cost 1\n",
      "Some operations could not be assigned to any machine under the given constraints:\n",
      "[(0, 1), (3, 4), (4, 3)]\n"
     ]
    }
   ],
   "source": [
    "import numpy as np\n",
    "from scipy.optimize import linear_sum_assignment\n",
    "\n",
    "# Define the input arrays\n",
    "p_ijk = np.random.randint(1, 10, (5, 5, 4))  # Replace with actual processing times\n",
    "h_ijk = np.random.randint(0, 2, (5, 5, 4))  # Replace with actual availability matrix\n",
    "available_time_k = np.random.randint(0, 6, 4)  # Replace with actual machine availability times\n",
    "ready_time = 3\n",
    "\n",
    "# ORSet to assign\n",
    "ORSet = [(0, 1), (3, 4), (3, 2), (0, 0), (4, 3), (2, 1)]\n",
    "\n",
    "# Initialize cost matrix with a high value (inf)\n",
    "num_operations = len(ORSet)\n",
    "num_machines = p_ijk.shape[2]\n",
    "cost_matrix = np.full((num_operations, num_machines), 999)\n",
    "\n",
    "# Populate the cost matrix based on constraints\n",
    "for op_idx, (i, j) in enumerate(ORSet):\n",
    "    for k in range(num_machines):\n",
    "        if h_ijk[i][j][k] == 1 and available_time_k[k] <= ready_time:\n",
    "            cost_matrix[op_idx, k] = p_ijk[i][j][k]\n",
    "\n",
    "# Solve the assignment problem using the Hungarian algorithm\n",
    "row_ind, col_ind = linear_sum_assignment(cost_matrix)\n",
    "\n",
    "# Output the assignment results\n",
    "assignments = [(ORSet[row], machine) for row, machine in zip(row_ind, col_ind) if cost_matrix[row, machine] < 999]\n",
    "# Print the results\n",
    "for (i, j), k in assignments:\n",
    "    print(f\"Assign operation ({i}, {j}) to machine {k} with cost {p_ijk[i][j][k]}\")\n",
    "\n",
    "assigned_operations = [ORSet[row] for row, machine in zip(row_ind, col_ind) if cost_matrix[row, machine] < 999]\n",
    "unassigned_operations = [op for op in ORSet if op not in assigned_operations]\n",
    "\n",
    "# Print unassigned ORSet\n",
    "if unassigned_operations:\n",
    "    print(\"Some ORSet could not be assigned to any machine under the given constraints:\")\n",
    "    print(unassigned_operations)\n",
    "else:\n",
    "    print(\"All ORSet have been successfully assigned.\")\n"
   ]
  },
  {
   "cell_type": "code",
   "execution_count": null,
   "metadata": {},
   "outputs": [],
   "source": [
    "import numpy as np\n",
    "from scipy.optimize import linear_sum_assignment\n",
    "\n",
    "# Define the input arrays\n",
    "p_ijk = np.random.randint(1, 10, (5, 5, 4))  # Replace with actual processing times\n",
    "h_ijk = np.random.randint(0, 2, (5, 5, 4))  # Replace with actual availability matrix\n",
    "available_time_k = np.random.randint(0, 6, 4)  # Replace with actual machine availability times\n",
    "ready_time = 3\n",
    "\n",
    "# Operations to assign\n",
    "ORSet = [(0, 1), (3, 4), (3, 2), (0, 0), (4, 3), (2, 1)]\n",
    "\n",
    "# Initialize cost matrix with a high value (inf)\n",
    "num_operations = len(ORSet)\n",
    "cost_matrix = np.full((num_operations, K), 999)\n",
    "\n",
    "# Populate the cost matrix based on constraints\n",
    "for op_idx, (i, j) in enumerate(ORSet):\n",
    "    for k in range(K):\n",
    "        if h_ijk[i][j][k] == 1 and available_time_k[k] <= ready_time:\n",
    "            cost_matrix[op_idx, k] = p_ijk[i][j][k]\n",
    "\n",
    "# Solve the assignment problem using the Hungarian algorithm\n",
    "row_ind, col_ind = linear_sum_assignment(cost_matrix)\n",
    "\n",
    "# Output the assignment results\n",
    "assignments = [(ORSet[row], machine) for row, machine in zip(row_ind, col_ind) if cost_matrix[row, machine] < 999]\n",
    "\n",
    "new_availabletime = []\n",
    "for (i, j), k in assignments:\n",
    "    X_ijk[i][j][k] = 1\n",
    "    S_ij[i][j] = ready_time\n",
    "    C_ij[i][j] = S_ij[i][j] + p_ijk[i][j][k]\n",
    "    available_time_k[k] = C_ij[i][j]\n",
    "    new_availabletime.append(available_time_k[k])\n",
    "\n",
    "assigned_operations = [ORSet[row] for row, machine in zip(row_ind, col_ind) if cost_matrix[row, machine] < 999]\n",
    "unassigned_operations = [op for op in ORSet if op not in assigned_operations]\n",
    "\n",
    "if unassigned_operations:\n",
    "    new_readytime = min(new_availabletime)\n",
    "    if new_readytime in ORDict.keys():\n",
    "        ORDict[new_readytime].extend(unassigned_operations)\n",
    "    else:\n",
    "        ORDict[new_readytime] = unassigned_operations\n",
    "\n",
    "\n"
   ]
  },
  {
   "cell_type": "code",
   "execution_count": 11,
   "metadata": {},
   "outputs": [
    {
     "name": "stdout",
     "output_type": "stream",
     "text": [
      "[-inf -inf -inf -inf]\n",
      "[  2. -inf -inf -inf]\n",
      "0\n"
     ]
    }
   ],
   "source": [
    "import numpy as np\n",
    "estimated_tardiness = np.full(4, -np.inf)\n",
    "\n",
    "print(estimated_tardiness)\n",
    "\n",
    "estimated_tardiness[0] = 2\n",
    "print(estimated_tardiness)\n",
    "\n",
    "print(np.argmax(estimated_tardiness))"
   ]
  }
 ],
 "metadata": {
  "kernelspec": {
   "display_name": "dunnbebes",
   "language": "python",
   "name": "python3"
  },
  "language_info": {
   "codemirror_mode": {
    "name": "ipython",
    "version": 3
   },
   "file_extension": ".py",
   "mimetype": "text/x-python",
   "name": "python",
   "nbconvert_exporter": "python",
   "pygments_lexer": "ipython3",
   "version": "3.10.14"
  }
 },
 "nbformat": 4,
 "nbformat_minor": 2
}
