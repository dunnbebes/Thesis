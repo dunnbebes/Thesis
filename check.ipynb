{
 "cells": [
  {
   "cell_type": "code",
   "execution_count": 3,
   "metadata": {},
   "outputs": [
    {
     "name": "stdout",
     "output_type": "stream",
     "text": [
      "[2 2 2 2]\n",
      "2\n"
     ]
    }
   ],
   "source": [
    "import numpy as np\n",
    "estimated_tardiness = np.full(4, 2)\n",
    "\n",
    "print(estimated_tardiness)\n",
    "\n",
    "A = estimated_tardiness[2]\n",
    "print(A)"
   ]
  },
  {
   "cell_type": "code",
   "execution_count": 1,
   "metadata": {},
   "outputs": [
    {
     "data": {
      "application/vnd.plotly.v1+json": {
       "config": {
        "plotlyServerURL": "https://plot.ly"
       },
       "data": [
        {
         "alignmentgroup": "True",
         "base": [
          68,
          72,
          75,
          1,
          9,
          12,
          9,
          25,
          83,
          98,
          86,
          102,
          79
         ],
         "hovertemplate": "Start=%{base}<br>End=%{x}<br>Machine Center=%{y}<br>Job ID=%{marker.color}<extra></extra>",
         "legendgroup": "",
         "marker": {
          "color": [
           0,
           0,
           0,
           1,
           1,
           1,
           2,
           2,
           3,
           3,
           4,
           4,
           5
          ],
          "coloraxis": "coloraxis",
          "pattern": {
           "shape": ""
          }
         },
         "name": "",
         "offsetgroup": "",
         "orientation": "h",
         "showlegend": false,
         "text": [
          0,
          0,
          0,
          1,
          1,
          1,
          2,
          2,
          3,
          3,
          4,
          4,
          5
         ],
         "textposition": "inside",
         "type": "bar",
         "x": [
          0.000004,
          0.000003,
          0.000024,
          0.000008,
          0.000003,
          0.000024,
          0.000003,
          0.000004,
          0.000003,
          0.000004,
          0.000003,
          0.000004,
          0.000003
         ],
         "xaxis": "x",
         "y": [
          "MC 1",
          "MC 6",
          "MC 4",
          "MC 1",
          "MC 7",
          "MC 4",
          "MC 1",
          "MC 5",
          "MC 5",
          "MC 1",
          "MC 1",
          "MC 5",
          "MC 1"
         ],
         "yaxis": "y"
        }
       ],
       "layout": {
        "barmode": "overlay",
        "coloraxis": {
         "colorbar": {
          "title": {
           "text": "Job ID"
          }
         },
         "colorscale": [
          [
           0,
           "#0d0887"
          ],
          [
           0.1111111111111111,
           "#46039f"
          ],
          [
           0.2222222222222222,
           "#7201a8"
          ],
          [
           0.3333333333333333,
           "#9c179e"
          ],
          [
           0.4444444444444444,
           "#bd3786"
          ],
          [
           0.5555555555555556,
           "#d8576b"
          ],
          [
           0.6666666666666666,
           "#ed7953"
          ],
          [
           0.7777777777777778,
           "#fb9f3a"
          ],
          [
           0.8888888888888888,
           "#fdca26"
          ],
          [
           1,
           "#f0f921"
          ]
         ]
        },
        "legend": {
         "tracegroupgap": 0
        },
        "template": {
         "data": {
          "bar": [
           {
            "error_x": {
             "color": "#2a3f5f"
            },
            "error_y": {
             "color": "#2a3f5f"
            },
            "marker": {
             "line": {
              "color": "#E5ECF6",
              "width": 0.5
             },
             "pattern": {
              "fillmode": "overlay",
              "size": 10,
              "solidity": 0.2
             }
            },
            "type": "bar"
           }
          ],
          "barpolar": [
           {
            "marker": {
             "line": {
              "color": "#E5ECF6",
              "width": 0.5
             },
             "pattern": {
              "fillmode": "overlay",
              "size": 10,
              "solidity": 0.2
             }
            },
            "type": "barpolar"
           }
          ],
          "carpet": [
           {
            "aaxis": {
             "endlinecolor": "#2a3f5f",
             "gridcolor": "white",
             "linecolor": "white",
             "minorgridcolor": "white",
             "startlinecolor": "#2a3f5f"
            },
            "baxis": {
             "endlinecolor": "#2a3f5f",
             "gridcolor": "white",
             "linecolor": "white",
             "minorgridcolor": "white",
             "startlinecolor": "#2a3f5f"
            },
            "type": "carpet"
           }
          ],
          "choropleth": [
           {
            "colorbar": {
             "outlinewidth": 0,
             "ticks": ""
            },
            "type": "choropleth"
           }
          ],
          "contour": [
           {
            "colorbar": {
             "outlinewidth": 0,
             "ticks": ""
            },
            "colorscale": [
             [
              0,
              "#0d0887"
             ],
             [
              0.1111111111111111,
              "#46039f"
             ],
             [
              0.2222222222222222,
              "#7201a8"
             ],
             [
              0.3333333333333333,
              "#9c179e"
             ],
             [
              0.4444444444444444,
              "#bd3786"
             ],
             [
              0.5555555555555556,
              "#d8576b"
             ],
             [
              0.6666666666666666,
              "#ed7953"
             ],
             [
              0.7777777777777778,
              "#fb9f3a"
             ],
             [
              0.8888888888888888,
              "#fdca26"
             ],
             [
              1,
              "#f0f921"
             ]
            ],
            "type": "contour"
           }
          ],
          "contourcarpet": [
           {
            "colorbar": {
             "outlinewidth": 0,
             "ticks": ""
            },
            "type": "contourcarpet"
           }
          ],
          "heatmap": [
           {
            "colorbar": {
             "outlinewidth": 0,
             "ticks": ""
            },
            "colorscale": [
             [
              0,
              "#0d0887"
             ],
             [
              0.1111111111111111,
              "#46039f"
             ],
             [
              0.2222222222222222,
              "#7201a8"
             ],
             [
              0.3333333333333333,
              "#9c179e"
             ],
             [
              0.4444444444444444,
              "#bd3786"
             ],
             [
              0.5555555555555556,
              "#d8576b"
             ],
             [
              0.6666666666666666,
              "#ed7953"
             ],
             [
              0.7777777777777778,
              "#fb9f3a"
             ],
             [
              0.8888888888888888,
              "#fdca26"
             ],
             [
              1,
              "#f0f921"
             ]
            ],
            "type": "heatmap"
           }
          ],
          "heatmapgl": [
           {
            "colorbar": {
             "outlinewidth": 0,
             "ticks": ""
            },
            "colorscale": [
             [
              0,
              "#0d0887"
             ],
             [
              0.1111111111111111,
              "#46039f"
             ],
             [
              0.2222222222222222,
              "#7201a8"
             ],
             [
              0.3333333333333333,
              "#9c179e"
             ],
             [
              0.4444444444444444,
              "#bd3786"
             ],
             [
              0.5555555555555556,
              "#d8576b"
             ],
             [
              0.6666666666666666,
              "#ed7953"
             ],
             [
              0.7777777777777778,
              "#fb9f3a"
             ],
             [
              0.8888888888888888,
              "#fdca26"
             ],
             [
              1,
              "#f0f921"
             ]
            ],
            "type": "heatmapgl"
           }
          ],
          "histogram": [
           {
            "marker": {
             "pattern": {
              "fillmode": "overlay",
              "size": 10,
              "solidity": 0.2
             }
            },
            "type": "histogram"
           }
          ],
          "histogram2d": [
           {
            "colorbar": {
             "outlinewidth": 0,
             "ticks": ""
            },
            "colorscale": [
             [
              0,
              "#0d0887"
             ],
             [
              0.1111111111111111,
              "#46039f"
             ],
             [
              0.2222222222222222,
              "#7201a8"
             ],
             [
              0.3333333333333333,
              "#9c179e"
             ],
             [
              0.4444444444444444,
              "#bd3786"
             ],
             [
              0.5555555555555556,
              "#d8576b"
             ],
             [
              0.6666666666666666,
              "#ed7953"
             ],
             [
              0.7777777777777778,
              "#fb9f3a"
             ],
             [
              0.8888888888888888,
              "#fdca26"
             ],
             [
              1,
              "#f0f921"
             ]
            ],
            "type": "histogram2d"
           }
          ],
          "histogram2dcontour": [
           {
            "colorbar": {
             "outlinewidth": 0,
             "ticks": ""
            },
            "colorscale": [
             [
              0,
              "#0d0887"
             ],
             [
              0.1111111111111111,
              "#46039f"
             ],
             [
              0.2222222222222222,
              "#7201a8"
             ],
             [
              0.3333333333333333,
              "#9c179e"
             ],
             [
              0.4444444444444444,
              "#bd3786"
             ],
             [
              0.5555555555555556,
              "#d8576b"
             ],
             [
              0.6666666666666666,
              "#ed7953"
             ],
             [
              0.7777777777777778,
              "#fb9f3a"
             ],
             [
              0.8888888888888888,
              "#fdca26"
             ],
             [
              1,
              "#f0f921"
             ]
            ],
            "type": "histogram2dcontour"
           }
          ],
          "mesh3d": [
           {
            "colorbar": {
             "outlinewidth": 0,
             "ticks": ""
            },
            "type": "mesh3d"
           }
          ],
          "parcoords": [
           {
            "line": {
             "colorbar": {
              "outlinewidth": 0,
              "ticks": ""
             }
            },
            "type": "parcoords"
           }
          ],
          "pie": [
           {
            "automargin": true,
            "type": "pie"
           }
          ],
          "scatter": [
           {
            "fillpattern": {
             "fillmode": "overlay",
             "size": 10,
             "solidity": 0.2
            },
            "type": "scatter"
           }
          ],
          "scatter3d": [
           {
            "line": {
             "colorbar": {
              "outlinewidth": 0,
              "ticks": ""
             }
            },
            "marker": {
             "colorbar": {
              "outlinewidth": 0,
              "ticks": ""
             }
            },
            "type": "scatter3d"
           }
          ],
          "scattercarpet": [
           {
            "marker": {
             "colorbar": {
              "outlinewidth": 0,
              "ticks": ""
             }
            },
            "type": "scattercarpet"
           }
          ],
          "scattergeo": [
           {
            "marker": {
             "colorbar": {
              "outlinewidth": 0,
              "ticks": ""
             }
            },
            "type": "scattergeo"
           }
          ],
          "scattergl": [
           {
            "marker": {
             "colorbar": {
              "outlinewidth": 0,
              "ticks": ""
             }
            },
            "type": "scattergl"
           }
          ],
          "scattermapbox": [
           {
            "marker": {
             "colorbar": {
              "outlinewidth": 0,
              "ticks": ""
             }
            },
            "type": "scattermapbox"
           }
          ],
          "scatterpolar": [
           {
            "marker": {
             "colorbar": {
              "outlinewidth": 0,
              "ticks": ""
             }
            },
            "type": "scatterpolar"
           }
          ],
          "scatterpolargl": [
           {
            "marker": {
             "colorbar": {
              "outlinewidth": 0,
              "ticks": ""
             }
            },
            "type": "scatterpolargl"
           }
          ],
          "scatterternary": [
           {
            "marker": {
             "colorbar": {
              "outlinewidth": 0,
              "ticks": ""
             }
            },
            "type": "scatterternary"
           }
          ],
          "surface": [
           {
            "colorbar": {
             "outlinewidth": 0,
             "ticks": ""
            },
            "colorscale": [
             [
              0,
              "#0d0887"
             ],
             [
              0.1111111111111111,
              "#46039f"
             ],
             [
              0.2222222222222222,
              "#7201a8"
             ],
             [
              0.3333333333333333,
              "#9c179e"
             ],
             [
              0.4444444444444444,
              "#bd3786"
             ],
             [
              0.5555555555555556,
              "#d8576b"
             ],
             [
              0.6666666666666666,
              "#ed7953"
             ],
             [
              0.7777777777777778,
              "#fb9f3a"
             ],
             [
              0.8888888888888888,
              "#fdca26"
             ],
             [
              1,
              "#f0f921"
             ]
            ],
            "type": "surface"
           }
          ],
          "table": [
           {
            "cells": {
             "fill": {
              "color": "#EBF0F8"
             },
             "line": {
              "color": "white"
             }
            },
            "header": {
             "fill": {
              "color": "#C8D4E3"
             },
             "line": {
              "color": "white"
             }
            },
            "type": "table"
           }
          ]
         },
         "layout": {
          "annotationdefaults": {
           "arrowcolor": "#2a3f5f",
           "arrowhead": 0,
           "arrowwidth": 1
          },
          "autotypenumbers": "strict",
          "coloraxis": {
           "colorbar": {
            "outlinewidth": 0,
            "ticks": ""
           }
          },
          "colorscale": {
           "diverging": [
            [
             0,
             "#8e0152"
            ],
            [
             0.1,
             "#c51b7d"
            ],
            [
             0.2,
             "#de77ae"
            ],
            [
             0.3,
             "#f1b6da"
            ],
            [
             0.4,
             "#fde0ef"
            ],
            [
             0.5,
             "#f7f7f7"
            ],
            [
             0.6,
             "#e6f5d0"
            ],
            [
             0.7,
             "#b8e186"
            ],
            [
             0.8,
             "#7fbc41"
            ],
            [
             0.9,
             "#4d9221"
            ],
            [
             1,
             "#276419"
            ]
           ],
           "sequential": [
            [
             0,
             "#0d0887"
            ],
            [
             0.1111111111111111,
             "#46039f"
            ],
            [
             0.2222222222222222,
             "#7201a8"
            ],
            [
             0.3333333333333333,
             "#9c179e"
            ],
            [
             0.4444444444444444,
             "#bd3786"
            ],
            [
             0.5555555555555556,
             "#d8576b"
            ],
            [
             0.6666666666666666,
             "#ed7953"
            ],
            [
             0.7777777777777778,
             "#fb9f3a"
            ],
            [
             0.8888888888888888,
             "#fdca26"
            ],
            [
             1,
             "#f0f921"
            ]
           ],
           "sequentialminus": [
            [
             0,
             "#0d0887"
            ],
            [
             0.1111111111111111,
             "#46039f"
            ],
            [
             0.2222222222222222,
             "#7201a8"
            ],
            [
             0.3333333333333333,
             "#9c179e"
            ],
            [
             0.4444444444444444,
             "#bd3786"
            ],
            [
             0.5555555555555556,
             "#d8576b"
            ],
            [
             0.6666666666666666,
             "#ed7953"
            ],
            [
             0.7777777777777778,
             "#fb9f3a"
            ],
            [
             0.8888888888888888,
             "#fdca26"
            ],
            [
             1,
             "#f0f921"
            ]
           ]
          },
          "colorway": [
           "#636efa",
           "#EF553B",
           "#00cc96",
           "#ab63fa",
           "#FFA15A",
           "#19d3f3",
           "#FF6692",
           "#B6E880",
           "#FF97FF",
           "#FECB52"
          ],
          "font": {
           "color": "#2a3f5f"
          },
          "geo": {
           "bgcolor": "white",
           "lakecolor": "white",
           "landcolor": "#E5ECF6",
           "showlakes": true,
           "showland": true,
           "subunitcolor": "white"
          },
          "hoverlabel": {
           "align": "left"
          },
          "hovermode": "closest",
          "mapbox": {
           "style": "light"
          },
          "paper_bgcolor": "white",
          "plot_bgcolor": "#E5ECF6",
          "polar": {
           "angularaxis": {
            "gridcolor": "white",
            "linecolor": "white",
            "ticks": ""
           },
           "bgcolor": "#E5ECF6",
           "radialaxis": {
            "gridcolor": "white",
            "linecolor": "white",
            "ticks": ""
           }
          },
          "scene": {
           "xaxis": {
            "backgroundcolor": "#E5ECF6",
            "gridcolor": "white",
            "gridwidth": 2,
            "linecolor": "white",
            "showbackground": true,
            "ticks": "",
            "zerolinecolor": "white"
           },
           "yaxis": {
            "backgroundcolor": "#E5ECF6",
            "gridcolor": "white",
            "gridwidth": 2,
            "linecolor": "white",
            "showbackground": true,
            "ticks": "",
            "zerolinecolor": "white"
           },
           "zaxis": {
            "backgroundcolor": "#E5ECF6",
            "gridcolor": "white",
            "gridwidth": 2,
            "linecolor": "white",
            "showbackground": true,
            "ticks": "",
            "zerolinecolor": "white"
           }
          },
          "shapedefaults": {
           "line": {
            "color": "#2a3f5f"
           }
          },
          "ternary": {
           "aaxis": {
            "gridcolor": "white",
            "linecolor": "white",
            "ticks": ""
           },
           "baxis": {
            "gridcolor": "white",
            "linecolor": "white",
            "ticks": ""
           },
           "bgcolor": "#E5ECF6",
           "caxis": {
            "gridcolor": "white",
            "linecolor": "white",
            "ticks": ""
           }
          },
          "title": {
           "x": 0.05
          },
          "xaxis": {
           "automargin": true,
           "gridcolor": "white",
           "linecolor": "white",
           "ticks": "",
           "title": {
            "standoff": 15
           },
           "zerolinecolor": "white",
           "zerolinewidth": 2
          },
          "yaxis": {
           "automargin": true,
           "gridcolor": "white",
           "linecolor": "white",
           "ticks": "",
           "title": {
            "standoff": 15
           },
           "zerolinecolor": "white",
           "zerolinewidth": 2
          }
         }
        },
        "title": {
         "text": "Machine Center Utilization Gantt Chart"
        },
        "xaxis": {
         "anchor": "y",
         "domain": [
          0,
          1
         ],
         "type": "date"
        },
        "yaxis": {
         "anchor": "x",
         "categoryorder": "total ascending",
         "domain": [
          0,
          1
         ],
         "title": {
          "text": "Machine Center"
         }
        }
       }
      }
     },
     "metadata": {},
     "output_type": "display_data"
    }
   ],
   "source": [
    "import pandas as pd\n",
    "import plotly.express as px\n",
    "\n",
    "# Sample DataFrame\n",
    "data = {\n",
    "    'Job': [0, 0, 0, 1, 1, 1, 2, 2, 3, 3, 4, 4, 5],\n",
    "    'Ope': [0, 1, 2, 0, 1, 2, 0, 1, 0, 1, 0, 1, 0],\n",
    "    'MC': [1, 6, 4, 1, 7, 4, 1, 5, 5, 1, 1, 5, 1],\n",
    "    'Start': [68, 72, 75, 1, 9, 12, 9, 25, 83, 98, 86, 102, 79],\n",
    "    'End': [72, 75, 99, 9, 12, 36, 12, 29, 86, 102, 89, 106, 82]\n",
    "}\n",
    "\n",
    "df = pd.DataFrame(data)\n",
    "\n",
    "# Plot using Plotly Express\n",
    "fig = px.timeline(df, x_start='Start', x_end='End', y='MC', color='Job', text='Job',\n",
    "                  labels={'MC': 'Machine Center', 'Job': 'Job ID'},\n",
    "                  title='Machine Center Utilization Gantt Chart')\n",
    "fig.update_yaxes(categoryorder='total ascending')\n",
    "fig.update_traces(textposition='inside')\n",
    "fig.show()\n"
   ]
  },
  {
   "cell_type": "code",
   "execution_count": 1,
   "metadata": {},
   "outputs": [
    {
     "name": "stdout",
     "output_type": "stream",
     "text": [
      "CUDA is not available. Using CPU.\n"
     ]
    }
   ],
   "source": [
    "import numpy as np\n",
    "import time\n",
    "import random\n",
    "import copy\n",
    "from env_action.metaheu import decoding\n",
    "\n",
    "def get_cumulative_probability(k, operation, job, n_MC_ji, MC_ji):\n",
    "    # Identify the index of k in MC_ji\n",
    "    index_k = MC_ji[job][operation].index(k)\n",
    "    \n",
    "    # Determine the segment range\n",
    "    segment_size = 1 / n_MC_ji[job][operation]\n",
    "    lower_bound = index_k * segment_size\n",
    "    upper_bound = (index_k + 1) * segment_size\n",
    "    \n",
    "    # Generate a random number within the segment range\n",
    "    random_number = random.uniform(lower_bound, upper_bound)\n",
    "    \n",
    "    return random_number\n",
    "\n",
    "def generate_neighborhood(solution, neighborhood_size, chromosome_len):\n",
    "    current_OA = solution[0]\n",
    "    current_MS = solution[1]\n",
    "    neighborhood = set()\n",
    "    \n",
    "    while len(neighborhood) < neighborhood_size:\n",
    "        # Randomly choose two distinct positions for insertion\n",
    "        i, j        = random.sample(range(chromosome_len), 2)\n",
    "        neighbor_OA = copy.deepcopy(current_OA)\n",
    "        element_OA  = neighbor_OA.pop(i)\n",
    "        neighbor_OA.insert(j, element_OA)\n",
    "\n",
    "        i, j        = random.sample(range(chromosome_len), 2)\n",
    "        neighbor_MS = current_MS[:]\n",
    "        element_MS  = neighbor_MS.pop(i)\n",
    "        neighbor_MS.insert(j, element_MS)\n",
    "\n",
    "        neighbor = (neighbor_OA, neighbor_MS)\n",
    "\n",
    "        neighborhood.add(tuple(neighbor))\n",
    "        \n",
    "        # Randomly choose two adjacent positions for swapping\n",
    "        k = random.randint(0, chromosome_len - 2)\n",
    "        neighbor_OA = current_OA[:]\n",
    "        neighbor_OA[k], neighbor_OA[k + 1] = neighbor_OA[k + 1], neighbor_OA[k]\n",
    "\n",
    "        k = random.randint(0, chromosome_len - 2)\n",
    "        neighbor_MS = current_MS[:]\n",
    "        neighbor_MS[k], neighbor_MS[k + 1] = neighbor_MS[k + 1], neighbor_MS[k]\n",
    "\n",
    "        neighbor = (neighbor_OA, neighbor_MS)\n",
    "        neighborhood.add(tuple(neighbor))\n",
    "        \n",
    "        # Crossover\n",
    "        crossover_point = random.randint(1, chromosome_len - 1)\n",
    "        neighbor_OA = current_OA[crossover_point:] + current_OA[:crossover_point]\n",
    "\n",
    "        crossover_point = random.randint(1, chromosome_len - 1)\n",
    "        neighbor_MS = current_MS[crossover_point:] + current_MS[:crossover_point]\n",
    "\n",
    "        neighbor = (neighbor_OA, neighbor_MS)\n",
    "        neighborhood.add(tuple(neighbor))\n",
    "    \n",
    "    return [list(neighbor) for neighbor in neighborhood]\n",
    "\n",
    "\n",
    "def TabuSearch (S_k, S_j, JSet, J, I, K, \n",
    "                p_ijk, h_ijk, d_j, n_j, n_ops_left_j, \n",
    "                MC_ji, n_MC_ji, OperationPool, \n",
    "                X_ijk, S_ij, C_ij, t, maxtime):\n",
    "    \n",
    "    max_Generation      = 500\n",
    "    max_No_improve      = 10\n",
    "    start_time          = time.time()\n",
    "    GBest               = float('inf')\n",
    "    tabu_list_size      = 10\n",
    "    neighborhood_size   = 5\n",
    "\n",
    "    \"\"\"Initialize\"\"\"\n",
    "    # Take the machine for each operation\n",
    "    X_ij = np.argmax(X_ijk, axis=2)\n",
    "    # Flat\n",
    "    S_ij[S_ij == -999] = np.inf\n",
    "    S_ij_flat = S_ij.flatten()\n",
    "    X_ij_flat = X_ij.flatten()\n",
    "\n",
    "    print(S_ij_flat)\n",
    "\n",
    "    indices = np.indices((I, J))\n",
    "    ope = np.stack(indices, axis=-1)\n",
    "\n",
    "    # Sort\n",
    "    sorted_indices = np.argsort(S_ij_flat)\n",
    "\n",
    "    sorted_S_ij = S_ij_flat[sorted_indices]\n",
    "    sorted_X_ij = X_ij_flat[sorted_indices]\n",
    "    sorted_ope  = ope [sorted_indices]\n",
    "\n",
    "    running_mask = sorted_S_ij < t\n",
    "    sorted_S_ij = sorted_S_ij[running_mask]\n",
    "    sorted_X_ij = sorted_X_ij[running_mask]\n",
    "    sorted_ope  = sorted_ope [running_mask]\n",
    "\n",
    "    OA             = np.array([ope[1] for ope in sorted_ope])\n",
    "    chromosome_len = len(OA)\n",
    "    MS             = np.zeros((chromosome_len))\n",
    "    for ope in len(OA):\n",
    "        i, j = sorted_ope[ope]\n",
    "        k    = sorted_X_ij[ope]\n",
    "        MS[ope] = get_cumulative_probability[k, i, j, n_MC_ji, MC_ji]\n",
    "\n",
    "    if JA:\n",
    "        for new_job in JA:\n",
    "            chromosome_len += n_j[newjob]\n",
    "            if urgent:\n",
    "                \n",
    "            else:\n",
    "                \n",
    "\n",
    "    current_solution    = (OA, MS)\n",
    "    GSol                = copy.deepcopy(current_solution)\n",
    "    GBest, X, S, C, Cj  = decoding(S_k, S_j, GSol[0], GSol[1], chromosome_len, \n",
    "                                   n_MC_ji, MC_ji, I, J, K, JSet, p_ijk, d_j, n_j, n_ops_left_j)\n",
    "\n",
    "    tabu_list    = []\n",
    "    generation   = 0\n",
    "    no_improve   = 0\n",
    "    elapsed_time = 0\n",
    "    while generation < max_Generation and no_improve < max_No_improve and elapsed_time < maxtime:\n",
    "        # Generate the neighborhood of the current solution\n",
    "        neighborhood = generate_neighborhood(current_solution, neighborhood_size, chromosome_len)\n",
    "        \n",
    "        # Find the best non-tabu solution in the neighborhood\n",
    "        best_neighbor = None\n",
    "        best_neighbor_objective = float('inf')\n",
    "        for neighbor in neighborhood:\n",
    "            if neighbor not in tabu_list:\n",
    "                neighbor_objective, X, S, C, Cj = decoding(S_k, S_j, neighbor[0], neighbor[1], chromosome_len, \n",
    "                                                           n_MC_ji, MC_ji, I, J, K, JSet, p_ijk, d_j, n_j, n_ops_left_j)\n",
    "                if neighbor_objective < best_neighbor_objective:\n",
    "                    best_neighbor               = copy.deepcopy(neighbor)\n",
    "                    best_neighbor_objective     = copy.deepcopy(neighbor_objective)\n",
    "        \n",
    "        # Update the current solution and the best solution\n",
    "        current_solution = best_neighbor\n",
    "        if best_neighbor_objective < GBest:\n",
    "            GSol  = copy.deepcopy(best_neighbor)\n",
    "            GBest = copy.deepcopy(best_neighbor_objective)\n",
    "            no_improve = 0\n",
    "        else:\n",
    "            no_improve += 1\n",
    "        \n",
    "        # Add the current solution to the tabu list\n",
    "        tabu_list.append(current_solution)\n",
    "        if len(tabu_list) > tabu_list_size:\n",
    "            tabu_list.pop(0)\n",
    "\n",
    "        generation += 1\n",
    "        elapsed_time = time.time() - start_time\n",
    "        \n",
    "\n",
    "    GBest, X_ijk, S_ij, C_ij, C_j = decoding(S_k, S_j, GSol[0], GSol[1], chromosome_len, \n",
    "                                             n_MC_ji, MC_ji, I, J, K, JSet, p_ijk, d_j, n_j, n_ops_left_j)\n",
    "\n",
    "    return GBest, X_ijk, S_ij, C_ij, C_j\n",
    "\n",
    "\n",
    "\n",
    "\n",
    "\n",
    "\n",
    "\n"
   ]
  },
  {
   "cell_type": "code",
   "execution_count": 14,
   "metadata": {},
   "outputs": [
    {
     "name": "stdout",
     "output_type": "stream",
     "text": [
      "----------- [8, 9, 10, 1, 2, 3, 4, 5, 6, 7]\n",
      "----------- [8, 9, 10, 1, 2, 3, 4, 5, 6, 7]\n",
      "[8, 9, 10, 1, 2, 3, 4, 5, 6, 7]\n",
      "[1, 2, 4, 3, 5, 6, 7, 8, 9, 10]\n",
      "[1, 2, 3, 4, 6, 5, 7, 8, 9, 10]\n",
      "[2, 3, 1, 4, 5, 6, 7, 8, 9, 10]\n",
      "[1, 2, 4, 5, 6, 7, 8, 9, 10, 3]\n"
     ]
    }
   ],
   "source": [
    "import random\n",
    "\n",
    "def generate_neighborhood(solution, neighborhood_size):\n",
    "    neighborhood = set()\n",
    "    \n",
    "    while len(neighborhood) < neighborhood_size:\n",
    "        # Randomly choose two distinct positions for insertion\n",
    "        i, j = random.sample(range(len(solution)), 2)\n",
    "        neighbor = solution[:]\n",
    "        element = neighbor.pop(i)\n",
    "        neighbor.insert(j, element)\n",
    "        neighborhood.add(tuple(neighbor))\n",
    "        \n",
    "        # Randomly choose two adjacent positions for swapping\n",
    "        k = random.randint(0, len(solution) - 2)\n",
    "        neighbor = solution[:]\n",
    "        neighbor[k], neighbor[k + 1] = neighbor[k + 1], neighbor[k]\n",
    "        neighborhood.add(tuple(neighbor))\n",
    "        \n",
    "        # Randomly shift the solution\n",
    "        shift_amount = random.randint(1, len(solution) - 1)\n",
    "        neighbor = solution[shift_amount:] + solution[:shift_amount]\n",
    "        print(\"-----------\", neighbor)\n",
    "        neighborhood.add(tuple(neighbor))\n",
    "    \n",
    "    return [list(neighbor) for neighbor in neighborhood]\n",
    "\n",
    "# Example usage\n",
    "current_solution = [1, 2, 3, 4, 5, 6, 7, 8, 9 , 10]\n",
    "neighborhood = generate_neighborhood(current_solution, 5)\n",
    "for neighbor in neighborhood:\n",
    "    print(neighbor)\n"
   ]
  }
 ],
 "metadata": {
  "kernelspec": {
   "display_name": "dunnbebes",
   "language": "python",
   "name": "python3"
  },
  "language_info": {
   "codemirror_mode": {
    "name": "ipython",
    "version": 3
   },
   "file_extension": ".py",
   "mimetype": "text/x-python",
   "name": "python",
   "nbconvert_exporter": "python",
   "pygments_lexer": "ipython3",
   "version": "3.10.14"
  }
 },
 "nbformat": 4,
 "nbformat_minor": 2
}
