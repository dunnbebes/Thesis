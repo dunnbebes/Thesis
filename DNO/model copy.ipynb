{
 "cells": [
  {
   "cell_type": "markdown",
   "metadata": {},
   "source": [
    "## Preparation\n",
    "### Import"
   ]
  },
  {
   "cell_type": "code",
   "execution_count": 10,
   "metadata": {},
   "outputs": [
    {
     "name": "stdout",
     "output_type": "stream",
     "text": [
      "Licensed to 60-day trial license.\n"
     ]
    }
   ],
   "source": [
    "import numpy as np\n",
    "import pandas as pd\n",
    "# %pip install -q amplpy gspread --upgrade\n",
    "from amplpy import AMPL, ampl_notebook\n",
    "\n",
    "ampl = ampl_notebook(\n",
    "    modules=[\"coin\",\"highs\"],  # modules to install\n",
    "    license_uuid=\"f86e025b-7515-40af-9caf-d3bdff5ec30d\",  # license to use\n",
    ")  # instantiate AMPL object and register magics\n"
   ]
  },
  {
   "cell_type": "code",
   "execution_count": 11,
   "metadata": {},
   "outputs": [
    {
     "name": "stdout",
     "output_type": "stream",
     "text": [
      "option version 'AMPL Development Version 20240606 (MSVC 19.40.33811.0, 64-bit)\\\n",
      "Licensed to 60-day trial license.\\\n",
      "Temporary license expires 20240803.\\\n",
      "Using license file \"c:\\Users\\ASUS\\miniconda3\\envs\\dunnbebes\\lib\\site-packages\\ampl_module_base\\bin\\ampl.lic\".\\\n",
      "';\n"
     ]
    }
   ],
   "source": [
    "%%ampl_eval\n",
    "option version;"
   ]
  },
  {
   "cell_type": "markdown",
   "metadata": {},
   "source": [
    "### Load Data"
   ]
  },
  {
   "cell_type": "code",
   "execution_count": null,
   "metadata": {},
   "outputs": [
    {
     "data": {
      "text/plain": [
       "'Coefficients'"
      ]
     },
     "execution_count": 12,
     "metadata": {},
     "output_type": "execute_result"
    }
   ],
   "source": [
    "\"\"\"Parameter\"\"\"\n",
    "# Demand\n",
    "demand    = pd.read_excel(\"small_data.xlsx\", sheet_name=\"Demand\")\n",
    "ProductID = sorted(demand['ProductID'].unique().tolist())\n",
    "ShipToID  = sorted(demand['ShipToID'] .unique().tolist())\n",
    "\n",
    "demand_df = (\n",
    "    demand.groupby([\"ShipToID\", \"ProductID\"])[\"DemandInKG\"]\n",
    "    .sum()\n",
    "    .reset_index()\n",
    ")\n",
    "\n",
    "full_grid   = pd.MultiIndex.from_product([ShipToID, ProductID], names=[\"ShipToID\", \"ProductID\"]).to_frame(index=False)\n",
    "demand_df   = full_grid.merge(demand_df, on=[\"ShipToID\", \"ProductID\"], how=\"left\").fillna(0)\n",
    "demand_dict = {(row['ShipToID'], row['ProductID']): round(row['DemandInKG'],4) for index, row in demand_df.iterrows()}\n",
    "\n",
    "# Supply\n",
    "supply      = pd.read_excel(\"DATA DNO\\small_data.xlsx\", sheet_name=\"Supply\")\n",
    "SupplierID  = sorted(supply['SupplierID'] .unique().tolist())\n",
    "\n",
    "full_grid   = pd.MultiIndex.from_product([SupplierID, ProductID], names=[\"SupplierID\", \"ProductID\"]).to_frame(index=False)\n",
    "supply_df   = full_grid.merge(supply, on=[\"SupplierID\", \"ProductID\"], how=\"left\").fillna(0)\n",
    "supplyCap_dict = {(row['SupplierID'], row['ProductID']): round(row['SupplierCapInKG'],4) for index, row in supply_df.iterrows()}\n",
    "\n",
    "\n",
    "# DC capacity\n",
    "facility    = pd.read_excel(\"DATA DNO\\small_data.xlsx\", sheet_name=\"Facility\")\n",
    "FacilityID  = sorted(facility['FacilityID'] .unique().tolist())\n",
    "facilityCapKG_dict  = {(row['FacilityID']): round(row['FacilityCapInKG'],4) for index, row in facility.iterrows()}\n",
    "# facilityCapCBM_dict = {(row['FacilityID']): round(row['FacilityCapInCBM'],4) for index, row in facility.iterrows()}\n",
    "\n",
    "\n",
    "\"\"\"Coefficients\"\"\"\n",
    "# Transportation Cost\n",
    "## Purchase \n",
    "\n",
    "## Transfer\n",
    "\n",
    "## To Customer\n",
    "\n",
    "# Inventory Cost\n",
    "\n",
    "# Customer Loss\n",
    "\n",
    "\n"
   ]
  },
  {
   "cell_type": "markdown",
   "metadata": {},
   "source": [
    "## Model\n",
    "### Mathematical model"
   ]
  },
  {
   "cell_type": "code",
   "execution_count": 15,
   "metadata": {},
   "outputs": [
    {
     "name": "stdout",
     "output_type": "stream",
     "text": [
      "Overwriting shipment.mod\n"
     ]
    }
   ],
   "source": [
    "%%writefile shipment.mod\n",
    "reset;\n",
    "\n",
    "# Sets\n",
    "set SupplierID;\n",
    "set FacilityID;\n",
    "set ShipToID;\n",
    "set ProductID;\n",
    "\n",
    "# Parameters\n",
    "param DemandInKG             {ShipToID,   ProductID}             >= 0 default 0;\n",
    "## Capacity\n",
    "param SupplierCapInKG        {SupplierID, ProductID}             >= 0 default 0;\n",
    "param FacilityCapInKG        {FacilityID}                        >= 0 default 0;\n",
    "# param FacilityCapInCBM       {FacilityID}                        >= 0 default 0;\n",
    "# ## Conversion rate\n",
    "# param CR_kg_to_CBM           {ProductID}                         >= 0 default 0;\n",
    "# ## Cost\n",
    "# param OrderingCost           {SupplierID, FacilityID}            >= 0 default 0;\n",
    "# param TransportCost_transfer {FacilityID, FacilityID}            >= 0 default 0;\n",
    "# param TransportCost_toShipTo {FacilityID, ShipToID}              >= 0 default 0;\n",
    "# param RentingCost            {FacilityID}                        >= 0 default 0;\n",
    "# param HandlingCost           {FacilityID}                        >= 0 default 0;\n",
    "# param CustomerLoss                                               >= 0 default 0;\n",
    "\n",
    "\n",
    "\n",
    "# Variables\n",
    "var MetDemand     {ShipToID, ProductID}                                       >= 0;\n",
    "var UnmetDemand   {ShipToID, ProductID}                                       >= 0;\n",
    "var Purchase      {SupplierID, FacilityID, ProductID}                         >= 0;\n",
    "var InventoryFac1 {FacilityID, ProductID}                                     >= 0;\n",
    "var InventoryFac2 {FacilityID, ProductID}                                     >= 0;\n",
    "var TransferIn    {originFac in FacilityID, destFac in FacilityID, ProductID} >= 0;\n",
    "var TransferOut   {originFac in FacilityID, destFac in FacilityID, ProductID} >= 0;\n",
    "var ServeCustomer {FacilityID, ShipToID, ProductID}                           >= 0;\n",
    "\n",
    "# Objective\n",
    "minimize Cost:\n",
    "    # sum {sup in SupplierID, fac in FacilityID, product in ProductID}                  Purchase [sup, fac, product] * OrderingCost [sup, fac] +\n",
    "    # sum {originfac in FacilityID, destinationfac in FacilityID, product in ProductID} TransferOut\n",
    "    \n",
    "    sum {shipto in ShipToID, product in ProductID} UnmetDemand[shipto, product];\n",
    "\n",
    "# Constraints\n",
    "## Demand\n",
    "subject to Demand_Balance {shipto in ShipToID, product in ProductID}:\n",
    "    MetDemand[shipto, product] + UnmetDemand[shipto, product] = DemandInKG[shipto, product];\n",
    "\n",
    "subject to ServeCustomer_Balance {shipto in ShipToID, product in ProductID}:\n",
    "    MetDemand[shipto, product] = sum {fac in FacilityID} ServeCustomer[fac, shipto, product];\n",
    "\n",
    "## Supply Capacity\n",
    "subject to Supply_Capacity {sup in SupplierID, product in ProductID}:\n",
    "    sum {fac in FacilityID} Purchase[sup, fac, product] <= SupplierCapInKG[sup, product];\n",
    "\n",
    "## Flow Balancing\n",
    "subject to Flow_Balance_Purchase {fac in FacilityID, product in ProductID}:\n",
    "    InventoryFac1[fac, product] = sum {sup in SupplierID} Purchase[sup, fac, product];\n",
    "\n",
    "subject to Flow_Balance_Transfer {fac in FacilityID, product in ProductID}:\n",
    "    InventoryFac2[fac, product] = InventoryFac1[fac, product]\n",
    "                                   - sum {destinationFac in FacilityID} TransferOut[fac, destinationFac, product]\n",
    "                                   + sum {originFac in FacilityID} TransferIn[originFac, fac, product];\n",
    "\n",
    "subject to Flow_Balance_Transfer {fac in FacilityID, product in ProductID}:\n",
    "    sum {destinationFac in FacilityID} TransferOut[fac, destinationFac, product]\n",
    "                                   + sum {originFac in FacilityID} TransferIn[originFac, fac, product];\n",
    "\n",
    "subject to Flow_Balance_Inventory {fac in FacilityID, product in ProductID}:\n",
    "    sum {shipto in ShipToID} ServeCustomer[fac, shipto, product] <= InventoryFac2[fac, product];\n",
    "\n",
    "## Facility Capacity\n",
    "subject to Facility_Capacity_1_inKG {fac in FacilityID}:\n",
    "    sum {product in ProductID} InventoryFac1[fac, product] <= FacilityCapInKG[fac];\n",
    "\n",
    "subject to Facility_Capacity_2_inKG {fac in FacilityID}:\n",
    "    sum {product in ProductID} InventoryFac2[fac, product] <= FacilityCapInKG[fac];\n",
    "\n",
    "subject to Facility_Capacity_1_inCBM {fac in FacilityID}:\n",
    "    sum {product in ProductID} InventoryFac1[fac, product]*CR_kg_to_CBM[product] <= FacilityCapInCBM[fac];\n",
    "\n",
    "subject to Facility_Capacity_2_inCBM {fac in FacilityID}:\n",
    "    sum {product in ProductID} InventoryFac2[fac, product]*CR_kg_to_CBM[product] <= FacilityCapInCBM[fac];"
   ]
  },
  {
   "cell_type": "markdown",
   "metadata": {},
   "source": [
    "### Load Set and Parameters"
   ]
  },
  {
   "cell_type": "code",
   "execution_count": 16,
   "metadata": {},
   "outputs": [],
   "source": [
    "ampl.read('shipment.mod')\n",
    "\n",
    "# Load data into ampl\n",
    "ampl.set['ShipToID']                    = ShipToID\n",
    "ampl.set['ProductID']                   = ProductID\n",
    "ampl.set['SupplierID']                  = SupplierID\n",
    "ampl.set['FacilityID']                  = FacilityID\n",
    "\n",
    "\n",
    "ampl.param['DemandInKG']                = demand_dict\n",
    "## Capacity\n",
    "ampl.param['SupplierCapInKG']           = supplyCap_dict\n",
    "ampl.param['FacilityCapInKG']           = facilityCapKG_dict\n",
    "# ampl.param['FacilityCapInCBM']          = facilityCapCBM_dict\n",
    "# ## Conversion\n",
    "# ampl.param['CR_kg_to_CBM']              = CR_kg_to_CBM_dict\n",
    "# ## Cost\n",
    "# ampl.param['PurchasingCost']            = CR_kg_to_CBM_dict\n",
    "# ampl.param['TransportCost_transfer']    = CR_kg_to_CBM_dict\n",
    "# ampl.param['TransportCost_toShipTo']    = CR_kg_to_CBM_dict\n",
    "# ampl.param['RentingCost']               = CR_kg_to_CBM_dict\n",
    "# ampl.param['HandlingCost']              = CR_kg_to_CBM_dict\n",
    "# ampl.param['CustomerLoss']              = CR_kg_to_CBM_dict\n"
   ]
  },
  {
   "cell_type": "markdown",
   "metadata": {},
   "source": [
    "### Solve"
   ]
  },
  {
   "cell_type": "code",
   "execution_count": 17,
   "metadata": {},
   "outputs": [
    {
     "name": "stdout",
     "output_type": "stream",
     "text": [
      "HiGHS 1.7.0:HiGHS 1.7.0: optimal solution; objective 0\n",
      "6 simplex iterations\n",
      "0 barrier iterations\n",
      ":                  MetDemand UnmetDemand    :=\n",
      "2002 '102371 - AU'      0          0\n",
      "2002 '102372 - AU'     20          0\n",
      "2003 '102371 - AU'     10          0\n",
      "2003 '102372 - AU'     30          0\n",
      "2004 '102371 - AU'      0          0\n",
      "2004 '102372 - AU'     14          0\n",
      ";\n",
      "\n"
     ]
    }
   ],
   "source": [
    "%%ampl_eval\n",
    "option solver highs;\n",
    "solve;\n",
    "display MetDemand, UnmetDemand;"
   ]
  },
  {
   "cell_type": "markdown",
   "metadata": {},
   "source": [
    "# Output"
   ]
  },
  {
   "cell_type": "code",
   "execution_count": 18,
   "metadata": {},
   "outputs": [],
   "source": [
    "\"\"\"Demand satisfaction\"\"\"\n",
    "MetDemand   = ampl.var['MetDemand']  .to_pandas()\n",
    "UnmetDemand = ampl.var['UnmetDemand'].to_pandas()\n",
    "\n",
    "result1 = MetDemand.reset_index()\n",
    "result1.columns = ['ShipToID', 'ProductID','MetDemand']\n",
    "\n",
    "result2 = UnmetDemand.reset_index()\n",
    "result2.columns = ['ShipToID', 'ProductID','UnmetDemand']\n",
    "\n",
    "demand_output = pd.merge(result1, result2, on=['ShipToID', 'ProductID'], how='outer')\n",
    "demand_output = pd.merge(demand_output, demand_df, on=['ShipToID', 'ProductID'], how='outer')\n",
    "\n"
   ]
  },
  {
   "cell_type": "code",
   "execution_count": 19,
   "metadata": {},
   "outputs": [
    {
     "name": "stdout",
     "output_type": "stream",
     "text": [
      "   ShipToID    ProductID  MetDemand  UnmetDemand  DemandInKG\n",
      "0      2002  102371 - AU          0            0         0.0\n",
      "1      2002  102372 - AU         20            0        20.0\n",
      "2      2003  102371 - AU         10            0        10.0\n",
      "3      2003  102372 - AU         30            0        30.0\n",
      "4      2004  102371 - AU          0            0         0.0\n",
      "5      2004  102372 - AU         14            0        14.0\n"
     ]
    }
   ],
   "source": [
    "print(demand_output)"
   ]
  },
  {
   "cell_type": "code",
   "execution_count": null,
   "metadata": {},
   "outputs": [],
   "source": [
    "result            = pd.ExcelWriter('DATA DNO\\checking.xlsx', engine='xlsxwriter')\n",
    "demand_output  .to_excel(result, sheet_name='Demand Balance', index=False)\n",
    "# supply_output  .to_excel(result, sheet_name='Supply Balance', index=False)\n",
    "result.close() \n"
   ]
  }
 ],
 "metadata": {
  "kernelspec": {
   "display_name": "dunnbebes",
   "language": "python",
   "name": "python3"
  },
  "language_info": {
   "codemirror_mode": {
    "name": "ipython",
    "version": 3
   },
   "file_extension": ".py",
   "mimetype": "text/x-python",
   "name": "python",
   "nbconvert_exporter": "python",
   "pygments_lexer": "ipython3",
   "version": "3.10.14"
  }
 },
 "nbformat": 4,
 "nbformat_minor": 2
}
