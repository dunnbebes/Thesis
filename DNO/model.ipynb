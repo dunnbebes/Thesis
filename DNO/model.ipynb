{
 "cells": [
  {
   "cell_type": "markdown",
   "metadata": {},
   "source": [
    "## Preparation\n",
    "### Import"
   ]
  },
  {
   "cell_type": "code",
   "execution_count": 19,
   "metadata": {},
   "outputs": [
    {
     "name": "stdout",
     "output_type": "stream",
     "text": [
      "AMPL Development Version 20240606 (MSVC 19.40.33811.0, 64-bit)\n",
      "Demo license with maintenance expiring 20260131.\n",
      "Using license file \"c:\\Users\\ASUS\\miniconda3\\envs\\dunnbebes\\lib\\site-packages\\ampl_module_base\\bin\\ampl.lic\".\n",
      "\n"
     ]
    }
   ],
   "source": [
    "import numpy as np\n",
    "import pandas as pd\n",
    "# %pip install -q amplpy gspread --upgrade\n",
    "from amplpy import AMPL, ampl_notebook\n",
    "\n",
    "ampl = ampl_notebook(\n",
    "    modules=[\"coin\",\"highs\"],  # modules to install\n",
    "    license_uuid=\"default\",  # license to use\n",
    ")  # instantiate AMPL object and register magics\n"
   ]
  },
  {
   "cell_type": "code",
   "execution_count": 20,
   "metadata": {},
   "outputs": [
    {
     "name": "stdout",
     "output_type": "stream",
     "text": [
      "option version 'AMPL Development Version 20240606 (MSVC 19.40.33811.0, 64-bit)\\\n",
      "Demo license with maintenance expiring 20260131.\\\n",
      "Using license file \"c:\\Users\\ASUS\\miniconda3\\envs\\dunnbebes\\lib\\site-packages\\ampl_module_base\\bin\\ampl.lic\".\\\n",
      "';\n"
     ]
    }
   ],
   "source": [
    "%%ampl_eval\n",
    "option version;"
   ]
  },
  {
   "cell_type": "markdown",
   "metadata": {},
   "source": [
    "### Load Data"
   ]
  },
  {
   "cell_type": "code",
   "execution_count": 21,
   "metadata": {},
   "outputs": [],
   "source": [
    "demand = pd.read_csv(\"Demand.csv\")\n",
    "ProductID = sorted(demand['ProductID'].unique().tolist())\n",
    "ShipToID  = sorted(demand['ShipToID'] .unique().tolist())\n",
    "\n",
    "demand_df = (\n",
    "    demand.groupby([\"ShipToID\", \"ProductID\"])[\"VolumeInKG\"]\n",
    "    .sum()\n",
    "    .reset_index()\n",
    ")\n",
    "\n",
    "demand_dict = {(row['ShipToID'], row['ProductID']): round(row['VolumeInKG'],4) for index, row in demand_df.iterrows()}\n"
   ]
  },
  {
   "cell_type": "markdown",
   "metadata": {},
   "source": [
    "## Model\n",
    "### Mathematical model"
   ]
  },
  {
   "cell_type": "code",
   "execution_count": 22,
   "metadata": {},
   "outputs": [
    {
     "name": "stdout",
     "output_type": "stream",
     "text": [
      "Overwriting shipment.mod\n"
     ]
    }
   ],
   "source": [
    "%%writefile shipment.mod\n",
    "reset;\n",
    "# Set\n",
    "set ShipToID;\n",
    "set ProductID;\n",
    "\n",
    "# Parameters\n",
    "param VolumeInKG {ShipToID, ProductID} >= 0 default 0;\n",
    "\n",
    "# Variables\n",
    "var MetDemand {ShipToID, ProductID} >= 0;\n",
    "var UnmetDemand {ShipToID, ProductID} >= 0;\n",
    "\n",
    "# Objective\n",
    "minimize Demand:\n",
    "    sum {s in ShipToID, p in ProductID} UnmetDemand[s, p];\n",
    "\n",
    "# Constraints\n",
    "subject to Demand_Balance {s in ShipToID, p in ProductID}:\n",
    "   MetDemand[s, p] + UnmetDemand[s, p] = VolumeInKG[s, p];\n",
    "   "
   ]
  },
  {
   "cell_type": "markdown",
   "metadata": {},
   "source": [
    "### Load Set and Parameters"
   ]
  },
  {
   "cell_type": "code",
   "execution_count": 23,
   "metadata": {},
   "outputs": [],
   "source": [
    "ampl.read('shipment.mod')\n",
    "\n",
    "# Load data into ampl\n",
    "ampl.set['ShipToID'] = ShipToID\n",
    "ampl.set['ProductID'] = ProductID\n",
    "ampl.param['VolumeInKG'] = demand_dict"
   ]
  },
  {
   "cell_type": "markdown",
   "metadata": {},
   "source": [
    "### Solve"
   ]
  },
  {
   "cell_type": "code",
   "execution_count": 24,
   "metadata": {},
   "outputs": [
    {
     "name": "stdout",
     "output_type": "stream",
     "text": [
      "Solution determined by presolve;\n",
      "objective Demand = 0.\n"
     ]
    }
   ],
   "source": [
    "%%ampl_eval\n",
    "option solver highs;\n",
    "solve;\n",
    "# display MetDemand, UnmetDemand;"
   ]
  },
  {
   "cell_type": "markdown",
   "metadata": {},
   "source": [
    "# Output"
   ]
  },
  {
   "cell_type": "code",
   "execution_count": 25,
   "metadata": {},
   "outputs": [],
   "source": [
    "MetDemand   = ampl.var['MetDemand']  .to_pandas()\n",
    "UnmetDemand = ampl.var['UnmetDemand'].to_pandas()\n",
    "\n",
    "result1 = MetDemand.reset_index()\n",
    "result1.columns = ['ShipToID', 'ProductID','MetDemand']\n",
    "\n",
    "result2 = UnmetDemand.reset_index()\n",
    "result2.columns = ['ShipToID', 'ProductID','UnmetDemand']\n",
    "\n",
    "demand_balance = pd.merge(result1, result2, on=['ShipToID', 'ProductID'], how='outer')\n",
    "\n"
   ]
  },
  {
   "cell_type": "code",
   "execution_count": 26,
   "metadata": {},
   "outputs": [
    {
     "name": "stdout",
     "output_type": "stream",
     "text": [
      "        ShipToID     ProductID  MetDemand  UnmetDemand\n",
      "0           2001   102371 - AU          0            0\n",
      "1           2001   102372 - AU          0            0\n",
      "2           2001   102377 - AU          0            0\n",
      "3           2001   102378 - AU          0            0\n",
      "4           2001   102380 - AU          0            0\n",
      "...          ...           ...        ...          ...\n",
      "340438      8012  3120063 - AU          0            0\n",
      "340439      8012  3120064 - AU          0            0\n",
      "340440      8012  3120066 - AU          0            0\n",
      "340441      8012  3120067 - AU          0            0\n",
      "340442      8012  3201208 - AU          0            0\n",
      "\n",
      "[340443 rows x 4 columns]\n"
     ]
    }
   ],
   "source": [
    "print(demand_balance)"
   ]
  },
  {
   "cell_type": "code",
   "execution_count": 27,
   "metadata": {},
   "outputs": [],
   "source": [
    "result            = pd.ExcelWriter('checking.xlsx', engine='xlsxwriter')\n",
    "demand_balance  .to_excel(result, sheet_name='demand_balance', index=False)\n",
    "result.close() \n"
   ]
  }
 ],
 "metadata": {
  "kernelspec": {
   "display_name": "dunnbebes",
   "language": "python",
   "name": "python3"
  },
  "language_info": {
   "codemirror_mode": {
    "name": "ipython",
    "version": 3
   },
   "file_extension": ".py",
   "mimetype": "text/x-python",
   "name": "python",
   "nbconvert_exporter": "python",
   "pygments_lexer": "ipython3",
   "version": "3.10.14"
  }
 },
 "nbformat": 4,
 "nbformat_minor": 2
}
