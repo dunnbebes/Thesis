{
 "cells": [
  {
   "cell_type": "code",
   "execution_count": 52,
   "metadata": {},
   "outputs": [
    {
     "name": "stdout",
     "output_type": "stream",
     "text": [
      "Text file 'jobs.txt' has been created.\n"
     ]
    }
   ],
   "source": [
    "import pandas as pd\n",
    "import numpy as np\n",
    "\n",
    "# Load the Excel file\n",
    "df = pd.read_excel(r\"D:\\D\\University\\4th year\\Thesis\\Code T5\\data.xlsx\")\n",
    "\n",
    "# Defining total number of jobs (J) and total number of machines (K)\n",
    "J = 20\n",
    "K = 8\n",
    "\n",
    "# Ensure MachineID is treated as a string\n",
    "df['MachineID'] = df['MachineID'].astype(str)\n",
    "\n",
    "# Get the unique ComponentIDs\n",
    "unique_components = df['ComponentID'].unique()\n",
    "\n",
    "# Create a list to hold all selected components\n",
    "all_components = list(unique_components)\n",
    "\n",
    "# Randomly add additional components to make the total number of jobs equal to J\n",
    "if len(all_components) < J:\n",
    "    additional_components = np.random.choice(unique_components, J - len(all_components), replace=True)\n",
    "    all_components.extend(additional_components)\n",
    "\n",
    "# Count the number of operations per component\n",
    "operation_count = df['ComponentID'].value_counts().to_dict()\n",
    "\n",
    "# Ensure all selected components are present in the operation_count\n",
    "for comp in all_components:\n",
    "    if comp not in operation_count:\n",
    "        operation_count[comp] = 0\n",
    "\n",
    "# Defining a deadline for each component (random or fixed for simplicity)\n",
    "deadlines = {i: 150 for i in range(J)}\n",
    "\n",
    "# Creating the text file in the specified format\n",
    "output_file = 'jobs.txt'\n",
    "\n",
    "with open(output_file, 'w') as f:\n",
    "    f.write(f\"{J}\\n\")\n",
    "    f.write(f\"{K}\\n\")\n",
    "    f.write(\" \".join(str(operation_count[comp_id]) for comp_id in sorted(operation_count.keys())) + \"\\n\")\n",
    "    f.write(\" \".join(str(deadlines[comp_id]) for comp_id in range(J)) + \"\\n\")\n",
    "    job_id = 1\n",
    "    for comp_id in all_components:\n",
    "        comp_df = df[df['ComponentID'] == comp_id]\n",
    "        for op_id, row in enumerate(comp_df.itertuples(), start=1):\n",
    "            machines = row.MachineID.replace(' ', '').split(',')\n",
    "            for machine in machines:\n",
    "                f.write(f\"{job_id} {op_id} {machine} {row.Duration}\\n\")\n",
    "        job_id += 1\n",
    "\n",
    "print(f\"Text file '{output_file}' has been created.\")\n"
   ]
  },
  {
   "cell_type": "code",
   "execution_count": 19,
   "metadata": {},
   "outputs": [
    {
     "name": "stdout",
     "output_type": "stream",
     "text": [
      "[[[4 9 2 4 6]\n",
      "  [6 8 3 2 5]]\n",
      "\n",
      " [[3 8 8 3 5]\n",
      "  [9 2 8 3 8]]\n",
      "\n",
      " [[6 5 2 9 4]\n",
      "  [4 8 3 6 4]]]\n",
      "[[5.  4.8]\n",
      " [5.4 6. ]\n",
      " [5.2 5. ]]\n",
      "31.400000000000002\n"
     ]
    }
   ],
   "source": [
    "import numpy as np\n",
    "\n",
    "A = np.random.randint(2, 10, size = (3, 2, 5)) \n",
    "print(A)\n",
    "\n",
    "\n",
    "\n",
    "B = np.mean(A, axis = 2)\n",
    "print(B)\n",
    "\n",
    "C = np.sum(B)\n",
    "print(C)\n"
   ]
  },
  {
   "cell_type": "code",
   "execution_count": 22,
   "metadata": {},
   "outputs": [
    {
     "ename": "TypeError",
     "evalue": "only integer scalar arrays can be converted to a scalar index",
     "output_type": "error",
     "traceback": [
      "\u001b[1;31m---------------------------------------------------------------------------\u001b[0m",
      "\u001b[1;31mTypeError\u001b[0m                                 Traceback (most recent call last)",
      "Cell \u001b[1;32mIn[22], line 13\u001b[0m\n\u001b[0;32m     11\u001b[0m p_mean \u001b[38;5;241m=\u001b[39m np\u001b[38;5;241m.\u001b[39mmean(p_ijk\u001b[38;5;241m*\u001b[39mh_ijk, axis\u001b[38;5;241m=\u001b[39m\u001b[38;5;241m2\u001b[39m)\n\u001b[0;32m     12\u001b[0m p_mean_left \u001b[38;5;241m=\u001b[39m np\u001b[38;5;241m.\u001b[39mzeros(J)\n\u001b[1;32m---> 13\u001b[0m p_mean_left[JSet] \u001b[38;5;241m=\u001b[39m np\u001b[38;5;241m.\u001b[39msum(\u001b[43mp_mean\u001b[49m\u001b[43m[\u001b[49m\u001b[43mOP\u001b[49m\u001b[43m[\u001b[49m\u001b[43mJSet\u001b[49m\u001b[43m]\u001b[49m\u001b[43m:\u001b[49m\u001b[43m,\u001b[49m\u001b[43m \u001b[49m\u001b[43mJSet\u001b[49m\u001b[43m]\u001b[49m)\n\u001b[0;32m     16\u001b[0m \u001b[38;5;66;03m# Get n_j (which should be the size of the first dimension of p_ijk)\u001b[39;00m\n\u001b[0;32m     17\u001b[0m n_j \u001b[38;5;241m=\u001b[39m np\u001b[38;5;241m.\u001b[39marray([\u001b[38;5;241m4\u001b[39m, \u001b[38;5;241m4\u001b[39m, \u001b[38;5;241m4\u001b[39m, \u001b[38;5;241m5\u001b[39m, \u001b[38;5;241m4\u001b[39m])\n",
      "\u001b[1;31mTypeError\u001b[0m: only integer scalar arrays can be converted to a scalar index"
     ]
    }
   ],
   "source": [
    "import numpy as np\n",
    "\n",
    "p_ijk = np.random.randint(0, 15, size  = (5, 4, 2))\n",
    "h_ijk = np.random.randint(0, 2, size= (5, 4, 2))\n",
    "d_j = np.array([10, 12, 10, 11, 10])\n",
    "T_cur = 2\n",
    "JSet = [0, 1, 2, 3, 4]\n",
    "J = 10\n",
    "Tard_job = [1, 2]\n",
    "\n",
    "p_mean = np.mean(p_ijk*h_ijk, axis=2)\n",
    "p_mean_left = np.zeros(J)\n",
    "p_mean_left[JSet] = np.sum(p_mean[OP[JSet]:, JSet])\n",
    "\n",
    "\n",
    "# Get n_j (which should be the size of the first dimension of p_ijk)\n",
    "n_j = np.array([4, 4, 4, 5, 4])\n",
    "n_ops_left_j = np.array([1, 1, 2, 2, 4])\n",
    "\n",
    "OP = n_j - n_ops_left_j\n",
    "estimated_tardiness = np.full(J, np.inf)\n",
    "for j in Tard_job:\n",
    "    estimated_tardiness[j] = T_cur + np.sum(p_mean[OP[j]:n_j[j], j] - d_j[j])\n",
    "\n",
    "j = np.argmin(estimated_tardiness)\n",
    "\n",
    "print(estimated_tardiness)\n",
    "print(j)\n"
   ]
  },
  {
   "cell_type": "code",
   "execution_count": 3,
   "metadata": {},
   "outputs": [
    {
     "name": "stdout",
     "output_type": "stream",
     "text": [
      "[[5 0 9 3 0 6 6 2 7 8]\n",
      " [4 3 4 2 7 0 9 7 8 2]\n",
      " [4 1 0 1 1 4 6 0 6 7]\n",
      " [0 7 0 2 0 3 6 3 1 0]\n",
      " [6 3 8 7 9 6 6 7 3 0]]\n",
      "[[4 1 0 1 1 4 6 0 6 7]\n",
      " [0 7 0 2 0 3 6 3 1 0]\n",
      " [6 3 8 7 9 6 6 7 3 0]]\n"
     ]
    }
   ],
   "source": [
    "import numpy as np\n",
    "\n",
    "A = np.random.randint(0, 10, size= (5, 10))\n",
    "print(A)\n",
    "B = A[2:]\n",
    "                       \n",
    "print(B)"
   ]
  }
 ],
 "metadata": {
  "kernelspec": {
   "display_name": "dunnbebes",
   "language": "python",
   "name": "python3"
  },
  "language_info": {
   "codemirror_mode": {
    "name": "ipython",
    "version": 3
   },
   "file_extension": ".py",
   "mimetype": "text/x-python",
   "name": "python",
   "nbconvert_exporter": "python",
   "pygments_lexer": "ipython3",
   "version": "3.10.14"
  }
 },
 "nbformat": 4,
 "nbformat_minor": 2
}
