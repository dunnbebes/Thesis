{
 "cells": [
  {
   "cell_type": "code",
   "execution_count": 5,
   "metadata": {},
   "outputs": [
    {
     "name": "stdout",
     "output_type": "stream",
     "text": [
      "Text file 'data\\jobs.txt' has been created.\n"
     ]
    }
   ],
   "source": [
    "import pandas as pd\n",
    "import numpy as np\n",
    "\n",
    "# Load the Excel file\n",
    "df = pd.read_excel(\"data.xlsx\")\n",
    "\n",
    "# Defining total number of jobs (J) and total number of machines (K)\n",
    "J = 54\n",
    "K = 30\n",
    "\n",
    "# Ensure MachineID is treated as a string\n",
    "df['MachineID'] = df['MachineID'].astype(str)\n",
    "\n",
    "# Get the unique ComponentIDs\n",
    "unique_components = df['ComponentID'].unique()\n",
    "\n",
    "# Create a list to hold all selected components\n",
    "all_components = list(unique_components)\n",
    "\n",
    "# # Randomly add additional components to make the total number of jobs equal to J\n",
    "# if len(all_components) < J:\n",
    "#     additional_components = np.random.choice(unique_components, J - len(all_components), replace=True)\n",
    "#     all_components.extend(additional_components)\n",
    "\n",
    "while len(all_components) < J:\n",
    "    all_components.extend(unique_components)\n",
    "\n",
    "# Count the number of operations per component\n",
    "operation_count = df['ComponentID'].value_counts().to_dict()\n",
    "\n",
    "# Ensure all selected components are present in the operation_count\n",
    "for comp in all_components:\n",
    "    if comp not in operation_count:\n",
    "        operation_count[comp] = 0\n",
    "\n",
    "# Defining a deadline for each component (random or fixed for simplicity)\n",
    "deadlines = {i: 330 for i in range(J)}\n",
    "\n",
    "# Creating the text file in the specified format\n",
    "output_file = 'data\\jobs.txt'\n",
    "\n",
    "with open(output_file, 'w') as f:\n",
    "    f.write(f\"{J}\\n\")\n",
    "    f.write(f\"{K}\\n\")\n",
    "    f.write(\" \".join(str(operation_count[comp_id]) for comp_id in sorted(operation_count.keys())) + \"\\n\")\n",
    "    f.write(\" \".join(str(deadlines[comp_id]) for comp_id in range(J)) + \"\\n\")\n",
    "    job_id = 1\n",
    "    for comp_id in all_components:\n",
    "        comp_df = df[df['ComponentID'] == comp_id]\n",
    "        for op_id, row in enumerate(comp_df.itertuples(), start=1):\n",
    "            machines = row.MachineID.replace(' ', '').split(',')\n",
    "            for machine in machines:\n",
    "                f.write(f\"{job_id} {op_id} {machine} {row.Duration}\\n\")\n",
    "        job_id += 1\n",
    "\n",
    "print(f\"Text file '{output_file}' has been created.\")\n"
   ]
  },
  {
   "cell_type": "code",
   "execution_count": 4,
   "metadata": {},
   "outputs": [
    {
     "data": {
      "text/plain": [
       "array([ 1,  2,  3,  4,  5,  6,  7,  8,  9, 10, 11, 12, 13, 14, 15, 16, 17,\n",
       "       18], dtype=int64)"
      ]
     },
     "metadata": {},
     "output_type": "display_data"
    }
   ],
   "source": [
    "display(unique_components)"
   ]
  }
 ],
 "metadata": {
  "kernelspec": {
   "display_name": "dunnbebes",
   "language": "python",
   "name": "python3"
  },
  "language_info": {
   "codemirror_mode": {
    "name": "ipython",
    "version": 3
   },
   "file_extension": ".py",
   "mimetype": "text/x-python",
   "name": "python",
   "nbconvert_exporter": "python",
   "pygments_lexer": "ipython3",
   "version": "3.10.14"
  }
 },
 "nbformat": 4,
 "nbformat_minor": 2
}
